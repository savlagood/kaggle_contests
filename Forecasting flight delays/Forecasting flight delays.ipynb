{
 "cells": [
  {
   "cell_type": "markdown",
   "id": "135d0c0e-0ae8-47f6-8550-b0b1f1d42afa",
   "metadata": {},
   "source": [
    "# Forecasting flight delays\n",
    "## Reading the data\n",
    "Features discription:\n",
    "- Month, DayofMonth, DayOfWeek - month, day of month, day of week\n",
    "- DepTime - departure time\n",
    "- UniqueCarrier - carrier code\n",
    "- Origin - place of departure\n",
    "- Dest - place of destination\n",
    "- Distance - distance between airports\n",
    "- dep_delayed_15min - delay of departure by 15 minutes or more (target sign)"
   ]
  },
  {
   "cell_type": "code",
   "execution_count": 112,
   "id": "023c1f57-9c85-4c9f-ac79-594e46fdd458",
   "metadata": {},
   "outputs": [],
   "source": [
    "import pandas as pd\n",
    "import numpy as np\n",
    "import seaborn as sns\n",
    "import matplotlib.pyplot as plt\n",
    "\n",
    "from sklearn.preprocessing import LabelEncoder\n",
    "from sklearn.model_selection import train_test_split\n",
    "from sklearn.metrics import accuracy_score\n",
    "\n",
    "import warnings\n",
    "warnings.filterwarnings('ignore')"
   ]
  },
  {
   "cell_type": "code",
   "execution_count": 113,
   "id": "0d19ba91-c2ed-47c9-bb42-814704ba968f",
   "metadata": {},
   "outputs": [
    {
     "data": {
      "text/html": [
       "<div>\n",
       "<style scoped>\n",
       "    .dataframe tbody tr th:only-of-type {\n",
       "        vertical-align: middle;\n",
       "    }\n",
       "\n",
       "    .dataframe tbody tr th {\n",
       "        vertical-align: top;\n",
       "    }\n",
       "\n",
       "    .dataframe thead th {\n",
       "        text-align: right;\n",
       "    }\n",
       "</style>\n",
       "<table border=\"1\" class=\"dataframe\">\n",
       "  <thead>\n",
       "    <tr style=\"text-align: right;\">\n",
       "      <th></th>\n",
       "      <th>Month</th>\n",
       "      <th>DayofMonth</th>\n",
       "      <th>DayOfWeek</th>\n",
       "      <th>DepTime</th>\n",
       "      <th>UniqueCarrier</th>\n",
       "      <th>Origin</th>\n",
       "      <th>Dest</th>\n",
       "      <th>Distance</th>\n",
       "      <th>dep_delayed_15min</th>\n",
       "    </tr>\n",
       "  </thead>\n",
       "  <tbody>\n",
       "    <tr>\n",
       "      <th>0</th>\n",
       "      <td>c-8</td>\n",
       "      <td>c-21</td>\n",
       "      <td>c-7</td>\n",
       "      <td>1934</td>\n",
       "      <td>AA</td>\n",
       "      <td>ATL</td>\n",
       "      <td>DFW</td>\n",
       "      <td>732</td>\n",
       "      <td>N</td>\n",
       "    </tr>\n",
       "    <tr>\n",
       "      <th>1</th>\n",
       "      <td>c-4</td>\n",
       "      <td>c-20</td>\n",
       "      <td>c-3</td>\n",
       "      <td>1548</td>\n",
       "      <td>US</td>\n",
       "      <td>PIT</td>\n",
       "      <td>MCO</td>\n",
       "      <td>834</td>\n",
       "      <td>N</td>\n",
       "    </tr>\n",
       "    <tr>\n",
       "      <th>2</th>\n",
       "      <td>c-9</td>\n",
       "      <td>c-2</td>\n",
       "      <td>c-5</td>\n",
       "      <td>1422</td>\n",
       "      <td>XE</td>\n",
       "      <td>RDU</td>\n",
       "      <td>CLE</td>\n",
       "      <td>416</td>\n",
       "      <td>N</td>\n",
       "    </tr>\n",
       "    <tr>\n",
       "      <th>3</th>\n",
       "      <td>c-11</td>\n",
       "      <td>c-25</td>\n",
       "      <td>c-6</td>\n",
       "      <td>1015</td>\n",
       "      <td>OO</td>\n",
       "      <td>DEN</td>\n",
       "      <td>MEM</td>\n",
       "      <td>872</td>\n",
       "      <td>N</td>\n",
       "    </tr>\n",
       "    <tr>\n",
       "      <th>4</th>\n",
       "      <td>c-10</td>\n",
       "      <td>c-7</td>\n",
       "      <td>c-6</td>\n",
       "      <td>1828</td>\n",
       "      <td>WN</td>\n",
       "      <td>MDW</td>\n",
       "      <td>OMA</td>\n",
       "      <td>423</td>\n",
       "      <td>Y</td>\n",
       "    </tr>\n",
       "  </tbody>\n",
       "</table>\n",
       "</div>"
      ],
      "text/plain": [
       "  Month DayofMonth DayOfWeek  DepTime UniqueCarrier Origin Dest  Distance  \\\n",
       "0   c-8       c-21       c-7     1934            AA    ATL  DFW       732   \n",
       "1   c-4       c-20       c-3     1548            US    PIT  MCO       834   \n",
       "2   c-9        c-2       c-5     1422            XE    RDU  CLE       416   \n",
       "3  c-11       c-25       c-6     1015            OO    DEN  MEM       872   \n",
       "4  c-10        c-7       c-6     1828            WN    MDW  OMA       423   \n",
       "\n",
       "  dep_delayed_15min  \n",
       "0                 N  \n",
       "1                 N  \n",
       "2                 N  \n",
       "3                 N  \n",
       "4                 Y  "
      ]
     },
     "execution_count": 113,
     "metadata": {},
     "output_type": "execute_result"
    }
   ],
   "source": [
    "train_data = pd.read_csv(\"data/flight_delays_train.csv\")\n",
    "train_data.head()"
   ]
  },
  {
   "cell_type": "code",
   "execution_count": 114,
   "id": "472f657d-3465-4596-81d1-55864a3d56bf",
   "metadata": {},
   "outputs": [],
   "source": [
    "train_df = train_data.copy()"
   ]
  },
  {
   "cell_type": "code",
   "execution_count": 115,
   "id": "0a479ea0-919e-449d-bcdd-12dbcae2bba1",
   "metadata": {},
   "outputs": [],
   "source": [
    "test_df = pd.read_csv(\"data/flight_delays_test.csv\")"
   ]
  },
  {
   "cell_type": "markdown",
   "id": "8a4411c8-8037-4aee-a907-1c600bfede13",
   "metadata": {},
   "source": [
    "## EDA\n",
    "### Data analysis"
   ]
  },
  {
   "cell_type": "code",
   "execution_count": 116,
   "id": "c31fb3d5-9726-4839-b439-a9aea8390539",
   "metadata": {},
   "outputs": [],
   "source": [
    "train_df[\"delayed\"] = train_df[\"dep_delayed_15min\"].apply(lambda v: int(v == 'Y'))\n",
    "train_df.drop(columns=['dep_delayed_15min'], inplace=True)"
   ]
  },
  {
   "cell_type": "code",
   "execution_count": 117,
   "id": "94283321-d478-48b2-8063-bf045f027bf3",
   "metadata": {},
   "outputs": [
    {
     "name": "stdout",
     "output_type": "stream",
     "text": [
      "Month: 12\n",
      "DayofMonth: 31\n",
      "DayOfWeek: 7\n",
      "UniqueCarrier: 22\n",
      "Origin: 289\n",
      "Dest: 289\n"
     ]
    }
   ],
   "source": [
    "cat_columns = train_df.select_dtypes(\"object\").columns\n",
    "for column in cat_columns:\n",
    "    print(f\"{column}: {train_df[column].nunique()}\")"
   ]
  },
  {
   "cell_type": "code",
   "execution_count": 118,
   "id": "1823f838-c7ba-4284-b6b3-aa5adc204e1f",
   "metadata": {},
   "outputs": [
    {
     "data": {
      "image/png": "[encoded data removed]",
      "text/plain": [
       "<Figure size 1400x400 with 2 Axes>"
      ]
     },
     "metadata": {},
     "output_type": "display_data"
    }
   ],
   "source": [
    "column = \"UniqueCarrier\"\n",
    "# Create a bar plot for each categorical column\n",
    "plt.figure(figsize=(14, 4))\n",
    "# fig, axes = plt.subplots(1, 2, sharex=True, figsize=(14, 4))\n",
    "\n",
    "# count plot divided by delayed feature\n",
    "plt.subplot(1, 2, 1)\n",
    "sns.countplot(data=train_df, x=column, hue=\"delayed\", palette=\"viridis\") #, ax=axes[0])\n",
    "# axes[0].xticks(rotation=45)\n",
    "plt.xlabel(\"Frequency\")\n",
    "plt.title(f\"Frequency count by {column}\")\n",
    "\n",
    "# Ratio of delays to the total number of flights\n",
    "plt.subplot(1, 2, 2)\n",
    "sns.barplot(data=train_df, x=column, y=\"delayed\", palette=\"viridis\") #, ax=axes[1])\n",
    "# axes[1].xticks(rotation=45)\n",
    "plt.xlabel(\"Ratio\")\n",
    "plt.title(f\"Ratio count by {column}\")\n",
    "\n",
    "plt.tight_layout()\n",
    "# plt.show()"
   ]
  },
  {
   "cell_type": "markdown",
   "id": "60a819ae-fab8-4902-9c52-864a82b334c3",
   "metadata": {},
   "source": [
    "### Transforming data"
   ]
  },
  {
   "cell_type": "code",
   "execution_count": 119,
   "id": "b6759a70-7643-4473-b457-66d9d89fa3fc",
   "metadata": {},
   "outputs": [],
   "source": [
    "for _df in [train_df, test_df]:\n",
    "    for column in [\"Month\", \"DayofMonth\", \"DayOfWeek\"]:\n",
    "        _df[column] = _df[column].apply(lambda code: int(code[2:]))"
   ]
  },
  {
   "cell_type": "code",
   "execution_count": 120,
   "id": "036fb110-b861-404d-97a2-9e5fedf1e6a0",
   "metadata": {},
   "outputs": [],
   "source": [
    "label_encoder = LabelEncoder()\n",
    "\n",
    "for column in cat_columns:\n",
    "    unique_values = set(train_df[column]) | set(test_df[column])\n",
    "    label_encoder.fit(list(unique_values))\n",
    "    \n",
    "    train_df[column] = label_encoder.transform(train_df[column])\n",
    "    test_df[column] = label_encoder.transform(test_df[column])"
   ]
  },
  {
   "cell_type": "code",
   "execution_count": 121,
   "id": "d4248768-6681-46cc-8847-6f64294d3402",
   "metadata": {},
   "outputs": [
    {
     "data": {
      "text/html": [
       "<div>\n",
       "<style scoped>\n",
       "    .dataframe tbody tr th:only-of-type {\n",
       "        vertical-align: middle;\n",
       "    }\n",
       "\n",
       "    .dataframe tbody tr th {\n",
       "        vertical-align: top;\n",
       "    }\n",
       "\n",
       "    .dataframe thead th {\n",
       "        text-align: right;\n",
       "    }\n",
       "</style>\n",
       "<table border=\"1\" class=\"dataframe\">\n",
       "  <thead>\n",
       "    <tr style=\"text-align: right;\">\n",
       "      <th></th>\n",
       "      <th>Month</th>\n",
       "      <th>DayofMonth</th>\n",
       "      <th>DayOfWeek</th>\n",
       "      <th>DepTime</th>\n",
       "      <th>UniqueCarrier</th>\n",
       "      <th>Origin</th>\n",
       "      <th>Dest</th>\n",
       "      <th>Distance</th>\n",
       "      <th>delayed</th>\n",
       "    </tr>\n",
       "  </thead>\n",
       "  <tbody>\n",
       "    <tr>\n",
       "      <th>0</th>\n",
       "      <td>7</td>\n",
       "      <td>20</td>\n",
       "      <td>6</td>\n",
       "      <td>1934</td>\n",
       "      <td>1</td>\n",
       "      <td>19</td>\n",
       "      <td>82</td>\n",
       "      <td>732</td>\n",
       "      <td>0</td>\n",
       "    </tr>\n",
       "    <tr>\n",
       "      <th>1</th>\n",
       "      <td>3</td>\n",
       "      <td>19</td>\n",
       "      <td>2</td>\n",
       "      <td>1548</td>\n",
       "      <td>19</td>\n",
       "      <td>226</td>\n",
       "      <td>180</td>\n",
       "      <td>834</td>\n",
       "      <td>0</td>\n",
       "    </tr>\n",
       "    <tr>\n",
       "      <th>2</th>\n",
       "      <td>8</td>\n",
       "      <td>1</td>\n",
       "      <td>4</td>\n",
       "      <td>1422</td>\n",
       "      <td>21</td>\n",
       "      <td>239</td>\n",
       "      <td>62</td>\n",
       "      <td>416</td>\n",
       "      <td>0</td>\n",
       "    </tr>\n",
       "    <tr>\n",
       "      <th>3</th>\n",
       "      <td>10</td>\n",
       "      <td>24</td>\n",
       "      <td>5</td>\n",
       "      <td>1015</td>\n",
       "      <td>16</td>\n",
       "      <td>81</td>\n",
       "      <td>184</td>\n",
       "      <td>872</td>\n",
       "      <td>0</td>\n",
       "    </tr>\n",
       "    <tr>\n",
       "      <th>4</th>\n",
       "      <td>9</td>\n",
       "      <td>6</td>\n",
       "      <td>5</td>\n",
       "      <td>1828</td>\n",
       "      <td>20</td>\n",
       "      <td>182</td>\n",
       "      <td>210</td>\n",
       "      <td>423</td>\n",
       "      <td>1</td>\n",
       "    </tr>\n",
       "  </tbody>\n",
       "</table>\n",
       "</div>"
      ],
      "text/plain": [
       "   Month  DayofMonth  DayOfWeek  DepTime  UniqueCarrier  Origin  Dest  \\\n",
       "0      7          20          6     1934              1      19    82   \n",
       "1      3          19          2     1548             19     226   180   \n",
       "2      8           1          4     1422             21     239    62   \n",
       "3     10          24          5     1015             16      81   184   \n",
       "4      9           6          5     1828             20     182   210   \n",
       "\n",
       "   Distance  delayed  \n",
       "0       732        0  \n",
       "1       834        0  \n",
       "2       416        0  \n",
       "3       872        0  \n",
       "4       423        1  "
      ]
     },
     "execution_count": 121,
     "metadata": {},
     "output_type": "execute_result"
    }
   ],
   "source": [
    "train_df.head()"
   ]
  },
  {
   "cell_type": "code",
   "execution_count": 125,
   "id": "c0e9ebb8-17af-4452-a16b-9f3d1f25d90d",
   "metadata": {},
   "outputs": [
    {
     "data": {
      "image/png": "[encoded data removed]",
      "text/plain": [
       "<Figure size 800x400 with 2 Axes>"
      ]
     },
     "metadata": {},
     "output_type": "display_data"
    }
   ],
   "source": [
    "from sklearn.preprocessing import StandardScaler\n",
    "\n",
    "X = train_df.drop(columns=['delayed'])\n",
    "y = train_df['delayed']\n",
    "\n",
    "X_original = X.copy()\n",
    "\n",
    "# Apply log scaling to Distance feature\n",
    "X['Distance'] = np.log1p(X['Distance'])\n",
    "test_df['Distance'] = np.log1p(test_df['Distance'])\n",
    "\n",
    "# Standartize the entire feature matrix X\n",
    "scaler = StandardScaler()\n",
    "X_data = scaler.fit_transform(X)\n",
    "# test_df = scaler.transform(test_df)\n",
    "\n",
    "# Looking at transformed Distance feature\n",
    "feature = 'Distance'\n",
    "plt.figure(figsize=(8, 4))\n",
    "\n",
    "# Original data\n",
    "plt.subplot(1, 2, 1)\n",
    "sns.histplot(X_original[feature], bins=30, kde=True, label='Original')\n",
    "plt.title(f\"{feature} - Original\")\n",
    "plt.xlabel(feature)\n",
    "plt.ylabel(\"Frequency\")\n",
    "plt.legend()\n",
    "plt.grid()\n",
    "\n",
    "# Transformed data\n",
    "plt.subplot(1, 2, 2)\n",
    "sns.histplot(X[feature], bins=30, color='red', kde=True, label='Transformed')\n",
    "plt.title(f\"{feature} - Transformed\")\n",
    "plt.xlabel(feature)\n",
    "plt.ylabel(\"Frequency\")\n",
    "plt.legend()\n",
    "plt.grid()\n",
    "\n",
    "plt.tight_layout()"
   ]
  },
  {
   "cell_type": "code",
   "execution_count": 123,
   "id": "d3b7ba3e-9ca5-477e-a45d-84ec5f983239",
   "metadata": {},
   "outputs": [
    {
     "name": "stdout",
     "output_type": "stream",
     "text": [
      "(80000, 8) (20000, 8) (80000,) (20000,)\n"
     ]
    }
   ],
   "source": [
    "X_train, X_test, y_train, y_test = train_test_split(X_data, y, test_size=0.2, random_state=42)\n",
    "print(X_train.shape, X_test.shape, y_train.shape, y_test.shape)"
   ]
  },
  {
   "cell_type": "markdown",
   "id": "f747ca63-3970-4b17-88ae-a8da114ddb80",
   "metadata": {},
   "source": [
    "## Machine learning\n",
    "### Selecting the best ML model\n",
    "#### Decision tree"
   ]
  },
  {
   "cell_type": "code",
   "execution_count": 105,
   "id": "2e609a39-b135-4073-b89a-ddf4eeb9e636",
   "metadata": {},
   "outputs": [],
   "source": [
    "from sklearn.tree import DecisionTreeClassifier\n",
    "from sklearn.model_selection import GridSearchCV"
   ]
  },
  {
   "cell_type": "markdown",
   "id": "44352e20-cb3e-446f-88ea-2dfa2696b3bd",
   "metadata": {},
   "source": [
    "##### Train data"
   ]
  },
  {
   "cell_type": "code",
   "execution_count": 106,
   "id": "bff64127-b260-4925-a9a3-c6bc939861e1",
   "metadata": {},
   "outputs": [],
   "source": [
    "# dt_clf = GridSearchCV(\n",
    "#     DecisionTreeClassifier(random_state=42),\n",
    "#     {\n",
    "#         \"max_depth\": range(1, 16),\n",
    "#         \"criterion\": [\"gini\", \"entropy\", \"log_loss\"],\n",
    "#     },\n",
    "#     cv=5,\n",
    "#     n_jobs=-1,\n",
    "#     verbose=2,\n",
    "# )\n",
    "\n",
    "# dt_clf.fit(X_train, y_train)\n",
    "\n",
    "# print(dt_clf.best_score_, dt_clf.best_estimator_)"
   ]
  },
  {
   "cell_type": "code",
   "execution_count": 107,
   "id": "759ab2f1-0985-44d7-93c6-d4865efa3a88",
   "metadata": {},
   "outputs": [
    {
     "name": "stdout",
     "output_type": "stream",
     "text": [
      "0.8154 0.8145\n"
     ]
    }
   ],
   "source": [
    "dt = DecisionTreeClassifier(max_depth=7, random_state=42)\n",
    "dt.fit(X_train, y_train)\n",
    "\n",
    "print(accuracy_score(y_train, dt.predict(X_train)),\n",
    "      accuracy_score(y_test, dt.predict(X_test)))"
   ]
  },
  {
   "cell_type": "markdown",
   "id": "1b0db04b-a1a4-4d74-bd44-a7c7fe5a8aee",
   "metadata": {},
   "source": [
    "##### Test data"
   ]
  },
  {
   "cell_type": "code",
   "execution_count": null,
   "id": "a81b6bab-9169-46f0-877a-bd8b5fe9080e",
   "metadata": {},
   "outputs": [],
   "source": []
  },
  {
   "cell_type": "code",
   "execution_count": null,
   "id": "a2744a71-c157-4ac9-b916-0532db2e89b1",
   "metadata": {},
   "outputs": [],
   "source": []
  },
  {
   "cell_type": "code",
   "execution_count": null,
   "id": "9efa8897-cc02-45e8-b975-88c371f834db",
   "metadata": {},
   "outputs": [],
   "source": []
  },
  {
   "cell_type": "code",
   "execution_count": null,
   "id": "cab53bd1-d255-4f4c-907c-6c4a2c39bddd",
   "metadata": {},
   "outputs": [],
   "source": []
  },
  {
   "cell_type": "code",
   "execution_count": null,
   "id": "6998b802-56f6-4140-81ab-3927aa3dad45",
   "metadata": {},
   "outputs": [],
   "source": []
  },
  {
   "cell_type": "code",
   "execution_count": null,
   "id": "3c94ce25-25da-430c-8f44-c58b71fdd3be",
   "metadata": {},
   "outputs": [],
   "source": []
  },
  {
   "cell_type": "code",
   "execution_count": null,
   "id": "ece9170d-15f4-4d88-b03e-b86304917428",
   "metadata": {},
   "outputs": [],
   "source": []
  },
  {
   "cell_type": "code",
   "execution_count": null,
   "id": "fc94951a-11a9-4de3-b15f-d7c87e61a1c6",
   "metadata": {},
   "outputs": [],
   "source": []
  },
  {
   "cell_type": "code",
   "execution_count": null,
   "id": "712b0ce9-2d7f-42d1-b35c-06ce40a7791a",
   "metadata": {},
   "outputs": [],
   "source": []
  }
 ],
 "metadata": {
  "kernelspec": {
   "display_name": "Python 3 (ipykernel)",
   "language": "python",
   "name": "python3"
  },
  "language_info": {
   "codemirror_mode": {
    "name": "ipython",
    "version": 3
   },
   "file_extension": ".py",
   "mimetype": "text/x-python",
   "name": "python",
   "nbconvert_exporter": "python",
   "pygments_lexer": "ipython3",
   "version": "3.11.4"
  }
 },
 "nbformat": 4,
 "nbformat_minor": 5
}
