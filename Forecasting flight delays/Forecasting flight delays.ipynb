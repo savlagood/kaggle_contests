{
 "cells": [
  {
   "cell_type": "markdown",
   "id": "135d0c0e-0ae8-47f6-8550-b0b1f1d42afa",
   "metadata": {},
   "source": [
    "# Forecasting flight delays\n",
    "## Reading the data\n",
    "Features discription:\n",
    "- Month, DayofMonth, DayOfWeek - month, day of month, day of week\n",
    "- DepTime - departure time\n",
    "- UniqueCarrier - carrier code\n",
    "- Origin - place of departure\n",
    "- Dest - place of destination\n",
    "- Distance - distance between airports\n",
    "- dep_delayed_15min - delay of departure by 15 minutes or more (target sign)"
   ]
  },
  {
   "cell_type": "code",
   "execution_count": 1,
   "id": "023c1f57-9c85-4c9f-ac79-594e46fdd458",
   "metadata": {},
   "outputs": [],
   "source": [
    "import pandas as pd\n",
    "import numpy as np\n",
    "import seaborn as sns\n",
    "import matplotlib.pyplot as plt\n",
    "\n",
    "from sklearn.preprocessing import LabelEncoder\n",
    "from sklearn.model_selection import train_test_split\n",
    "from sklearn.metrics import accuracy_score\n",
    "\n",
    "import warnings\n",
    "warnings.filterwarnings('ignore')"
   ]
  },
  {
   "cell_type": "code",
   "execution_count": 2,
   "id": "0d19ba91-c2ed-47c9-bb42-814704ba968f",
   "metadata": {},
   "outputs": [
    {
     "data": {
      "text/html": [
       "<div>\n",
       "<style scoped>\n",
       "    .dataframe tbody tr th:only-of-type {\n",
       "        vertical-align: middle;\n",
       "    }\n",
       "\n",
       "    .dataframe tbody tr th {\n",
       "        vertical-align: top;\n",
       "    }\n",
       "\n",
       "    .dataframe thead th {\n",
       "        text-align: right;\n",
       "    }\n",
       "</style>\n",
       "<table border=\"1\" class=\"dataframe\">\n",
       "  <thead>\n",
       "    <tr style=\"text-align: right;\">\n",
       "      <th></th>\n",
       "      <th>Month</th>\n",
       "      <th>DayofMonth</th>\n",
       "      <th>DayOfWeek</th>\n",
       "      <th>DepTime</th>\n",
       "      <th>UniqueCarrier</th>\n",
       "      <th>Origin</th>\n",
       "      <th>Dest</th>\n",
       "      <th>Distance</th>\n",
       "      <th>dep_delayed_15min</th>\n",
       "    </tr>\n",
       "    <tr>\n",
       "      <th>id</th>\n",
       "      <th></th>\n",
       "      <th></th>\n",
       "      <th></th>\n",
       "      <th></th>\n",
       "      <th></th>\n",
       "      <th></th>\n",
       "      <th></th>\n",
       "      <th></th>\n",
       "      <th></th>\n",
       "    </tr>\n",
       "  </thead>\n",
       "  <tbody>\n",
       "    <tr>\n",
       "      <th>0</th>\n",
       "      <td>c-8</td>\n",
       "      <td>c-21</td>\n",
       "      <td>c-7</td>\n",
       "      <td>1934</td>\n",
       "      <td>AA</td>\n",
       "      <td>ATL</td>\n",
       "      <td>DFW</td>\n",
       "      <td>732</td>\n",
       "      <td>N</td>\n",
       "    </tr>\n",
       "    <tr>\n",
       "      <th>1</th>\n",
       "      <td>c-4</td>\n",
       "      <td>c-20</td>\n",
       "      <td>c-3</td>\n",
       "      <td>1548</td>\n",
       "      <td>US</td>\n",
       "      <td>PIT</td>\n",
       "      <td>MCO</td>\n",
       "      <td>834</td>\n",
       "      <td>N</td>\n",
       "    </tr>\n",
       "    <tr>\n",
       "      <th>2</th>\n",
       "      <td>c-9</td>\n",
       "      <td>c-2</td>\n",
       "      <td>c-5</td>\n",
       "      <td>1422</td>\n",
       "      <td>XE</td>\n",
       "      <td>RDU</td>\n",
       "      <td>CLE</td>\n",
       "      <td>416</td>\n",
       "      <td>N</td>\n",
       "    </tr>\n",
       "    <tr>\n",
       "      <th>3</th>\n",
       "      <td>c-11</td>\n",
       "      <td>c-25</td>\n",
       "      <td>c-6</td>\n",
       "      <td>1015</td>\n",
       "      <td>OO</td>\n",
       "      <td>DEN</td>\n",
       "      <td>MEM</td>\n",
       "      <td>872</td>\n",
       "      <td>N</td>\n",
       "    </tr>\n",
       "    <tr>\n",
       "      <th>4</th>\n",
       "      <td>c-10</td>\n",
       "      <td>c-7</td>\n",
       "      <td>c-6</td>\n",
       "      <td>1828</td>\n",
       "      <td>WN</td>\n",
       "      <td>MDW</td>\n",
       "      <td>OMA</td>\n",
       "      <td>423</td>\n",
       "      <td>Y</td>\n",
       "    </tr>\n",
       "  </tbody>\n",
       "</table>\n",
       "</div>"
      ],
      "text/plain": [
       "   Month DayofMonth DayOfWeek  DepTime UniqueCarrier Origin Dest  Distance  \\\n",
       "id                                                                           \n",
       "0    c-8       c-21       c-7     1934            AA    ATL  DFW       732   \n",
       "1    c-4       c-20       c-3     1548            US    PIT  MCO       834   \n",
       "2    c-9        c-2       c-5     1422            XE    RDU  CLE       416   \n",
       "3   c-11       c-25       c-6     1015            OO    DEN  MEM       872   \n",
       "4   c-10        c-7       c-6     1828            WN    MDW  OMA       423   \n",
       "\n",
       "   dep_delayed_15min  \n",
       "id                    \n",
       "0                  N  \n",
       "1                  N  \n",
       "2                  N  \n",
       "3                  N  \n",
       "4                  Y  "
      ]
     },
     "execution_count": 2,
     "metadata": {},
     "output_type": "execute_result"
    }
   ],
   "source": [
    "train_data = pd.read_csv(\"data/flight_delays_train.csv\")\n",
    "train_data.index.names = ['id']\n",
    "train_data.head()"
   ]
  },
  {
   "cell_type": "code",
   "execution_count": 3,
   "id": "472f657d-3465-4596-81d1-55864a3d56bf",
   "metadata": {},
   "outputs": [],
   "source": [
    "train_df = train_data.copy()"
   ]
  },
  {
   "cell_type": "code",
   "execution_count": 4,
   "id": "0a479ea0-919e-449d-bcdd-12dbcae2bba1",
   "metadata": {},
   "outputs": [
    {
     "data": {
      "text/html": [
       "<div>\n",
       "<style scoped>\n",
       "    .dataframe tbody tr th:only-of-type {\n",
       "        vertical-align: middle;\n",
       "    }\n",
       "\n",
       "    .dataframe tbody tr th {\n",
       "        vertical-align: top;\n",
       "    }\n",
       "\n",
       "    .dataframe thead th {\n",
       "        text-align: right;\n",
       "    }\n",
       "</style>\n",
       "<table border=\"1\" class=\"dataframe\">\n",
       "  <thead>\n",
       "    <tr style=\"text-align: right;\">\n",
       "      <th></th>\n",
       "      <th>Month</th>\n",
       "      <th>DayofMonth</th>\n",
       "      <th>DayOfWeek</th>\n",
       "      <th>DepTime</th>\n",
       "      <th>UniqueCarrier</th>\n",
       "      <th>Origin</th>\n",
       "      <th>Dest</th>\n",
       "      <th>Distance</th>\n",
       "    </tr>\n",
       "    <tr>\n",
       "      <th>id</th>\n",
       "      <th></th>\n",
       "      <th></th>\n",
       "      <th></th>\n",
       "      <th></th>\n",
       "      <th></th>\n",
       "      <th></th>\n",
       "      <th></th>\n",
       "      <th></th>\n",
       "    </tr>\n",
       "  </thead>\n",
       "  <tbody>\n",
       "    <tr>\n",
       "      <th>0</th>\n",
       "      <td>c-7</td>\n",
       "      <td>c-25</td>\n",
       "      <td>c-3</td>\n",
       "      <td>615</td>\n",
       "      <td>YV</td>\n",
       "      <td>MRY</td>\n",
       "      <td>PHX</td>\n",
       "      <td>598</td>\n",
       "    </tr>\n",
       "    <tr>\n",
       "      <th>1</th>\n",
       "      <td>c-4</td>\n",
       "      <td>c-17</td>\n",
       "      <td>c-2</td>\n",
       "      <td>739</td>\n",
       "      <td>WN</td>\n",
       "      <td>LAS</td>\n",
       "      <td>HOU</td>\n",
       "      <td>1235</td>\n",
       "    </tr>\n",
       "    <tr>\n",
       "      <th>2</th>\n",
       "      <td>c-12</td>\n",
       "      <td>c-2</td>\n",
       "      <td>c-7</td>\n",
       "      <td>651</td>\n",
       "      <td>MQ</td>\n",
       "      <td>GSP</td>\n",
       "      <td>ORD</td>\n",
       "      <td>577</td>\n",
       "    </tr>\n",
       "    <tr>\n",
       "      <th>3</th>\n",
       "      <td>c-3</td>\n",
       "      <td>c-25</td>\n",
       "      <td>c-7</td>\n",
       "      <td>1614</td>\n",
       "      <td>WN</td>\n",
       "      <td>BWI</td>\n",
       "      <td>MHT</td>\n",
       "      <td>377</td>\n",
       "    </tr>\n",
       "    <tr>\n",
       "      <th>4</th>\n",
       "      <td>c-6</td>\n",
       "      <td>c-6</td>\n",
       "      <td>c-3</td>\n",
       "      <td>1505</td>\n",
       "      <td>UA</td>\n",
       "      <td>ORD</td>\n",
       "      <td>STL</td>\n",
       "      <td>258</td>\n",
       "    </tr>\n",
       "  </tbody>\n",
       "</table>\n",
       "</div>"
      ],
      "text/plain": [
       "   Month DayofMonth DayOfWeek  DepTime UniqueCarrier Origin Dest  Distance\n",
       "id                                                                        \n",
       "0    c-7       c-25       c-3      615            YV    MRY  PHX       598\n",
       "1    c-4       c-17       c-2      739            WN    LAS  HOU      1235\n",
       "2   c-12        c-2       c-7      651            MQ    GSP  ORD       577\n",
       "3    c-3       c-25       c-7     1614            WN    BWI  MHT       377\n",
       "4    c-6        c-6       c-3     1505            UA    ORD  STL       258"
      ]
     },
     "execution_count": 4,
     "metadata": {},
     "output_type": "execute_result"
    }
   ],
   "source": [
    "test_data = pd.read_csv(\"data/flight_delays_test.csv\")\n",
    "test_data.index.names = ['id']\n",
    "test_df = test_data.copy()\n",
    "test_df.head()"
   ]
  },
  {
   "cell_type": "markdown",
   "id": "8a4411c8-8037-4aee-a907-1c600bfede13",
   "metadata": {},
   "source": [
    "## EDA\n",
    "### Data analysis"
   ]
  },
  {
   "cell_type": "code",
   "execution_count": 5,
   "id": "c31fb3d5-9726-4839-b439-a9aea8390539",
   "metadata": {},
   "outputs": [],
   "source": [
    "train_df[\"delayed\"] = train_df[\"dep_delayed_15min\"].apply(lambda v: int(v == 'Y'))\n",
    "train_df.drop(columns=['dep_delayed_15min'], inplace=True)"
   ]
  },
  {
   "cell_type": "code",
   "execution_count": 6,
   "id": "94283321-d478-48b2-8063-bf045f027bf3",
   "metadata": {},
   "outputs": [
    {
     "name": "stdout",
     "output_type": "stream",
     "text": [
      "Month: 12\n",
      "DayofMonth: 31\n",
      "DayOfWeek: 7\n",
      "UniqueCarrier: 22\n",
      "Origin: 289\n",
      "Dest: 289\n"
     ]
    }
   ],
   "source": [
    "cat_columns = train_df.select_dtypes(\"object\").columns\n",
    "for column in cat_columns:\n",
    "    print(f\"{column}: {train_df[column].nunique()}\")"
   ]
  },
  {
   "cell_type": "code",
   "execution_count": 7,
   "id": "1823f838-c7ba-4284-b6b3-aa5adc204e1f",
   "metadata": {},
   "outputs": [
    {
     "data": {
      "image/png": "[encoded data removed]",
      "text/plain": [
       "<Figure size 1400x400 with 2 Axes>"
      ]
     },
     "metadata": {},
     "output_type": "display_data"
    }
   ],
   "source": [
    "column = \"UniqueCarrier\"\n",
    "# Create a bar plot for each categorical column\n",
    "plt.figure(figsize=(14, 4))\n",
    "# fig, axes = plt.subplots(1, 2, sharex=True, figsize=(14, 4))\n",
    "\n",
    "# count plot divided by delayed feature\n",
    "plt.subplot(1, 2, 1)\n",
    "sns.countplot(data=train_df, x=column, hue=\"delayed\", palette=\"viridis\") #, ax=axes[0])\n",
    "# axes[0].xticks(rotation=45)\n",
    "plt.xlabel(\"Frequency\")\n",
    "plt.title(f\"Frequency count by {column}\")\n",
    "\n",
    "# Ratio of delays to the total number of flights\n",
    "plt.subplot(1, 2, 2)\n",
    "sns.barplot(data=train_df, x=column, y=\"delayed\", palette=\"viridis\") #, ax=axes[1])\n",
    "# axes[1].xticks(rotation=45)\n",
    "plt.xlabel(\"Ratio\")\n",
    "plt.title(f\"Ratio count by {column}\")\n",
    "\n",
    "plt.tight_layout()\n",
    "# plt.show()"
   ]
  },
  {
   "cell_type": "markdown",
   "id": "60a819ae-fab8-4902-9c52-864a82b334c3",
   "metadata": {},
   "source": [
    "### Transforming data"
   ]
  },
  {
   "cell_type": "code",
   "execution_count": 8,
   "id": "b6759a70-7643-4473-b457-66d9d89fa3fc",
   "metadata": {},
   "outputs": [],
   "source": [
    "for _df in [train_df, test_df]:\n",
    "    for column in [\"Month\", \"DayofMonth\", \"DayOfWeek\"]:\n",
    "        _df[column] = _df[column].apply(lambda code: int(code[2:]))"
   ]
  },
  {
   "cell_type": "code",
   "execution_count": 9,
   "id": "036fb110-b861-404d-97a2-9e5fedf1e6a0",
   "metadata": {},
   "outputs": [],
   "source": [
    "label_encoder = LabelEncoder()\n",
    "\n",
    "for column in cat_columns:\n",
    "    unique_values = set(train_df[column]) | set(test_df[column])\n",
    "    label_encoder.fit(list(unique_values))\n",
    "    \n",
    "    train_df[column] = label_encoder.transform(train_df[column])\n",
    "    test_df[column] = label_encoder.transform(test_df[column])"
   ]
  },
  {
   "cell_type": "code",
   "execution_count": 10,
   "id": "d4248768-6681-46cc-8847-6f64294d3402",
   "metadata": {},
   "outputs": [
    {
     "data": {
      "text/html": [
       "<div>\n",
       "<style scoped>\n",
       "    .dataframe tbody tr th:only-of-type {\n",
       "        vertical-align: middle;\n",
       "    }\n",
       "\n",
       "    .dataframe tbody tr th {\n",
       "        vertical-align: top;\n",
       "    }\n",
       "\n",
       "    .dataframe thead th {\n",
       "        text-align: right;\n",
       "    }\n",
       "</style>\n",
       "<table border=\"1\" class=\"dataframe\">\n",
       "  <thead>\n",
       "    <tr style=\"text-align: right;\">\n",
       "      <th></th>\n",
       "      <th>Month</th>\n",
       "      <th>DayofMonth</th>\n",
       "      <th>DayOfWeek</th>\n",
       "      <th>DepTime</th>\n",
       "      <th>UniqueCarrier</th>\n",
       "      <th>Origin</th>\n",
       "      <th>Dest</th>\n",
       "      <th>Distance</th>\n",
       "      <th>delayed</th>\n",
       "    </tr>\n",
       "    <tr>\n",
       "      <th>id</th>\n",
       "      <th></th>\n",
       "      <th></th>\n",
       "      <th></th>\n",
       "      <th></th>\n",
       "      <th></th>\n",
       "      <th></th>\n",
       "      <th></th>\n",
       "      <th></th>\n",
       "      <th></th>\n",
       "    </tr>\n",
       "  </thead>\n",
       "  <tbody>\n",
       "    <tr>\n",
       "      <th>0</th>\n",
       "      <td>7</td>\n",
       "      <td>20</td>\n",
       "      <td>6</td>\n",
       "      <td>1934</td>\n",
       "      <td>1</td>\n",
       "      <td>19</td>\n",
       "      <td>82</td>\n",
       "      <td>732</td>\n",
       "      <td>0</td>\n",
       "    </tr>\n",
       "    <tr>\n",
       "      <th>1</th>\n",
       "      <td>3</td>\n",
       "      <td>19</td>\n",
       "      <td>2</td>\n",
       "      <td>1548</td>\n",
       "      <td>19</td>\n",
       "      <td>226</td>\n",
       "      <td>180</td>\n",
       "      <td>834</td>\n",
       "      <td>0</td>\n",
       "    </tr>\n",
       "    <tr>\n",
       "      <th>2</th>\n",
       "      <td>8</td>\n",
       "      <td>1</td>\n",
       "      <td>4</td>\n",
       "      <td>1422</td>\n",
       "      <td>21</td>\n",
       "      <td>239</td>\n",
       "      <td>62</td>\n",
       "      <td>416</td>\n",
       "      <td>0</td>\n",
       "    </tr>\n",
       "    <tr>\n",
       "      <th>3</th>\n",
       "      <td>10</td>\n",
       "      <td>24</td>\n",
       "      <td>5</td>\n",
       "      <td>1015</td>\n",
       "      <td>16</td>\n",
       "      <td>81</td>\n",
       "      <td>184</td>\n",
       "      <td>872</td>\n",
       "      <td>0</td>\n",
       "    </tr>\n",
       "    <tr>\n",
       "      <th>4</th>\n",
       "      <td>9</td>\n",
       "      <td>6</td>\n",
       "      <td>5</td>\n",
       "      <td>1828</td>\n",
       "      <td>20</td>\n",
       "      <td>182</td>\n",
       "      <td>210</td>\n",
       "      <td>423</td>\n",
       "      <td>1</td>\n",
       "    </tr>\n",
       "  </tbody>\n",
       "</table>\n",
       "</div>"
      ],
      "text/plain": [
       "    Month  DayofMonth  DayOfWeek  DepTime  UniqueCarrier  Origin  Dest  \\\n",
       "id                                                                       \n",
       "0       7          20          6     1934              1      19    82   \n",
       "1       3          19          2     1548             19     226   180   \n",
       "2       8           1          4     1422             21     239    62   \n",
       "3      10          24          5     1015             16      81   184   \n",
       "4       9           6          5     1828             20     182   210   \n",
       "\n",
       "    Distance  delayed  \n",
       "id                     \n",
       "0        732        0  \n",
       "1        834        0  \n",
       "2        416        0  \n",
       "3        872        0  \n",
       "4        423        1  "
      ]
     },
     "execution_count": 10,
     "metadata": {},
     "output_type": "execute_result"
    }
   ],
   "source": [
    "train_df.head()"
   ]
  },
  {
   "cell_type": "code",
   "execution_count": 11,
   "id": "c0e9ebb8-17af-4452-a16b-9f3d1f25d90d",
   "metadata": {},
   "outputs": [
    {
     "data": {
      "image/png": "[encoded data removed]",
      "text/plain": [
       "<Figure size 800x400 with 2 Axes>"
      ]
     },
     "metadata": {},
     "output_type": "display_data"
    }
   ],
   "source": [
    "from sklearn.preprocessing import StandardScaler\n",
    "\n",
    "X = train_df.drop(columns=['delayed'])\n",
    "y = train_df['delayed']\n",
    "\n",
    "X_original = X.copy()\n",
    "\n",
    "# Apply log scaling to Distance feature\n",
    "X['Distance'] = np.log1p(X['Distance'])\n",
    "test_df['Distance'] = np.log1p(test_df['Distance'])\n",
    "\n",
    "# Standartize the entire feature matrix X\n",
    "scaler = StandardScaler()\n",
    "X_data = scaler.fit_transform(X)\n",
    "test_df = scaler.transform(test_df)\n",
    "\n",
    "# Looking at transformed Distance feature\n",
    "feature = 'Distance'\n",
    "plt.figure(figsize=(8, 4))\n",
    "\n",
    "# Original data\n",
    "plt.subplot(1, 2, 1)\n",
    "sns.histplot(X_original[feature], bins=30, kde=True, label='Original')\n",
    "plt.title(f\"{feature} - Original\")\n",
    "plt.xlabel(feature)\n",
    "plt.ylabel(\"Frequency\")\n",
    "plt.legend()\n",
    "plt.grid()\n",
    "\n",
    "# Transformed data\n",
    "plt.subplot(1, 2, 2)\n",
    "sns.histplot(X[feature], bins=30, color='red', kde=True, label='Transformed')\n",
    "plt.title(f\"{feature} - Transformed\")\n",
    "plt.xlabel(feature)\n",
    "plt.ylabel(\"Frequency\")\n",
    "plt.legend()\n",
    "plt.grid()\n",
    "\n",
    "plt.tight_layout()"
   ]
  },
  {
   "cell_type": "code",
   "execution_count": 12,
   "id": "d3b7ba3e-9ca5-477e-a45d-84ec5f983239",
   "metadata": {},
   "outputs": [
    {
     "name": "stdout",
     "output_type": "stream",
     "text": [
      "(80000, 8) (20000, 8) (80000,) (20000,)\n"
     ]
    }
   ],
   "source": [
    "X_train, X_test, y_train, y_test = train_test_split(X_data, y, test_size=0.2, random_state=42)\n",
    "print(X_train.shape, X_test.shape, y_train.shape, y_test.shape)"
   ]
  },
  {
   "cell_type": "markdown",
   "id": "f747ca63-3970-4b17-88ae-a8da114ddb80",
   "metadata": {},
   "source": [
    "## Machine learning\n",
    "### Selecting the best ML model\n",
    "#### Decision tree"
   ]
  },
  {
   "cell_type": "code",
   "execution_count": 13,
   "id": "2e609a39-b135-4073-b89a-ddf4eeb9e636",
   "metadata": {},
   "outputs": [],
   "source": [
    "from sklearn.tree import DecisionTreeClassifier\n",
    "from sklearn.model_selection import GridSearchCV"
   ]
  },
  {
   "cell_type": "markdown",
   "id": "44352e20-cb3e-446f-88ea-2dfa2696b3bd",
   "metadata": {},
   "source": [
    "##### Train data"
   ]
  },
  {
   "cell_type": "code",
   "execution_count": 14,
   "id": "bff64127-b260-4925-a9a3-c6bc939861e1",
   "metadata": {},
   "outputs": [],
   "source": [
    "# dt_clf = GridSearchCV(\n",
    "#     DecisionTreeClassifier(random_state=42),\n",
    "#     {\n",
    "#         \"max_depth\": range(1, 16),\n",
    "#         \"criterion\": [\"gini\", \"entropy\", \"log_loss\"],\n",
    "#     },\n",
    "#     cv=5,\n",
    "#     n_jobs=-1,\n",
    "#     verbose=2,\n",
    "# )\n",
    "\n",
    "# dt_clf.fit(X_train, y_train)\n",
    "\n",
    "# print(dt_clf.best_score_, dt_clf.best_estimator_)"
   ]
  },
  {
   "cell_type": "code",
   "execution_count": 15,
   "id": "759ab2f1-0985-44d7-93c6-d4865efa3a88",
   "metadata": {},
   "outputs": [
    {
     "name": "stdout",
     "output_type": "stream",
     "text": [
      "0.8154 0.8145\n"
     ]
    }
   ],
   "source": [
    "dt = DecisionTreeClassifier(max_depth=7, random_state=42)\n",
    "dt.fit(X_train, y_train)\n",
    "\n",
    "print(accuracy_score(y_train, dt.predict(X_train)),\n",
    "      accuracy_score(y_test, dt.predict(X_test)))"
   ]
  },
  {
   "cell_type": "markdown",
   "id": "1b0db04b-a1a4-4d74-bd44-a7c7fe5a8aee",
   "metadata": {},
   "source": [
    "##### Test data"
   ]
  },
  {
   "cell_type": "code",
   "execution_count": 16,
   "id": "a81b6bab-9169-46f0-877a-bd8b5fe9080e",
   "metadata": {},
   "outputs": [],
   "source": [
    "pd.DataFrame(\n",
    "    pd.Series(dt.predict_proba(test_df)[:, 1], index=test_data.index),\n",
    "    index=test_data.index,\n",
    "    columns=['dep_delayed_15min'],\n",
    ").to_csv('predictions_dt.csv')"
   ]
  },
  {
   "cell_type": "markdown",
   "id": "c5f71407-9e9c-4586-b72f-4b16976449ae",
   "metadata": {},
   "source": [
    "#### Random forest"
   ]
  },
  {
   "cell_type": "code",
   "execution_count": 17,
   "id": "60f9d98f-c6a7-4ebb-964e-8068ca278c48",
   "metadata": {},
   "outputs": [],
   "source": [
    "from sklearn.ensemble import RandomForestClassifier"
   ]
  },
  {
   "cell_type": "markdown",
   "id": "ed225319-5edc-44bd-a5d4-e4a3d9934f37",
   "metadata": {},
   "source": [
    "##### Train data"
   ]
  },
  {
   "cell_type": "code",
   "execution_count": 18,
   "id": "ece9170d-15f4-4d88-b03e-b86304917428",
   "metadata": {},
   "outputs": [],
   "source": [
    "# %%time\n",
    "# rf_clf = GridSearchCV(\n",
    "#     RandomForestClassifier(random_state=42, n_jobs=-1, n_estimators=10),\n",
    "#     {\n",
    "#         \"max_depth\": range(16, 31),\n",
    "#         # \"criterion\": [\"gini\", \"entropy\", \"log_loss\"],\n",
    "#     },\n",
    "#     cv=5,\n",
    "#     n_jobs=-1,\n",
    "#     verbose=2,\n",
    "# )\n",
    "\n",
    "# rf_clf.fit(X_train, y_train)\n",
    "# print(rf_clf.best_score_, rf_clf.best_estimator_)"
   ]
  },
  {
   "cell_type": "code",
   "execution_count": 19,
   "id": "fc94951a-11a9-4de3-b15f-d7c87e61a1c6",
   "metadata": {},
   "outputs": [
    {
     "name": "stdout",
     "output_type": "stream",
     "text": [
      "0.8692125 0.8212\n",
      "CPU times: total: 22.8 s\n",
      "Wall time: 7.82 s\n"
     ]
    }
   ],
   "source": [
    "%%time\n",
    "rf = RandomForestClassifier(\n",
    "    max_depth=16, n_estimators=100, n_jobs=-1, random_state=42)\n",
    "rf.fit(X_train, y_train)\n",
    "\n",
    "print(accuracy_score(y_train, rf.predict(X_train)),\n",
    "      accuracy_score(y_test, rf.predict(X_test)))"
   ]
  },
  {
   "cell_type": "markdown",
   "id": "68d77d12-8b9b-4367-aa50-a612a5cc70d9",
   "metadata": {},
   "source": [
    "##### Test data"
   ]
  },
  {
   "cell_type": "code",
   "execution_count": 20,
   "id": "1e335933-fbe2-419f-aebc-477c7cecfa5f",
   "metadata": {},
   "outputs": [],
   "source": [
    "pd.DataFrame(\n",
    "    pd.Series(rf.predict_proba(test_df)[:, 1], index=test_data.index),\n",
    "    index=test_data.index,\n",
    "    columns=['dep_delayed_15min'],\n",
    ").to_csv('predictions_rf.csv')"
   ]
  },
  {
   "cell_type": "markdown",
   "id": "84dec987-1fa6-4331-a5d7-88c1a44ade48",
   "metadata": {},
   "source": [
    "#### SGDClassifier"
   ]
  },
  {
   "cell_type": "code",
   "execution_count": 21,
   "id": "0173f166-2fcc-401d-9544-83a9618e47e0",
   "metadata": {},
   "outputs": [],
   "source": [
    "from sklearn.linear_model import SGDClassifier"
   ]
  },
  {
   "cell_type": "markdown",
   "id": "c8f949cf-fc12-4ec8-841d-1dc65742a17a",
   "metadata": {},
   "source": [
    "##### Train data"
   ]
  },
  {
   "cell_type": "code",
   "execution_count": 22,
   "id": "711e058f-16c2-49e6-9c37-5640aa879418",
   "metadata": {},
   "outputs": [],
   "source": [
    "# %%time\n",
    "# sgd_clf = GridSearchCV(\n",
    "#     SGDClassifier(max_iter=1000, random_state=42, n_jobs=-1),\n",
    "#     {\n",
    "#         \"alpha\": [pow(10, num) / pow(10, 10) for num in range(11)]\n",
    "#     },\n",
    "#     cv=5,\n",
    "#     n_jobs=-1,\n",
    "#     verbose=2,\n",
    "# )\n",
    "\n",
    "# sgd_clf.fit(X_train, y_train)\n",
    "# print(sgd_clf.best_score_, sgd_clf.best_estimator_)"
   ]
  },
  {
   "cell_type": "code",
   "execution_count": 23,
   "id": "eb5424da-b780-41b4-b982-b2f7c85d91fb",
   "metadata": {},
   "outputs": [
    {
     "name": "stdout",
     "output_type": "stream",
     "text": [
      "0.8083875 0.8107\n"
     ]
    }
   ],
   "source": [
    "sgd = SGDClassifier(\n",
    "    loss='log_loss', max_iter=1000, random_state=42, alpha=1e-05, n_jobs=-1)\n",
    "sgd.fit(X_train, y_train)\n",
    "\n",
    "print(accuracy_score(y_train, sgd.predict(X_train)),\n",
    "      accuracy_score(y_test, sgd.predict(X_test)))"
   ]
  },
  {
   "cell_type": "markdown",
   "id": "a36ff180-7302-4486-832c-937460fb2e01",
   "metadata": {},
   "source": [
    "##### Test data"
   ]
  },
  {
   "cell_type": "code",
   "execution_count": 24,
   "id": "8c0148f4-d666-48d8-9b2f-75b9eab5b49a",
   "metadata": {},
   "outputs": [],
   "source": [
    "pd.DataFrame(\n",
    "    pd.Series(sgd.predict_proba(test_df)[:, 1], index=test_data.index),\n",
    "    index=test_data.index,\n",
    "    columns=['dep_delayed_15min'],\n",
    ").to_csv('predictions_sgd.csv')"
   ]
  },
  {
   "cell_type": "markdown",
   "id": "fa0ce6ac-af01-4e02-8a1f-b73ed3506eb5",
   "metadata": {},
   "source": [
    "#### LogisticRegression"
   ]
  },
  {
   "cell_type": "code",
   "execution_count": 25,
   "id": "85719a1f-bf0e-40da-94ce-704b9722720f",
   "metadata": {},
   "outputs": [],
   "source": [
    "from sklearn.linear_model import LogisticRegression"
   ]
  },
  {
   "cell_type": "markdown",
   "id": "4c09581d-5f8f-4254-b356-6a52e14d4478",
   "metadata": {},
   "source": [
    "##### Train data"
   ]
  },
  {
   "cell_type": "code",
   "execution_count": 26,
   "id": "ce914a09-b3d7-4f89-bed6-c3c558e7bce5",
   "metadata": {},
   "outputs": [
    {
     "name": "stdout",
     "output_type": "stream",
     "text": [
      "Penalty: l1, Train acc: 0.80895 Test acc: 0.81125\n",
      "Penalty: l2, Train acc: 0.8089625 Test acc: 0.81125\n",
      "Penalty: elasticnet, Train acc: 0.80895 Test acc: 0.81125\n",
      "Penalty: None, Train acc: 0.8089625 Test acc: 0.81125\n"
     ]
    }
   ],
   "source": [
    "penalties = ['l1', 'l2', 'elasticnet', None]\n",
    "for penalty in penalties:\n",
    "    logreg = LogisticRegression(solver=\"saga\",\n",
    "                                penalty=penalty,\n",
    "                                random_state=42,\n",
    "                                n_jobs=-1,\n",
    "                                l1_ratio=0.5 if penalty == 'elasticnet' else None)\n",
    "    logreg.fit(X_train, y_train)\n",
    "    \n",
    "    print(f\"Penalty: {penalty},\",\n",
    "          f\"Train acc: {accuracy_score(y_train, logreg.predict(X_train))}\",\n",
    "          f\"Test acc: {accuracy_score(y_test, logreg.predict(X_test))}\")"
   ]
  },
  {
   "cell_type": "code",
   "execution_count": 27,
   "id": "9da056c8-32fc-4fc2-8d69-5d3901ca7ac1",
   "metadata": {},
   "outputs": [
    {
     "name": "stdout",
     "output_type": "stream",
     "text": [
      "0.8089625 0.81125\n"
     ]
    }
   ],
   "source": [
    "logreg = LogisticRegression(solver=\"saga\",\n",
    "                            penalty=penalty,\n",
    "                            random_state=42,\n",
    "                            n_jobs=-1,\n",
    "                            l1_ratio=0.5)\n",
    "logreg.fit(X_train, y_train)\n",
    "\n",
    "print(accuracy_score(y_train, logreg.predict(X_train)),\n",
    "      accuracy_score(y_test, logreg.predict(X_test)))"
   ]
  },
  {
   "cell_type": "markdown",
   "id": "15627d4e-e43c-49ab-865e-7c55fd3bc767",
   "metadata": {},
   "source": [
    "##### Test data"
   ]
  },
  {
   "cell_type": "code",
   "execution_count": 28,
   "id": "dd719bf8-09a3-4325-8ece-32a2f65b9253",
   "metadata": {},
   "outputs": [],
   "source": [
    "pd.DataFrame(\n",
    "    pd.Series(logreg.predict_proba(test_df)[:, 1], index=test_data.index),\n",
    "    index=test_data.index,\n",
    "    columns=['dep_delayed_15min'],\n",
    ").to_csv('predictions_logreg.csv')"
   ]
  },
  {
   "cell_type": "markdown",
   "id": "0963d168-fe24-47d5-93e6-0b37f9a4561a",
   "metadata": {},
   "source": [
    "#### CatBoostClassifier"
   ]
  },
  {
   "cell_type": "code",
   "execution_count": 29,
   "id": "7d24d25f-0742-42d0-a00b-bcc3f70d68ed",
   "metadata": {},
   "outputs": [],
   "source": [
    "from catboost import CatBoostClassifier"
   ]
  },
  {
   "cell_type": "markdown",
   "id": "19f93797-27ad-4bc3-8086-2a34100190ab",
   "metadata": {},
   "source": [
    "##### Train data"
   ]
  },
  {
   "cell_type": "code",
   "execution_count": 30,
   "id": "ed05ec3c-5166-485f-a683-a7f5edbec160",
   "metadata": {},
   "outputs": [
    {
     "name": "stdout",
     "output_type": "stream",
     "text": [
      "0.837375 0.82515\n"
     ]
    }
   ],
   "source": [
    "cbclf = CatBoostClassifier(verbose=False, random_seed=42)\n",
    "cbclf.fit(X_train, y_train)\n",
    "\n",
    "print(accuracy_score(y_train, cbclf.predict(X_train)),\n",
    "      accuracy_score(y_test, cbclf.predict(X_test)))"
   ]
  },
  {
   "cell_type": "code",
   "execution_count": 31,
   "id": "b62626f1-240b-4cdc-b583-27dc4ff02c15",
   "metadata": {},
   "outputs": [
    {
     "data": {
      "text/plain": [
       "{'nan_mode': 'Min',\n",
       " 'eval_metric': 'Logloss',\n",
       " 'iterations': 1000,\n",
       " 'sampling_frequency': 'PerTree',\n",
       " 'leaf_estimation_method': 'Newton',\n",
       " 'random_score_type': 'NormalWithModelSizeDecrease',\n",
       " 'grow_policy': 'SymmetricTree',\n",
       " 'penalties_coefficient': 1,\n",
       " 'boosting_type': 'Plain',\n",
       " 'model_shrink_mode': 'Constant',\n",
       " 'feature_border_type': 'GreedyLogSum',\n",
       " 'bayesian_matrix_reg': 0.10000000149011612,\n",
       " 'eval_fraction': 0,\n",
       " 'force_unit_auto_pair_weights': False,\n",
       " 'l2_leaf_reg': 3,\n",
       " 'random_strength': 1,\n",
       " 'rsm': 1,\n",
       " 'boost_from_average': False,\n",
       " 'model_size_reg': 0.5,\n",
       " 'pool_metainfo_options': {'tags': {}},\n",
       " 'subsample': 0.800000011920929,\n",
       " 'use_best_model': False,\n",
       " 'class_names': [0, 1],\n",
       " 'random_seed': 42,\n",
       " 'depth': 6,\n",
       " 'posterior_sampling': False,\n",
       " 'border_count': 254,\n",
       " 'classes_count': 0,\n",
       " 'auto_class_weights': 'None',\n",
       " 'sparse_features_conflict_fraction': 0,\n",
       " 'leaf_estimation_backtracking': 'AnyImprovement',\n",
       " 'best_model_min_trees': 1,\n",
       " 'model_shrink_rate': 0,\n",
       " 'min_data_in_leaf': 1,\n",
       " 'loss_function': 'Logloss',\n",
       " 'learning_rate': 0.06691999733448029,\n",
       " 'score_function': 'Cosine',\n",
       " 'task_type': 'CPU',\n",
       " 'leaf_estimation_iterations': 10,\n",
       " 'bootstrap_type': 'MVS',\n",
       " 'max_leaves': 64}"
      ]
     },
     "execution_count": 31,
     "metadata": {},
     "output_type": "execute_result"
    }
   ],
   "source": [
    "cbclf.get_all_params()"
   ]
  },
  {
   "cell_type": "code",
   "execution_count": 32,
   "id": "5de666c8-0504-48cb-9685-f01a994cf232",
   "metadata": {},
   "outputs": [],
   "source": [
    "pd.DataFrame(\n",
    "    pd.Series(cbclf.predict_proba(test_df)[:, 1], index=test_data.index),\n",
    "    index=test_data.index,\n",
    "    columns=['dep_delayed_15min'],\n",
    ").to_csv('predictions_cbclf.csv')"
   ]
  },
  {
   "cell_type": "markdown",
   "id": "93ce9df6-8685-48a7-9338-3b05c16366e5",
   "metadata": {},
   "source": [
    "#### XGBClassifier"
   ]
  },
  {
   "cell_type": "code",
   "execution_count": 33,
   "id": "3cdad2b5-6326-458e-93fb-59e93a4e3942",
   "metadata": {},
   "outputs": [],
   "source": [
    "from xgboost import XGBClassifier"
   ]
  },
  {
   "cell_type": "markdown",
   "id": "f5218a0c-8571-4db3-b647-3367ec243acb",
   "metadata": {},
   "source": [
    "##### Train data"
   ]
  },
  {
   "cell_type": "code",
   "execution_count": 34,
   "id": "7c2c7105-7e19-419d-b978-70e87a897d1b",
   "metadata": {},
   "outputs": [],
   "source": [
    "# xgb_clf = GridSearchCV(\n",
    "#     XGBClassifier(max_depth=6, random_state=42, n_jobs=-1),\n",
    "#     {\n",
    "#         \"n_estimators\": range(40, 121),\n",
    "#         # \"max_depth\": range(1, 16),\n",
    "#     },\n",
    "#     cv=5,\n",
    "#     verbose=2,\n",
    "#     n_jobs=-1,\n",
    "# )\n",
    "# xgb_clf.fit(X_train, y_train)\n",
    "\n",
    "# print(xgb_clf.best_score_, xgb_clf.best_estimator_)"
   ]
  },
  {
   "cell_type": "code",
   "execution_count": 35,
   "id": "a44c7e38-265b-4c05-9e44-7d26503b0378",
   "metadata": {},
   "outputs": [
    {
     "name": "stdout",
     "output_type": "stream",
     "text": [
      "0.8341 0.82315\n"
     ]
    }
   ],
   "source": [
    "xgb = XGBClassifier(max_depth=6, n_estimators=53, random_state=42, n_jobs=-1)\n",
    "xgb.fit(X_train, y_train)\n",
    "\n",
    "print(accuracy_score(y_train, xgb.predict(X_train)),\n",
    "      accuracy_score(y_test, xgb.predict(X_test)))"
   ]
  },
  {
   "cell_type": "markdown",
   "id": "ed655cd8-9a55-44e2-91b3-e340769b3318",
   "metadata": {},
   "source": [
    "##### Test data"
   ]
  },
  {
   "cell_type": "code",
   "execution_count": 36,
   "id": "49eff195-1b6d-41a5-82d1-fbc47beee3db",
   "metadata": {},
   "outputs": [],
   "source": [
    "pd.DataFrame(\n",
    "    pd.Series(xgb.predict_proba(test_df)[:, 1], index=test_data.index),\n",
    "    index=test_data.index,\n",
    "    columns=['dep_delayed_15min'],\n",
    ").to_csv('predictions_xgb.csv')"
   ]
  },
  {
   "cell_type": "code",
   "execution_count": null,
   "id": "9dfa04c9-700e-421d-8de0-b4da552caa74",
   "metadata": {},
   "outputs": [],
   "source": []
  },
  {
   "cell_type": "code",
   "execution_count": null,
   "id": "8af15f2e-a2a1-4377-8dda-1f52a87e571c",
   "metadata": {},
   "outputs": [],
   "source": []
  }
 ],
 "metadata": {
  "kernelspec": {
   "display_name": "Python 3 (ipykernel)",
   "language": "python",
   "name": "python3"
  },
  "language_info": {
   "codemirror_mode": {
    "name": "ipython",
    "version": 3
   },
   "file_extension": ".py",
   "mimetype": "text/x-python",
   "name": "python",
   "nbconvert_exporter": "python",
   "pygments_lexer": "ipython3",
   "version": "3.11.4"
  }
 },
 "nbformat": 4,
 "nbformat_minor": 5
}
