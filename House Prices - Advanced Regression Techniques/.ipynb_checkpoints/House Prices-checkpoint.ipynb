{
 "cells": [
  {
   "cell_type": "markdown",
   "id": "7edf07ee-d48f-4d89-9748-af83cab60729",
   "metadata": {},
   "source": [
    "# House Prices - Advanced Regression Techniques\n"
   ]
  },
  {
   "cell_type": "code",
   "execution_count": 1,
   "id": "b00582b9-927b-4250-8e5e-86f3f87e2137",
   "metadata": {},
   "outputs": [],
   "source": [
    "import pandas as pd\n",
    "import numpy as np\n",
    "import seaborn as sns\n",
    "import matplotlib.pyplot as plt"
   ]
  },
  {
   "cell_type": "markdown",
   "id": "2c0902de-d271-402c-95a9-4dd4a78d131a",
   "metadata": {},
   "source": [
    "## Загрузим данные\n",
    "### Тренировочный набор"
   ]
  },
  {
   "cell_type": "code",
   "execution_count": 2,
   "id": "580f6881-df03-46f0-ab7b-9dbf4f8415c3",
   "metadata": {},
   "outputs": [
    {
     "data": {
      "text/html": [
       "<div>\n",
       "<style scoped>\n",
       "    .dataframe tbody tr th:only-of-type {\n",
       "        vertical-align: middle;\n",
       "    }\n",
       "\n",
       "    .dataframe tbody tr th {\n",
       "        vertical-align: top;\n",
       "    }\n",
       "\n",
       "    .dataframe thead th {\n",
       "        text-align: right;\n",
       "    }\n",
       "</style>\n",
       "<table border=\"1\" class=\"dataframe\">\n",
       "  <thead>\n",
       "    <tr style=\"text-align: right;\">\n",
       "      <th></th>\n",
       "      <th>MSSubClass</th>\n",
       "      <th>MSZoning</th>\n",
       "      <th>LotFrontage</th>\n",
       "      <th>LotArea</th>\n",
       "      <th>Street</th>\n",
       "      <th>Alley</th>\n",
       "      <th>LotShape</th>\n",
       "      <th>LandContour</th>\n",
       "      <th>Utilities</th>\n",
       "      <th>LotConfig</th>\n",
       "      <th>...</th>\n",
       "      <th>PoolArea</th>\n",
       "      <th>PoolQC</th>\n",
       "      <th>Fence</th>\n",
       "      <th>MiscFeature</th>\n",
       "      <th>MiscVal</th>\n",
       "      <th>MoSold</th>\n",
       "      <th>YrSold</th>\n",
       "      <th>SaleType</th>\n",
       "      <th>SaleCondition</th>\n",
       "      <th>SalePrice</th>\n",
       "    </tr>\n",
       "    <tr>\n",
       "      <th>Id</th>\n",
       "      <th></th>\n",
       "      <th></th>\n",
       "      <th></th>\n",
       "      <th></th>\n",
       "      <th></th>\n",
       "      <th></th>\n",
       "      <th></th>\n",
       "      <th></th>\n",
       "      <th></th>\n",
       "      <th></th>\n",
       "      <th></th>\n",
       "      <th></th>\n",
       "      <th></th>\n",
       "      <th></th>\n",
       "      <th></th>\n",
       "      <th></th>\n",
       "      <th></th>\n",
       "      <th></th>\n",
       "      <th></th>\n",
       "      <th></th>\n",
       "      <th></th>\n",
       "    </tr>\n",
       "  </thead>\n",
       "  <tbody>\n",
       "    <tr>\n",
       "      <th>1</th>\n",
       "      <td>60</td>\n",
       "      <td>RL</td>\n",
       "      <td>65.0</td>\n",
       "      <td>8450</td>\n",
       "      <td>Pave</td>\n",
       "      <td>NaN</td>\n",
       "      <td>Reg</td>\n",
       "      <td>Lvl</td>\n",
       "      <td>AllPub</td>\n",
       "      <td>Inside</td>\n",
       "      <td>...</td>\n",
       "      <td>0</td>\n",
       "      <td>NaN</td>\n",
       "      <td>NaN</td>\n",
       "      <td>NaN</td>\n",
       "      <td>0</td>\n",
       "      <td>2</td>\n",
       "      <td>2008</td>\n",
       "      <td>WD</td>\n",
       "      <td>Normal</td>\n",
       "      <td>208500</td>\n",
       "    </tr>\n",
       "    <tr>\n",
       "      <th>2</th>\n",
       "      <td>20</td>\n",
       "      <td>RL</td>\n",
       "      <td>80.0</td>\n",
       "      <td>9600</td>\n",
       "      <td>Pave</td>\n",
       "      <td>NaN</td>\n",
       "      <td>Reg</td>\n",
       "      <td>Lvl</td>\n",
       "      <td>AllPub</td>\n",
       "      <td>FR2</td>\n",
       "      <td>...</td>\n",
       "      <td>0</td>\n",
       "      <td>NaN</td>\n",
       "      <td>NaN</td>\n",
       "      <td>NaN</td>\n",
       "      <td>0</td>\n",
       "      <td>5</td>\n",
       "      <td>2007</td>\n",
       "      <td>WD</td>\n",
       "      <td>Normal</td>\n",
       "      <td>181500</td>\n",
       "    </tr>\n",
       "    <tr>\n",
       "      <th>3</th>\n",
       "      <td>60</td>\n",
       "      <td>RL</td>\n",
       "      <td>68.0</td>\n",
       "      <td>11250</td>\n",
       "      <td>Pave</td>\n",
       "      <td>NaN</td>\n",
       "      <td>IR1</td>\n",
       "      <td>Lvl</td>\n",
       "      <td>AllPub</td>\n",
       "      <td>Inside</td>\n",
       "      <td>...</td>\n",
       "      <td>0</td>\n",
       "      <td>NaN</td>\n",
       "      <td>NaN</td>\n",
       "      <td>NaN</td>\n",
       "      <td>0</td>\n",
       "      <td>9</td>\n",
       "      <td>2008</td>\n",
       "      <td>WD</td>\n",
       "      <td>Normal</td>\n",
       "      <td>223500</td>\n",
       "    </tr>\n",
       "    <tr>\n",
       "      <th>4</th>\n",
       "      <td>70</td>\n",
       "      <td>RL</td>\n",
       "      <td>60.0</td>\n",
       "      <td>9550</td>\n",
       "      <td>Pave</td>\n",
       "      <td>NaN</td>\n",
       "      <td>IR1</td>\n",
       "      <td>Lvl</td>\n",
       "      <td>AllPub</td>\n",
       "      <td>Corner</td>\n",
       "      <td>...</td>\n",
       "      <td>0</td>\n",
       "      <td>NaN</td>\n",
       "      <td>NaN</td>\n",
       "      <td>NaN</td>\n",
       "      <td>0</td>\n",
       "      <td>2</td>\n",
       "      <td>2006</td>\n",
       "      <td>WD</td>\n",
       "      <td>Abnorml</td>\n",
       "      <td>140000</td>\n",
       "    </tr>\n",
       "    <tr>\n",
       "      <th>5</th>\n",
       "      <td>60</td>\n",
       "      <td>RL</td>\n",
       "      <td>84.0</td>\n",
       "      <td>14260</td>\n",
       "      <td>Pave</td>\n",
       "      <td>NaN</td>\n",
       "      <td>IR1</td>\n",
       "      <td>Lvl</td>\n",
       "      <td>AllPub</td>\n",
       "      <td>FR2</td>\n",
       "      <td>...</td>\n",
       "      <td>0</td>\n",
       "      <td>NaN</td>\n",
       "      <td>NaN</td>\n",
       "      <td>NaN</td>\n",
       "      <td>0</td>\n",
       "      <td>12</td>\n",
       "      <td>2008</td>\n",
       "      <td>WD</td>\n",
       "      <td>Normal</td>\n",
       "      <td>250000</td>\n",
       "    </tr>\n",
       "  </tbody>\n",
       "</table>\n",
       "<p>5 rows × 80 columns</p>\n",
       "</div>"
      ],
      "text/plain": [
       "    MSSubClass MSZoning  LotFrontage  LotArea Street Alley LotShape  \\\n",
       "Id                                                                    \n",
       "1           60       RL         65.0     8450   Pave   NaN      Reg   \n",
       "2           20       RL         80.0     9600   Pave   NaN      Reg   \n",
       "3           60       RL         68.0    11250   Pave   NaN      IR1   \n",
       "4           70       RL         60.0     9550   Pave   NaN      IR1   \n",
       "5           60       RL         84.0    14260   Pave   NaN      IR1   \n",
       "\n",
       "   LandContour Utilities LotConfig  ... PoolArea PoolQC Fence MiscFeature  \\\n",
       "Id                                  ...                                     \n",
       "1          Lvl    AllPub    Inside  ...        0    NaN   NaN         NaN   \n",
       "2          Lvl    AllPub       FR2  ...        0    NaN   NaN         NaN   \n",
       "3          Lvl    AllPub    Inside  ...        0    NaN   NaN         NaN   \n",
       "4          Lvl    AllPub    Corner  ...        0    NaN   NaN         NaN   \n",
       "5          Lvl    AllPub       FR2  ...        0    NaN   NaN         NaN   \n",
       "\n",
       "   MiscVal MoSold  YrSold  SaleType  SaleCondition  SalePrice  \n",
       "Id                                                             \n",
       "1        0      2    2008        WD         Normal     208500  \n",
       "2        0      5    2007        WD         Normal     181500  \n",
       "3        0      9    2008        WD         Normal     223500  \n",
       "4        0      2    2006        WD        Abnorml     140000  \n",
       "5        0     12    2008        WD         Normal     250000  \n",
       "\n",
       "[5 rows x 80 columns]"
      ]
     },
     "execution_count": 2,
     "metadata": {},
     "output_type": "execute_result"
    }
   ],
   "source": [
    "data = pd.read_csv(\"data/train.csv\", index_col=\"Id\")\n",
    "data.head()"
   ]
  },
  {
   "cell_type": "code",
   "execution_count": 3,
   "id": "1435591b-e0bc-40d8-84ae-22912f5326b9",
   "metadata": {
    "scrolled": true
   },
   "outputs": [
    {
     "name": "stdout",
     "output_type": "stream",
     "text": [
      "<class 'pandas.core.frame.DataFrame'>\n",
      "Index: 1460 entries, 1 to 1460\n",
      "Data columns (total 80 columns):\n",
      " #   Column         Non-Null Count  Dtype  \n",
      "---  ------         --------------  -----  \n",
      " 0   MSSubClass     1460 non-null   int64  \n",
      " 1   MSZoning       1460 non-null   object \n",
      " 2   LotFrontage    1201 non-null   float64\n",
      " 3   LotArea        1460 non-null   int64  \n",
      " 4   Street         1460 non-null   object \n",
      " 5   Alley          91 non-null     object \n",
      " 6   LotShape       1460 non-null   object \n",
      " 7   LandContour    1460 non-null   object \n",
      " 8   Utilities      1460 non-null   object \n",
      " 9   LotConfig      1460 non-null   object \n",
      " 10  LandSlope      1460 non-null   object \n",
      " 11  Neighborhood   1460 non-null   object \n",
      " 12  Condition1     1460 non-null   object \n",
      " 13  Condition2     1460 non-null   object \n",
      " 14  BldgType       1460 non-null   object \n",
      " 15  HouseStyle     1460 non-null   object \n",
      " 16  OverallQual    1460 non-null   int64  \n",
      " 17  OverallCond    1460 non-null   int64  \n",
      " 18  YearBuilt      1460 non-null   int64  \n",
      " 19  YearRemodAdd   1460 non-null   int64  \n",
      " 20  RoofStyle      1460 non-null   object \n",
      " 21  RoofMatl       1460 non-null   object \n",
      " 22  Exterior1st    1460 non-null   object \n",
      " 23  Exterior2nd    1460 non-null   object \n",
      " 24  MasVnrType     588 non-null    object \n",
      " 25  MasVnrArea     1452 non-null   float64\n",
      " 26  ExterQual      1460 non-null   object \n",
      " 27  ExterCond      1460 non-null   object \n",
      " 28  Foundation     1460 non-null   object \n",
      " 29  BsmtQual       1423 non-null   object \n",
      " 30  BsmtCond       1423 non-null   object \n",
      " 31  BsmtExposure   1422 non-null   object \n",
      " 32  BsmtFinType1   1423 non-null   object \n",
      " 33  BsmtFinSF1     1460 non-null   int64  \n",
      " 34  BsmtFinType2   1422 non-null   object \n",
      " 35  BsmtFinSF2     1460 non-null   int64  \n",
      " 36  BsmtUnfSF      1460 non-null   int64  \n",
      " 37  TotalBsmtSF    1460 non-null   int64  \n",
      " 38  Heating        1460 non-null   object \n",
      " 39  HeatingQC      1460 non-null   object \n",
      " 40  CentralAir     1460 non-null   object \n",
      " 41  Electrical     1459 non-null   object \n",
      " 42  1stFlrSF       1460 non-null   int64  \n",
      " 43  2ndFlrSF       1460 non-null   int64  \n",
      " 44  LowQualFinSF   1460 non-null   int64  \n",
      " 45  GrLivArea      1460 non-null   int64  \n",
      " 46  BsmtFullBath   1460 non-null   int64  \n",
      " 47  BsmtHalfBath   1460 non-null   int64  \n",
      " 48  FullBath       1460 non-null   int64  \n",
      " 49  HalfBath       1460 non-null   int64  \n",
      " 50  BedroomAbvGr   1460 non-null   int64  \n",
      " 51  KitchenAbvGr   1460 non-null   int64  \n",
      " 52  KitchenQual    1460 non-null   object \n",
      " 53  TotRmsAbvGrd   1460 non-null   int64  \n",
      " 54  Functional     1460 non-null   object \n",
      " 55  Fireplaces     1460 non-null   int64  \n",
      " 56  FireplaceQu    770 non-null    object \n",
      " 57  GarageType     1379 non-null   object \n",
      " 58  GarageYrBlt    1379 non-null   float64\n",
      " 59  GarageFinish   1379 non-null   object \n",
      " 60  GarageCars     1460 non-null   int64  \n",
      " 61  GarageArea     1460 non-null   int64  \n",
      " 62  GarageQual     1379 non-null   object \n",
      " 63  GarageCond     1379 non-null   object \n",
      " 64  PavedDrive     1460 non-null   object \n",
      " 65  WoodDeckSF     1460 non-null   int64  \n",
      " 66  OpenPorchSF    1460 non-null   int64  \n",
      " 67  EnclosedPorch  1460 non-null   int64  \n",
      " 68  3SsnPorch      1460 non-null   int64  \n",
      " 69  ScreenPorch    1460 non-null   int64  \n",
      " 70  PoolArea       1460 non-null   int64  \n",
      " 71  PoolQC         7 non-null      object \n",
      " 72  Fence          281 non-null    object \n",
      " 73  MiscFeature    54 non-null     object \n",
      " 74  MiscVal        1460 non-null   int64  \n",
      " 75  MoSold         1460 non-null   int64  \n",
      " 76  YrSold         1460 non-null   int64  \n",
      " 77  SaleType       1460 non-null   object \n",
      " 78  SaleCondition  1460 non-null   object \n",
      " 79  SalePrice      1460 non-null   int64  \n",
      "dtypes: float64(3), int64(34), object(43)\n",
      "memory usage: 923.9+ KB\n"
     ]
    }
   ],
   "source": [
    "data.info()"
   ]
  },
  {
   "cell_type": "markdown",
   "id": "39181c8a-2ff8-4f3b-9dab-13f6a74664fa",
   "metadata": {},
   "source": [
    "### Тестовый набор"
   ]
  },
  {
   "cell_type": "code",
   "execution_count": 4,
   "id": "f7dadb5c-2a51-45ab-82fc-adbfa37a0b48",
   "metadata": {},
   "outputs": [
    {
     "data": {
      "text/html": [
       "<div>\n",
       "<style scoped>\n",
       "    .dataframe tbody tr th:only-of-type {\n",
       "        vertical-align: middle;\n",
       "    }\n",
       "\n",
       "    .dataframe tbody tr th {\n",
       "        vertical-align: top;\n",
       "    }\n",
       "\n",
       "    .dataframe thead th {\n",
       "        text-align: right;\n",
       "    }\n",
       "</style>\n",
       "<table border=\"1\" class=\"dataframe\">\n",
       "  <thead>\n",
       "    <tr style=\"text-align: right;\">\n",
       "      <th></th>\n",
       "      <th>MSSubClass</th>\n",
       "      <th>MSZoning</th>\n",
       "      <th>LotFrontage</th>\n",
       "      <th>LotArea</th>\n",
       "      <th>Street</th>\n",
       "      <th>Alley</th>\n",
       "      <th>LotShape</th>\n",
       "      <th>LandContour</th>\n",
       "      <th>Utilities</th>\n",
       "      <th>LotConfig</th>\n",
       "      <th>...</th>\n",
       "      <th>ScreenPorch</th>\n",
       "      <th>PoolArea</th>\n",
       "      <th>PoolQC</th>\n",
       "      <th>Fence</th>\n",
       "      <th>MiscFeature</th>\n",
       "      <th>MiscVal</th>\n",
       "      <th>MoSold</th>\n",
       "      <th>YrSold</th>\n",
       "      <th>SaleType</th>\n",
       "      <th>SaleCondition</th>\n",
       "    </tr>\n",
       "    <tr>\n",
       "      <th>Id</th>\n",
       "      <th></th>\n",
       "      <th></th>\n",
       "      <th></th>\n",
       "      <th></th>\n",
       "      <th></th>\n",
       "      <th></th>\n",
       "      <th></th>\n",
       "      <th></th>\n",
       "      <th></th>\n",
       "      <th></th>\n",
       "      <th></th>\n",
       "      <th></th>\n",
       "      <th></th>\n",
       "      <th></th>\n",
       "      <th></th>\n",
       "      <th></th>\n",
       "      <th></th>\n",
       "      <th></th>\n",
       "      <th></th>\n",
       "      <th></th>\n",
       "      <th></th>\n",
       "    </tr>\n",
       "  </thead>\n",
       "  <tbody>\n",
       "    <tr>\n",
       "      <th>1461</th>\n",
       "      <td>20</td>\n",
       "      <td>RH</td>\n",
       "      <td>80.0</td>\n",
       "      <td>11622</td>\n",
       "      <td>Pave</td>\n",
       "      <td>NaN</td>\n",
       "      <td>Reg</td>\n",
       "      <td>Lvl</td>\n",
       "      <td>AllPub</td>\n",
       "      <td>Inside</td>\n",
       "      <td>...</td>\n",
       "      <td>120</td>\n",
       "      <td>0</td>\n",
       "      <td>NaN</td>\n",
       "      <td>MnPrv</td>\n",
       "      <td>NaN</td>\n",
       "      <td>0</td>\n",
       "      <td>6</td>\n",
       "      <td>2010</td>\n",
       "      <td>WD</td>\n",
       "      <td>Normal</td>\n",
       "    </tr>\n",
       "    <tr>\n",
       "      <th>1462</th>\n",
       "      <td>20</td>\n",
       "      <td>RL</td>\n",
       "      <td>81.0</td>\n",
       "      <td>14267</td>\n",
       "      <td>Pave</td>\n",
       "      <td>NaN</td>\n",
       "      <td>IR1</td>\n",
       "      <td>Lvl</td>\n",
       "      <td>AllPub</td>\n",
       "      <td>Corner</td>\n",
       "      <td>...</td>\n",
       "      <td>0</td>\n",
       "      <td>0</td>\n",
       "      <td>NaN</td>\n",
       "      <td>NaN</td>\n",
       "      <td>Gar2</td>\n",
       "      <td>12500</td>\n",
       "      <td>6</td>\n",
       "      <td>2010</td>\n",
       "      <td>WD</td>\n",
       "      <td>Normal</td>\n",
       "    </tr>\n",
       "    <tr>\n",
       "      <th>1463</th>\n",
       "      <td>60</td>\n",
       "      <td>RL</td>\n",
       "      <td>74.0</td>\n",
       "      <td>13830</td>\n",
       "      <td>Pave</td>\n",
       "      <td>NaN</td>\n",
       "      <td>IR1</td>\n",
       "      <td>Lvl</td>\n",
       "      <td>AllPub</td>\n",
       "      <td>Inside</td>\n",
       "      <td>...</td>\n",
       "      <td>0</td>\n",
       "      <td>0</td>\n",
       "      <td>NaN</td>\n",
       "      <td>MnPrv</td>\n",
       "      <td>NaN</td>\n",
       "      <td>0</td>\n",
       "      <td>3</td>\n",
       "      <td>2010</td>\n",
       "      <td>WD</td>\n",
       "      <td>Normal</td>\n",
       "    </tr>\n",
       "    <tr>\n",
       "      <th>1464</th>\n",
       "      <td>60</td>\n",
       "      <td>RL</td>\n",
       "      <td>78.0</td>\n",
       "      <td>9978</td>\n",
       "      <td>Pave</td>\n",
       "      <td>NaN</td>\n",
       "      <td>IR1</td>\n",
       "      <td>Lvl</td>\n",
       "      <td>AllPub</td>\n",
       "      <td>Inside</td>\n",
       "      <td>...</td>\n",
       "      <td>0</td>\n",
       "      <td>0</td>\n",
       "      <td>NaN</td>\n",
       "      <td>NaN</td>\n",
       "      <td>NaN</td>\n",
       "      <td>0</td>\n",
       "      <td>6</td>\n",
       "      <td>2010</td>\n",
       "      <td>WD</td>\n",
       "      <td>Normal</td>\n",
       "    </tr>\n",
       "    <tr>\n",
       "      <th>1465</th>\n",
       "      <td>120</td>\n",
       "      <td>RL</td>\n",
       "      <td>43.0</td>\n",
       "      <td>5005</td>\n",
       "      <td>Pave</td>\n",
       "      <td>NaN</td>\n",
       "      <td>IR1</td>\n",
       "      <td>HLS</td>\n",
       "      <td>AllPub</td>\n",
       "      <td>Inside</td>\n",
       "      <td>...</td>\n",
       "      <td>144</td>\n",
       "      <td>0</td>\n",
       "      <td>NaN</td>\n",
       "      <td>NaN</td>\n",
       "      <td>NaN</td>\n",
       "      <td>0</td>\n",
       "      <td>1</td>\n",
       "      <td>2010</td>\n",
       "      <td>WD</td>\n",
       "      <td>Normal</td>\n",
       "    </tr>\n",
       "  </tbody>\n",
       "</table>\n",
       "<p>5 rows × 79 columns</p>\n",
       "</div>"
      ],
      "text/plain": [
       "      MSSubClass MSZoning  LotFrontage  LotArea Street Alley LotShape  \\\n",
       "Id                                                                      \n",
       "1461          20       RH         80.0    11622   Pave   NaN      Reg   \n",
       "1462          20       RL         81.0    14267   Pave   NaN      IR1   \n",
       "1463          60       RL         74.0    13830   Pave   NaN      IR1   \n",
       "1464          60       RL         78.0     9978   Pave   NaN      IR1   \n",
       "1465         120       RL         43.0     5005   Pave   NaN      IR1   \n",
       "\n",
       "     LandContour Utilities LotConfig  ... ScreenPorch PoolArea PoolQC  Fence  \\\n",
       "Id                                    ...                                      \n",
       "1461         Lvl    AllPub    Inside  ...         120        0    NaN  MnPrv   \n",
       "1462         Lvl    AllPub    Corner  ...           0        0    NaN    NaN   \n",
       "1463         Lvl    AllPub    Inside  ...           0        0    NaN  MnPrv   \n",
       "1464         Lvl    AllPub    Inside  ...           0        0    NaN    NaN   \n",
       "1465         HLS    AllPub    Inside  ...         144        0    NaN    NaN   \n",
       "\n",
       "     MiscFeature MiscVal  MoSold  YrSold  SaleType  SaleCondition  \n",
       "Id                                                                 \n",
       "1461         NaN       0       6    2010        WD         Normal  \n",
       "1462        Gar2   12500       6    2010        WD         Normal  \n",
       "1463         NaN       0       3    2010        WD         Normal  \n",
       "1464         NaN       0       6    2010        WD         Normal  \n",
       "1465         NaN       0       1    2010        WD         Normal  \n",
       "\n",
       "[5 rows x 79 columns]"
      ]
     },
     "execution_count": 4,
     "metadata": {},
     "output_type": "execute_result"
    }
   ],
   "source": [
    "test_df = pd.read_csv(\"data/test.csv\", index_col=\"Id\");\n",
    "test_df.head()"
   ]
  },
  {
   "cell_type": "code",
   "execution_count": 5,
   "id": "3e91456e-abc0-4a25-868c-b744beff8085",
   "metadata": {},
   "outputs": [
    {
     "data": {
      "text/plain": [
       "Street\n",
       "Pave    1453\n",
       "Grvl       6\n",
       "Name: count, dtype: int64"
      ]
     },
     "execution_count": 5,
     "metadata": {},
     "output_type": "execute_result"
    }
   ],
   "source": [
    "test_df.Street.value_counts()"
   ]
  },
  {
   "cell_type": "markdown",
   "id": "bfcc3f83-e0bf-4603-aebc-dbb87e3f4467",
   "metadata": {},
   "source": [
    "## Предварительный анализ данных"
   ]
  },
  {
   "cell_type": "markdown",
   "id": "ba5cf2ff-8c9a-4852-a049-3835cd0c50fd",
   "metadata": {},
   "source": [
    "### MSSubClass - тип жилья\n",
    "\n",
    "- **20**: 1-этажный дом 1946 года постройки и новее (разных стилей)\n",
    "- **30**: 1-этажный дом 1945 года постройки и старше\n",
    "- **40**: 1-этажный дом с готовой мансардой (любой возраст)\n",
    "- **45**: 1-2-этажный дом, незаконченный (любой возраст)\n",
    "- **50**: 1-2-этажный дом, законченный (любой возраст)\n",
    "- **60**: 2-этажный дом 1946 года постройки и новее\n",
    "- **70**: 2-этажный дом 1945 года постройки и старше\n",
    "- **75**: 1-2-этажный дом (любой возраст)\n",
    "- **80**: раздельный или многоуровневый дом\n",
    "- **85**: раздельное фойе\n",
    "- **90**: сдвоенный - все стили и возрасты\n",
    "- **120**: 1-этажная ПЗ (планируемая застройка) - 1946 и новее\n",
    "- **150**: 1-2-этажный ПЗ (любой возраст)\n",
    "- **160**: 2-этажная ПЗ - 1946 и новее\n",
    "- **180**: ПЗ - многоуровневый - включая раздельное фойе\n",
    "- **190**: 2 семейных общаги - для всех стилей и возрастов"
   ]
  },
  {
   "cell_type": "code",
   "execution_count": 6,
   "id": "4662303e-c6d0-47de-81b9-8ca5c9be3e5d",
   "metadata": {},
   "outputs": [
    {
     "data": {
      "image/png": "[encoded data removed]",
      "text/plain": [
       "<Figure size 640x480 with 1 Axes>"
      ]
     },
     "metadata": {},
     "output_type": "display_data"
    }
   ],
   "source": [
    "count_vals_subclass = data.MSSubClass.value_counts().reset_index()\n",
    "\n",
    "sns.barplot(\n",
    "    data=count_vals_subclass,\n",
    "    x=\"MSSubClass\",\n",
    "    y=\"count\",\n",
    "    order=count_vals_subclass.sort_values(\"count\").MSSubClass,\n",
    ");"
   ]
  },
  {
   "cell_type": "code",
   "execution_count": 7,
   "id": "8bb05ad2-dc88-4eae-9125-527996e01b0d",
   "metadata": {},
   "outputs": [
    {
     "data": {
      "image/png": "[encoded data removed]",
      "text/plain": [
       "<Figure size 640x480 with 1 Axes>"
      ]
     },
     "metadata": {},
     "output_type": "display_data"
    }
   ],
   "source": [
    "subclass_price_df = data.groupby(\"MSSubClass\", as_index=False).SalePrice.mean()\n",
    "\n",
    "sns.barplot(\n",
    "    data=data,\n",
    "    x=\"MSSubClass\",\n",
    "    y=\"SalePrice\",\n",
    "    order=subclass_price_df.sort_values(\"SalePrice\").MSSubClass,\n",
    ");"
   ]
  },
  {
   "cell_type": "markdown",
   "id": "4585fa13-64e3-4748-b5a2-2e771389da7e",
   "metadata": {},
   "source": [
    "Заметня неплохая корреляция между типом жилья и его стоимостью. За исключением пожалуй 40 (1-этажный дом с готовой мансардой) и 75 (1-2 этажный дом для всех возрастов), у этих двух типов наблюдается сильный разброс в цене.\n",
    "\n",
    "Заменим числовые коды соответствующие разным типам домов на среднюю цену в каждом классе, но значения 40 и 75 заменим на NaN из-за большого разброса в цене."
   ]
  },
  {
   "cell_type": "code",
   "execution_count": 8,
   "id": "f6cc0dfe-74d1-41bd-b9f7-5a5727d94ce9",
   "metadata": {},
   "outputs": [
    {
     "data": {
      "text/html": [
       "<div>\n",
       "<style scoped>\n",
       "    .dataframe tbody tr th:only-of-type {\n",
       "        vertical-align: middle;\n",
       "    }\n",
       "\n",
       "    .dataframe tbody tr th {\n",
       "        vertical-align: top;\n",
       "    }\n",
       "\n",
       "    .dataframe thead th {\n",
       "        text-align: right;\n",
       "    }\n",
       "</style>\n",
       "<table border=\"1\" class=\"dataframe\">\n",
       "  <thead>\n",
       "    <tr style=\"text-align: right;\">\n",
       "      <th></th>\n",
       "      <th>subclass_price</th>\n",
       "    </tr>\n",
       "    <tr>\n",
       "      <th>Id</th>\n",
       "      <th></th>\n",
       "    </tr>\n",
       "  </thead>\n",
       "  <tbody>\n",
       "    <tr>\n",
       "      <th>1</th>\n",
       "      <td>239948.501672</td>\n",
       "    </tr>\n",
       "    <tr>\n",
       "      <th>2</th>\n",
       "      <td>185224.811567</td>\n",
       "    </tr>\n",
       "    <tr>\n",
       "      <th>3</th>\n",
       "      <td>239948.501672</td>\n",
       "    </tr>\n",
       "    <tr>\n",
       "      <th>4</th>\n",
       "      <td>166772.416667</td>\n",
       "    </tr>\n",
       "    <tr>\n",
       "      <th>5</th>\n",
       "      <td>239948.501672</td>\n",
       "    </tr>\n",
       "  </tbody>\n",
       "</table>\n",
       "</div>"
      ],
      "text/plain": [
       "    subclass_price\n",
       "Id                \n",
       "1    239948.501672\n",
       "2    185224.811567\n",
       "3    239948.501672\n",
       "4    166772.416667\n",
       "5    239948.501672"
      ]
     },
     "execution_count": 8,
     "metadata": {},
     "output_type": "execute_result"
    }
   ],
   "source": [
    "df = pd.DataFrame(data.MSSubClass).rename(columns={\"MSSubClass\": \"subclass_price\"})\n",
    "# df.subclass_price.replace({40: np.nan, 75: np.nan}, inplace=True)\n",
    "df.subclass_price.replace(subclass_price_df.MSSubClass.values,\n",
    "                          subclass_price_df.SalePrice.values,\n",
    "                          inplace=True)\n",
    "\n",
    "df.head()"
   ]
  },
  {
   "cell_type": "markdown",
   "id": "6df362ac-2cbe-4a88-bc82-05eeaa8883c8",
   "metadata": {},
   "source": [
    "## MSZoning - расположение дома\n",
    "\n",
    "- **A**:\tСельское хозяйство\n",
    "- **C**:\tКомерческий\n",
    "- **FV**:\tДеревня на воде\n",
    "- **I**:\tПромышленная\n",
    "- **RH**:\tВысокая плотность застройки\n",
    "- **RL**:\tНизкая плотность застройки\n",
    "- **RP**:\tНизкая плотность застройки, рядом парк \n",
    "- **RM**:\tСредняя плотность застройки"
   ]
  },
  {
   "cell_type": "code",
   "execution_count": 9,
   "id": "59c696b8-cae2-4580-bddd-06566dd8866a",
   "metadata": {},
   "outputs": [
    {
     "data": {
      "text/plain": [
       "array(['RL', 'RM', 'C (all)', 'FV', 'RH'], dtype=object)"
      ]
     },
     "execution_count": 9,
     "metadata": {},
     "output_type": "execute_result"
    }
   ],
   "source": [
    "data.MSZoning.unique()"
   ]
  },
  {
   "cell_type": "code",
   "execution_count": 10,
   "id": "ad9d545a-12b2-42ae-bc85-057cf729a6a3",
   "metadata": {},
   "outputs": [
    {
     "data": {
      "image/png": "[encoded data removed]",
      "text/plain": [
       "<Figure size 640x480 with 1 Axes>"
      ]
     },
     "metadata": {},
     "output_type": "display_data"
    }
   ],
   "source": [
    "data.MSZoning.hist();"
   ]
  },
  {
   "cell_type": "code",
   "execution_count": 11,
   "id": "609d482f-3598-4aa3-942d-cdf4aef4e6a8",
   "metadata": {},
   "outputs": [
    {
     "data": {
      "image/png": "[encoded data removed]",
      "text/plain": [
       "<Figure size 640x480 with 1 Axes>"
      ]
     },
     "metadata": {},
     "output_type": "display_data"
    }
   ],
   "source": [
    "zoning_price_df = data.groupby(\"MSZoning\", as_index=False).SalePrice.mean()\n",
    "\n",
    "sns.barplot(\n",
    "    data=data,\n",
    "    x=\"MSZoning\",\n",
    "    y=\"SalePrice\",\n",
    "    order=zoning_price_df.sort_values(\"SalePrice\").MSZoning,\n",
    ");"
   ]
  },
  {
   "cell_type": "markdown",
   "id": "9d341632-104c-4bbe-9407-0df7b5018aab",
   "metadata": {},
   "source": [
    "..."
   ]
  },
  {
   "cell_type": "markdown",
   "id": "759519ec-426d-4ab0-8b94-f03c9779d4b9",
   "metadata": {},
   "source": [
    "## LotFrontage - длина линии, по которой дом соединен с улицей"
   ]
  },
  {
   "cell_type": "code",
   "execution_count": 12,
   "id": "f2696399-7b27-443c-aba8-f588ce9e0072",
   "metadata": {},
   "outputs": [
    {
     "data": {
      "text/plain": [
       "259"
      ]
     },
     "execution_count": 12,
     "metadata": {},
     "output_type": "execute_result"
    }
   ],
   "source": [
    "data.LotFrontage.isna().sum()"
   ]
  },
  {
   "cell_type": "code",
   "execution_count": 13,
   "id": "35218b06-d085-4503-b31f-96eb7812e409",
   "metadata": {},
   "outputs": [
    {
     "data": {
      "image/png": "[encoded data removed]",
      "text/plain": [
       "<Figure size 640x480 with 1 Axes>"
      ]
     },
     "metadata": {},
     "output_type": "display_data"
    }
   ],
   "source": [
    "sns.scatterplot(data=data, x=\"LotFrontage\", y=\"SalePrice\");"
   ]
  },
  {
   "cell_type": "code",
   "execution_count": 14,
   "id": "1bde27a7-bfaa-4cde-b86c-d34768cbad91",
   "metadata": {},
   "outputs": [
    {
     "data": {
      "image/png": "[encoded data removed]",
      "text/plain": [
       "<Figure size 640x480 with 1 Axes>"
      ]
     },
     "metadata": {},
     "output_type": "display_data"
    }
   ],
   "source": [
    "data.LotFrontage.hist();"
   ]
  },
  {
   "cell_type": "markdown",
   "id": "33cc5650-bbb4-4a1f-9a94-0367c76ec725",
   "metadata": {},
   "source": [
    "Этот признак довольно слабо коррелирует с ценой дома, и тем более 259 значений пропущено. Его отбросим"
   ]
  },
  {
   "cell_type": "markdown",
   "id": "901a5e32-687b-4be9-a921-8e11d28fa6d5",
   "metadata": {},
   "source": [
    "## LotArea - размер участка в квадратных футах"
   ]
  },
  {
   "cell_type": "code",
   "execution_count": 15,
   "id": "23a0ef1d-d0d6-491b-8ca4-13ac2229ce40",
   "metadata": {},
   "outputs": [
    {
     "data": {
      "image/png": "[encoded data removed]",
      "text/plain": [
       "<Figure size 640x480 with 1 Axes>"
      ]
     },
     "metadata": {},
     "output_type": "display_data"
    }
   ],
   "source": [
    "sns.scatterplot(data=data.query(\"LotArea <= 50000\"), x=\"LotArea\", y=\"SalePrice\");"
   ]
  },
  {
   "cell_type": "code",
   "execution_count": 16,
   "id": "ac707278-a36b-4892-aa87-e7d7e4b14ef3",
   "metadata": {},
   "outputs": [
    {
     "data": {
      "image/png": "[encoded data removed]",
      "text/plain": [
       "<Figure size 640x480 with 1 Axes>"
      ]
     },
     "metadata": {},
     "output_type": "display_data"
    }
   ],
   "source": [
    "data.query(\"LotArea <= 50000\").LotArea.hist();"
   ]
  },
  {
   "cell_type": "markdown",
   "id": "dd1930d4-935b-4c3e-aaa9-0be59da2e319",
   "metadata": {},
   "source": [
    "Площадь участка довольно важный признак при выборе дома, поэтому его мы оставим"
   ]
  },
  {
   "cell_type": "code",
   "execution_count": 17,
   "id": "c30bc1cb-c388-4d8e-b838-3493d03b1d28",
   "metadata": {},
   "outputs": [
    {
     "data": {
      "text/html": [
       "<div>\n",
       "<style scoped>\n",
       "    .dataframe tbody tr th:only-of-type {\n",
       "        vertical-align: middle;\n",
       "    }\n",
       "\n",
       "    .dataframe tbody tr th {\n",
       "        vertical-align: top;\n",
       "    }\n",
       "\n",
       "    .dataframe thead th {\n",
       "        text-align: right;\n",
       "    }\n",
       "</style>\n",
       "<table border=\"1\" class=\"dataframe\">\n",
       "  <thead>\n",
       "    <tr style=\"text-align: right;\">\n",
       "      <th></th>\n",
       "      <th>subclass_price</th>\n",
       "      <th>lot_area</th>\n",
       "    </tr>\n",
       "    <tr>\n",
       "      <th>Id</th>\n",
       "      <th></th>\n",
       "      <th></th>\n",
       "    </tr>\n",
       "  </thead>\n",
       "  <tbody>\n",
       "    <tr>\n",
       "      <th>1</th>\n",
       "      <td>239948.501672</td>\n",
       "      <td>8450</td>\n",
       "    </tr>\n",
       "    <tr>\n",
       "      <th>2</th>\n",
       "      <td>185224.811567</td>\n",
       "      <td>9600</td>\n",
       "    </tr>\n",
       "    <tr>\n",
       "      <th>3</th>\n",
       "      <td>239948.501672</td>\n",
       "      <td>11250</td>\n",
       "    </tr>\n",
       "    <tr>\n",
       "      <th>4</th>\n",
       "      <td>166772.416667</td>\n",
       "      <td>9550</td>\n",
       "    </tr>\n",
       "    <tr>\n",
       "      <th>5</th>\n",
       "      <td>239948.501672</td>\n",
       "      <td>14260</td>\n",
       "    </tr>\n",
       "  </tbody>\n",
       "</table>\n",
       "</div>"
      ],
      "text/plain": [
       "    subclass_price  lot_area\n",
       "Id                          \n",
       "1    239948.501672      8450\n",
       "2    185224.811567      9600\n",
       "3    239948.501672     11250\n",
       "4    166772.416667      9550\n",
       "5    239948.501672     14260"
      ]
     },
     "execution_count": 17,
     "metadata": {},
     "output_type": "execute_result"
    }
   ],
   "source": [
    "df[\"lot_area\"] = data.LotArea\n",
    "df.head()"
   ]
  },
  {
   "cell_type": "markdown",
   "id": "d86155be-4261-4ed5-95f7-f4473cee1da5",
   "metadata": {},
   "source": [
    "## Street - тип подъездной дороги\n",
    "\n",
    "- **Grvl** (Graveld) - грунтовая дорога\n",
    "- **Pave** (Paved) - бетонная/плиточная дорога\n",
    "\n",
    "Напрашивается предположение, что дома с грунтовой дорогой стоят меньше, чем с бетонной"
   ]
  },
  {
   "cell_type": "code",
   "execution_count": 18,
   "id": "5d881de4-c9cf-422b-abf0-61f331bb914b",
   "metadata": {},
   "outputs": [
    {
     "data": {
      "image/png": "[encoded data removed]",
      "text/plain": [
       "<Figure size 640x480 with 1 Axes>"
      ]
     },
     "metadata": {},
     "output_type": "display_data"
    }
   ],
   "source": [
    "sns.barplot(data=data, x=\"Street\", y=\"SalePrice\");"
   ]
  },
  {
   "cell_type": "code",
   "execution_count": 19,
   "id": "5b6d82f8-499d-4308-a5e8-d38c71e480c5",
   "metadata": {},
   "outputs": [
    {
     "data": {
      "text/plain": [
       "Street\n",
       "Pave    1454\n",
       "Grvl       6\n",
       "Name: count, dtype: int64"
      ]
     },
     "execution_count": 19,
     "metadata": {},
     "output_type": "execute_result"
    }
   ],
   "source": [
    "data.Street.value_counts()"
   ]
  },
  {
   "cell_type": "markdown",
   "id": "0044ace3-f206-4413-a53e-26a8650a8b9e",
   "metadata": {},
   "source": [
    "Наличие вымощенной дороги явно определяет будущую цену дома, в то время как цена домов с грунтовой дорогой сильно варьируется. Добавим в тренировочный фрейм булеву колнку, которая будет соответствовать типу дороги."
   ]
  },
  {
   "cell_type": "code",
   "execution_count": 20,
   "id": "c51dc220-43bc-41cd-8457-0355acb98362",
   "metadata": {},
   "outputs": [
    {
     "data": {
      "text/html": [
       "<div>\n",
       "<style scoped>\n",
       "    .dataframe tbody tr th:only-of-type {\n",
       "        vertical-align: middle;\n",
       "    }\n",
       "\n",
       "    .dataframe tbody tr th {\n",
       "        vertical-align: top;\n",
       "    }\n",
       "\n",
       "    .dataframe thead th {\n",
       "        text-align: right;\n",
       "    }\n",
       "</style>\n",
       "<table border=\"1\" class=\"dataframe\">\n",
       "  <thead>\n",
       "    <tr style=\"text-align: right;\">\n",
       "      <th></th>\n",
       "      <th>subclass_price</th>\n",
       "      <th>lot_area</th>\n",
       "      <th>pav_strt</th>\n",
       "    </tr>\n",
       "    <tr>\n",
       "      <th>Id</th>\n",
       "      <th></th>\n",
       "      <th></th>\n",
       "      <th></th>\n",
       "    </tr>\n",
       "  </thead>\n",
       "  <tbody>\n",
       "    <tr>\n",
       "      <th>1</th>\n",
       "      <td>239948.501672</td>\n",
       "      <td>8450</td>\n",
       "      <td>1</td>\n",
       "    </tr>\n",
       "    <tr>\n",
       "      <th>2</th>\n",
       "      <td>185224.811567</td>\n",
       "      <td>9600</td>\n",
       "      <td>1</td>\n",
       "    </tr>\n",
       "    <tr>\n",
       "      <th>3</th>\n",
       "      <td>239948.501672</td>\n",
       "      <td>11250</td>\n",
       "      <td>1</td>\n",
       "    </tr>\n",
       "    <tr>\n",
       "      <th>4</th>\n",
       "      <td>166772.416667</td>\n",
       "      <td>9550</td>\n",
       "      <td>1</td>\n",
       "    </tr>\n",
       "    <tr>\n",
       "      <th>5</th>\n",
       "      <td>239948.501672</td>\n",
       "      <td>14260</td>\n",
       "      <td>1</td>\n",
       "    </tr>\n",
       "  </tbody>\n",
       "</table>\n",
       "</div>"
      ],
      "text/plain": [
       "    subclass_price  lot_area  pav_strt\n",
       "Id                                    \n",
       "1    239948.501672      8450         1\n",
       "2    185224.811567      9600         1\n",
       "3    239948.501672     11250         1\n",
       "4    166772.416667      9550         1\n",
       "5    239948.501672     14260         1"
      ]
     },
     "execution_count": 20,
     "metadata": {},
     "output_type": "execute_result"
    }
   ],
   "source": [
    "df[\"pav_strt\"] = (data.Street == \"Pave\").astype(np.int64)\n",
    "df.head()"
   ]
  },
  {
   "cell_type": "markdown",
   "id": "b637376f-2fb0-47b9-9b4d-da71c4deeb9c",
   "metadata": {},
   "source": [
    "## Alley - тип подъездной аллеи\n",
    "- **Grvl** (Graved) - грунтовая\n",
    "- **Pave** (Paved) - вымощенная\n",
    "- **NA** (No alley access) - отсутствует (составляет большую часть данных)"
   ]
  },
  {
   "cell_type": "code",
   "execution_count": 21,
   "id": "ec821eba-e490-4ee3-a647-e36a7b5fb32a",
   "metadata": {},
   "outputs": [
    {
     "data": {
      "text/plain": [
       "1369"
      ]
     },
     "execution_count": 21,
     "metadata": {},
     "output_type": "execute_result"
    }
   ],
   "source": [
    "data.Alley.isna().sum()"
   ]
  },
  {
   "cell_type": "code",
   "execution_count": 22,
   "id": "4f028734-c8ec-475f-888c-447cfa609f53",
   "metadata": {},
   "outputs": [
    {
     "data": {
      "text/plain": [
       "Alley\n",
       "NA      1369\n",
       "Grvl      50\n",
       "Pave      41\n",
       "Name: count, dtype: int64"
      ]
     },
     "execution_count": 22,
     "metadata": {},
     "output_type": "execute_result"
    }
   ],
   "source": [
    "data.Alley.fillna(\"NA\", inplace=True)\n",
    "data.Alley.value_counts()"
   ]
  },
  {
   "cell_type": "code",
   "execution_count": 23,
   "id": "75823e43-4128-4575-98cd-51ad4daeffdf",
   "metadata": {},
   "outputs": [
    {
     "data": {
      "image/png": "[encoded data removed]",
      "text/plain": [
       "<Figure size 640x480 with 1 Axes>"
      ]
     },
     "metadata": {},
     "output_type": "display_data"
    }
   ],
   "source": [
    "sns.barplot(data=data, x=\"Alley\", y=\"SalePrice\");"
   ]
  },
  {
   "cell_type": "markdown",
   "id": "8f4d4d70-5845-4d35-a6f2-77fdc6a529f1",
   "metadata": {},
   "source": [
    "Наблюдаем интересный график: дома, на подъезде к которым нет аллеи, в основном стоят дороже. Добавим в фрейм еще две колонки соответствующие типу аллеи: graved_alley и paved_alley"
   ]
  },
  {
   "cell_type": "code",
   "execution_count": 24,
   "id": "58eb74f8-adeb-4462-8e33-45edf34267e3",
   "metadata": {},
   "outputs": [
    {
     "data": {
      "text/html": [
       "<div>\n",
       "<style scoped>\n",
       "    .dataframe tbody tr th:only-of-type {\n",
       "        vertical-align: middle;\n",
       "    }\n",
       "\n",
       "    .dataframe tbody tr th {\n",
       "        vertical-align: top;\n",
       "    }\n",
       "\n",
       "    .dataframe thead th {\n",
       "        text-align: right;\n",
       "    }\n",
       "</style>\n",
       "<table border=\"1\" class=\"dataframe\">\n",
       "  <thead>\n",
       "    <tr style=\"text-align: right;\">\n",
       "      <th></th>\n",
       "      <th>subclass_price</th>\n",
       "      <th>lot_area</th>\n",
       "      <th>pav_strt</th>\n",
       "      <th>grav_al</th>\n",
       "      <th>pav_al</th>\n",
       "    </tr>\n",
       "    <tr>\n",
       "      <th>Id</th>\n",
       "      <th></th>\n",
       "      <th></th>\n",
       "      <th></th>\n",
       "      <th></th>\n",
       "      <th></th>\n",
       "    </tr>\n",
       "  </thead>\n",
       "  <tbody>\n",
       "    <tr>\n",
       "      <th>1</th>\n",
       "      <td>239948.501672</td>\n",
       "      <td>8450</td>\n",
       "      <td>1</td>\n",
       "      <td>0</td>\n",
       "      <td>0</td>\n",
       "    </tr>\n",
       "    <tr>\n",
       "      <th>2</th>\n",
       "      <td>185224.811567</td>\n",
       "      <td>9600</td>\n",
       "      <td>1</td>\n",
       "      <td>0</td>\n",
       "      <td>0</td>\n",
       "    </tr>\n",
       "    <tr>\n",
       "      <th>3</th>\n",
       "      <td>239948.501672</td>\n",
       "      <td>11250</td>\n",
       "      <td>1</td>\n",
       "      <td>0</td>\n",
       "      <td>0</td>\n",
       "    </tr>\n",
       "    <tr>\n",
       "      <th>4</th>\n",
       "      <td>166772.416667</td>\n",
       "      <td>9550</td>\n",
       "      <td>1</td>\n",
       "      <td>0</td>\n",
       "      <td>0</td>\n",
       "    </tr>\n",
       "    <tr>\n",
       "      <th>5</th>\n",
       "      <td>239948.501672</td>\n",
       "      <td>14260</td>\n",
       "      <td>1</td>\n",
       "      <td>0</td>\n",
       "      <td>0</td>\n",
       "    </tr>\n",
       "  </tbody>\n",
       "</table>\n",
       "</div>"
      ],
      "text/plain": [
       "    subclass_price  lot_area  pav_strt  grav_al  pav_al\n",
       "Id                                                     \n",
       "1    239948.501672      8450         1        0       0\n",
       "2    185224.811567      9600         1        0       0\n",
       "3    239948.501672     11250         1        0       0\n",
       "4    166772.416667      9550         1        0       0\n",
       "5    239948.501672     14260         1        0       0"
      ]
     },
     "execution_count": 24,
     "metadata": {},
     "output_type": "execute_result"
    }
   ],
   "source": [
    "df[\"grav_al\"] = (data.Alley == \"Grvl\").astype(np.int64)\n",
    "df[\"pav_al\"] = (data.Alley == \"Pave\").astype(np.int64)\n",
    "df.head()"
   ]
  },
  {
   "cell_type": "markdown",
   "id": "48ec35ff-bd99-41a6-baa7-f45c796f0395",
   "metadata": {},
   "source": [
    "## LotShape - форма участка\n",
    "\n",
    "- **Reg** (regular) - симметричный\n",
    "- **IR1** - слегка не симметричный\n",
    "- **IR2** - умеренно не симметричный\n",
    "- **IR3** - совсем не симметричный"
   ]
  },
  {
   "cell_type": "code",
   "execution_count": 25,
   "id": "00e21c7d-9e5e-4cae-aaeb-07a50ad9d9b0",
   "metadata": {},
   "outputs": [
    {
     "data": {
      "image/png": "[encoded data removed]",
      "text/plain": [
       "<Figure size 640x480 with 1 Axes>"
      ]
     },
     "metadata": {},
     "output_type": "display_data"
    }
   ],
   "source": [
    "sns.countplot(data=data, x=\"LotShape\");"
   ]
  },
  {
   "cell_type": "code",
   "execution_count": 26,
   "id": "a4d949dd-064d-4ef5-9d09-85de09e098fb",
   "metadata": {},
   "outputs": [
    {
     "data": {
      "image/png": "[encoded data removed]",
      "text/plain": [
       "<Figure size 640x480 with 1 Axes>"
      ]
     },
     "metadata": {},
     "output_type": "display_data"
    }
   ],
   "source": [
    "sns.barplot(data=data, x=\"LotShape\", y=\"SalePrice\");"
   ]
  },
  {
   "cell_type": "code",
   "execution_count": 27,
   "id": "ce5ed426-6a5d-4530-a2a7-0de7c78e4951",
   "metadata": {},
   "outputs": [
    {
     "data": {
      "text/html": [
       "<div>\n",
       "<style scoped>\n",
       "    .dataframe tbody tr th:only-of-type {\n",
       "        vertical-align: middle;\n",
       "    }\n",
       "\n",
       "    .dataframe tbody tr th {\n",
       "        vertical-align: top;\n",
       "    }\n",
       "\n",
       "    .dataframe thead th {\n",
       "        text-align: right;\n",
       "    }\n",
       "</style>\n",
       "<table border=\"1\" class=\"dataframe\">\n",
       "  <thead>\n",
       "    <tr style=\"text-align: right;\">\n",
       "      <th></th>\n",
       "      <th>count</th>\n",
       "      <th>mean</th>\n",
       "      <th>std</th>\n",
       "      <th>min</th>\n",
       "      <th>25%</th>\n",
       "      <th>50%</th>\n",
       "      <th>75%</th>\n",
       "      <th>max</th>\n",
       "    </tr>\n",
       "    <tr>\n",
       "      <th>LotShape</th>\n",
       "      <th></th>\n",
       "      <th></th>\n",
       "      <th></th>\n",
       "      <th></th>\n",
       "      <th></th>\n",
       "      <th></th>\n",
       "      <th></th>\n",
       "      <th></th>\n",
       "    </tr>\n",
       "  </thead>\n",
       "  <tbody>\n",
       "    <tr>\n",
       "      <th>Reg</th>\n",
       "      <td>925.0</td>\n",
       "      <td>164754.818378</td>\n",
       "      <td>69673.427215</td>\n",
       "      <td>34900.0</td>\n",
       "      <td>120000.0</td>\n",
       "      <td>146000.0</td>\n",
       "      <td>188000.0</td>\n",
       "      <td>582933.0</td>\n",
       "    </tr>\n",
       "    <tr>\n",
       "      <th>IR1</th>\n",
       "      <td>484.0</td>\n",
       "      <td>206101.665289</td>\n",
       "      <td>85858.489559</td>\n",
       "      <td>52000.0</td>\n",
       "      <td>150000.0</td>\n",
       "      <td>189000.0</td>\n",
       "      <td>239000.0</td>\n",
       "      <td>755000.0</td>\n",
       "    </tr>\n",
       "    <tr>\n",
       "      <th>IR3</th>\n",
       "      <td>10.0</td>\n",
       "      <td>216036.500000</td>\n",
       "      <td>82540.334855</td>\n",
       "      <td>73000.0</td>\n",
       "      <td>167875.0</td>\n",
       "      <td>203570.0</td>\n",
       "      <td>265000.0</td>\n",
       "      <td>375000.0</td>\n",
       "    </tr>\n",
       "    <tr>\n",
       "      <th>IR2</th>\n",
       "      <td>41.0</td>\n",
       "      <td>239833.365854</td>\n",
       "      <td>99669.427362</td>\n",
       "      <td>110000.0</td>\n",
       "      <td>175000.0</td>\n",
       "      <td>221000.0</td>\n",
       "      <td>250000.0</td>\n",
       "      <td>538000.0</td>\n",
       "    </tr>\n",
       "  </tbody>\n",
       "</table>\n",
       "</div>"
      ],
      "text/plain": [
       "          count           mean           std       min       25%       50%  \\\n",
       "LotShape                                                                     \n",
       "Reg       925.0  164754.818378  69673.427215   34900.0  120000.0  146000.0   \n",
       "IR1       484.0  206101.665289  85858.489559   52000.0  150000.0  189000.0   \n",
       "IR3        10.0  216036.500000  82540.334855   73000.0  167875.0  203570.0   \n",
       "IR2        41.0  239833.365854  99669.427362  110000.0  175000.0  221000.0   \n",
       "\n",
       "               75%       max  \n",
       "LotShape                      \n",
       "Reg       188000.0  582933.0  \n",
       "IR1       239000.0  755000.0  \n",
       "IR3       265000.0  375000.0  \n",
       "IR2       250000.0  538000.0  "
      ]
     },
     "execution_count": 27,
     "metadata": {},
     "output_type": "execute_result"
    }
   ],
   "source": [
    "data.groupby('LotShape').SalePrice.describe().sort_values(\"mean\")"
   ]
  },
  {
   "cell_type": "markdown",
   "id": "fe9b90f6-eaff-48eb-aefe-bf635995304e",
   "metadata": {},
   "source": [
    "В среднем симметричные участки (reg и IR1) стоят дешевле, чем не симметричные, поэтому добавим данный признак в фрейм. RegShape: 1 - регулярный участок, 0 - соответстсвует IR1, IR2, IR3."
   ]
  },
  {
   "cell_type": "code",
   "execution_count": 28,
   "id": "8cd11a6e-66b4-4e6a-bb12-b3bcd25373c5",
   "metadata": {},
   "outputs": [
    {
     "data": {
      "text/html": [
       "<div>\n",
       "<style scoped>\n",
       "    .dataframe tbody tr th:only-of-type {\n",
       "        vertical-align: middle;\n",
       "    }\n",
       "\n",
       "    .dataframe tbody tr th {\n",
       "        vertical-align: top;\n",
       "    }\n",
       "\n",
       "    .dataframe thead th {\n",
       "        text-align: right;\n",
       "    }\n",
       "</style>\n",
       "<table border=\"1\" class=\"dataframe\">\n",
       "  <thead>\n",
       "    <tr style=\"text-align: right;\">\n",
       "      <th></th>\n",
       "      <th>subclass_price</th>\n",
       "      <th>lot_area</th>\n",
       "      <th>pav_strt</th>\n",
       "      <th>grav_al</th>\n",
       "      <th>pav_al</th>\n",
       "      <th>regShape</th>\n",
       "    </tr>\n",
       "    <tr>\n",
       "      <th>Id</th>\n",
       "      <th></th>\n",
       "      <th></th>\n",
       "      <th></th>\n",
       "      <th></th>\n",
       "      <th></th>\n",
       "      <th></th>\n",
       "    </tr>\n",
       "  </thead>\n",
       "  <tbody>\n",
       "    <tr>\n",
       "      <th>1</th>\n",
       "      <td>239948.501672</td>\n",
       "      <td>8450</td>\n",
       "      <td>1</td>\n",
       "      <td>0</td>\n",
       "      <td>0</td>\n",
       "      <td>1</td>\n",
       "    </tr>\n",
       "    <tr>\n",
       "      <th>2</th>\n",
       "      <td>185224.811567</td>\n",
       "      <td>9600</td>\n",
       "      <td>1</td>\n",
       "      <td>0</td>\n",
       "      <td>0</td>\n",
       "      <td>1</td>\n",
       "    </tr>\n",
       "    <tr>\n",
       "      <th>3</th>\n",
       "      <td>239948.501672</td>\n",
       "      <td>11250</td>\n",
       "      <td>1</td>\n",
       "      <td>0</td>\n",
       "      <td>0</td>\n",
       "      <td>0</td>\n",
       "    </tr>\n",
       "    <tr>\n",
       "      <th>4</th>\n",
       "      <td>166772.416667</td>\n",
       "      <td>9550</td>\n",
       "      <td>1</td>\n",
       "      <td>0</td>\n",
       "      <td>0</td>\n",
       "      <td>0</td>\n",
       "    </tr>\n",
       "    <tr>\n",
       "      <th>5</th>\n",
       "      <td>239948.501672</td>\n",
       "      <td>14260</td>\n",
       "      <td>1</td>\n",
       "      <td>0</td>\n",
       "      <td>0</td>\n",
       "      <td>0</td>\n",
       "    </tr>\n",
       "  </tbody>\n",
       "</table>\n",
       "</div>"
      ],
      "text/plain": [
       "    subclass_price  lot_area  pav_strt  grav_al  pav_al  regShape\n",
       "Id                                                               \n",
       "1    239948.501672      8450         1        0       0         1\n",
       "2    185224.811567      9600         1        0       0         1\n",
       "3    239948.501672     11250         1        0       0         0\n",
       "4    166772.416667      9550         1        0       0         0\n",
       "5    239948.501672     14260         1        0       0         0"
      ]
     },
     "execution_count": 28,
     "metadata": {},
     "output_type": "execute_result"
    }
   ],
   "source": [
    "df[\"regShape\"] = (data.LotShape == \"Reg\").astype(np.int64)\n",
    "df.head()"
   ]
  },
  {
   "cell_type": "markdown",
   "id": "d8188a64-368a-4507-96df-861bc6ea1d5d",
   "metadata": {},
   "source": [
    "## LandContour - ровность участка\n",
    "- **Lvl** () - ровный\n",
    "- **Bnk** () - на склоне холма\n",
    "- **HLS** () - склон холма\n",
    "- **Low** - разный"
   ]
  },
  {
   "cell_type": "code",
   "execution_count": 29,
   "id": "eafd4800-284d-4e95-8866-8d2878795947",
   "metadata": {},
   "outputs": [
    {
     "data": {
      "text/html": [
       "<div>\n",
       "<style scoped>\n",
       "    .dataframe tbody tr th:only-of-type {\n",
       "        vertical-align: middle;\n",
       "    }\n",
       "\n",
       "    .dataframe tbody tr th {\n",
       "        vertical-align: top;\n",
       "    }\n",
       "\n",
       "    .dataframe thead th {\n",
       "        text-align: right;\n",
       "    }\n",
       "</style>\n",
       "<table border=\"1\" class=\"dataframe\">\n",
       "  <thead>\n",
       "    <tr style=\"text-align: right;\">\n",
       "      <th></th>\n",
       "      <th>count</th>\n",
       "      <th>mean</th>\n",
       "      <th>std</th>\n",
       "      <th>min</th>\n",
       "      <th>25%</th>\n",
       "      <th>50%</th>\n",
       "      <th>75%</th>\n",
       "      <th>max</th>\n",
       "    </tr>\n",
       "    <tr>\n",
       "      <th>LandContour</th>\n",
       "      <th></th>\n",
       "      <th></th>\n",
       "      <th></th>\n",
       "      <th></th>\n",
       "      <th></th>\n",
       "      <th></th>\n",
       "      <th></th>\n",
       "      <th></th>\n",
       "    </tr>\n",
       "  </thead>\n",
       "  <tbody>\n",
       "    <tr>\n",
       "      <th>Bnk</th>\n",
       "      <td>63.0</td>\n",
       "      <td>143104.079365</td>\n",
       "      <td>49361.244074</td>\n",
       "      <td>52500.0</td>\n",
       "      <td>113000.0</td>\n",
       "      <td>139400.0</td>\n",
       "      <td>171250.00</td>\n",
       "      <td>315000.0</td>\n",
       "    </tr>\n",
       "    <tr>\n",
       "      <th>Lvl</th>\n",
       "      <td>1311.0</td>\n",
       "      <td>180183.746758</td>\n",
       "      <td>78463.567918</td>\n",
       "      <td>34900.0</td>\n",
       "      <td>130000.0</td>\n",
       "      <td>162900.0</td>\n",
       "      <td>212000.00</td>\n",
       "      <td>755000.0</td>\n",
       "    </tr>\n",
       "    <tr>\n",
       "      <th>Low</th>\n",
       "      <td>36.0</td>\n",
       "      <td>203661.111111</td>\n",
       "      <td>83935.353620</td>\n",
       "      <td>39300.0</td>\n",
       "      <td>143000.0</td>\n",
       "      <td>190000.0</td>\n",
       "      <td>263750.00</td>\n",
       "      <td>385000.0</td>\n",
       "    </tr>\n",
       "    <tr>\n",
       "      <th>HLS</th>\n",
       "      <td>50.0</td>\n",
       "      <td>231533.940000</td>\n",
       "      <td>101790.139741</td>\n",
       "      <td>82500.0</td>\n",
       "      <td>151750.0</td>\n",
       "      <td>222250.0</td>\n",
       "      <td>281347.25</td>\n",
       "      <td>538000.0</td>\n",
       "    </tr>\n",
       "  </tbody>\n",
       "</table>\n",
       "</div>"
      ],
      "text/plain": [
       "              count           mean            std      min       25%  \\\n",
       "LandContour                                                            \n",
       "Bnk            63.0  143104.079365   49361.244074  52500.0  113000.0   \n",
       "Lvl          1311.0  180183.746758   78463.567918  34900.0  130000.0   \n",
       "Low            36.0  203661.111111   83935.353620  39300.0  143000.0   \n",
       "HLS            50.0  231533.940000  101790.139741  82500.0  151750.0   \n",
       "\n",
       "                  50%        75%       max  \n",
       "LandContour                                 \n",
       "Bnk          139400.0  171250.00  315000.0  \n",
       "Lvl          162900.0  212000.00  755000.0  \n",
       "Low          190000.0  263750.00  385000.0  \n",
       "HLS          222250.0  281347.25  538000.0  "
      ]
     },
     "execution_count": 29,
     "metadata": {},
     "output_type": "execute_result"
    }
   ],
   "source": [
    "data.groupby('LandContour').SalePrice.describe().sort_values('mean')"
   ]
  },
  {
   "cell_type": "code",
   "execution_count": 30,
   "id": "0f7529c8-1861-47e8-b42f-4b6f1cb88b93",
   "metadata": {},
   "outputs": [
    {
     "data": {
      "image/png": "[encoded data removed]",
      "text/plain": [
       "<Figure size 640x480 with 1 Axes>"
      ]
     },
     "metadata": {},
     "output_type": "display_data"
    }
   ],
   "source": [
    "sns.barplot(data=data, x=\"LandContour\", y=\"SalePrice\");"
   ]
  },
  {
   "cell_type": "code",
   "execution_count": 31,
   "id": "d9be38bc-d5a8-4cf4-8acc-5d974faec740",
   "metadata": {},
   "outputs": [
    {
     "data": {
      "text/html": [
       "<div>\n",
       "<style scoped>\n",
       "    .dataframe tbody tr th:only-of-type {\n",
       "        vertical-align: middle;\n",
       "    }\n",
       "\n",
       "    .dataframe tbody tr th {\n",
       "        vertical-align: top;\n",
       "    }\n",
       "\n",
       "    .dataframe thead th {\n",
       "        text-align: right;\n",
       "    }\n",
       "</style>\n",
       "<table border=\"1\" class=\"dataframe\">\n",
       "  <thead>\n",
       "    <tr style=\"text-align: right;\">\n",
       "      <th></th>\n",
       "      <th>subclass_price</th>\n",
       "      <th>lot_area</th>\n",
       "      <th>pav_strt</th>\n",
       "      <th>grav_al</th>\n",
       "      <th>pav_al</th>\n",
       "      <th>regShape</th>\n",
       "      <th>lvlContour</th>\n",
       "      <th>hlsContour</th>\n",
       "      <th>bnkContour</th>\n",
       "    </tr>\n",
       "    <tr>\n",
       "      <th>Id</th>\n",
       "      <th></th>\n",
       "      <th></th>\n",
       "      <th></th>\n",
       "      <th></th>\n",
       "      <th></th>\n",
       "      <th></th>\n",
       "      <th></th>\n",
       "      <th></th>\n",
       "      <th></th>\n",
       "    </tr>\n",
       "  </thead>\n",
       "  <tbody>\n",
       "    <tr>\n",
       "      <th>1</th>\n",
       "      <td>239948.501672</td>\n",
       "      <td>8450</td>\n",
       "      <td>1</td>\n",
       "      <td>0</td>\n",
       "      <td>0</td>\n",
       "      <td>1</td>\n",
       "      <td>1</td>\n",
       "      <td>0</td>\n",
       "      <td>0</td>\n",
       "    </tr>\n",
       "    <tr>\n",
       "      <th>2</th>\n",
       "      <td>185224.811567</td>\n",
       "      <td>9600</td>\n",
       "      <td>1</td>\n",
       "      <td>0</td>\n",
       "      <td>0</td>\n",
       "      <td>1</td>\n",
       "      <td>1</td>\n",
       "      <td>0</td>\n",
       "      <td>0</td>\n",
       "    </tr>\n",
       "    <tr>\n",
       "      <th>3</th>\n",
       "      <td>239948.501672</td>\n",
       "      <td>11250</td>\n",
       "      <td>1</td>\n",
       "      <td>0</td>\n",
       "      <td>0</td>\n",
       "      <td>0</td>\n",
       "      <td>1</td>\n",
       "      <td>0</td>\n",
       "      <td>0</td>\n",
       "    </tr>\n",
       "    <tr>\n",
       "      <th>4</th>\n",
       "      <td>166772.416667</td>\n",
       "      <td>9550</td>\n",
       "      <td>1</td>\n",
       "      <td>0</td>\n",
       "      <td>0</td>\n",
       "      <td>0</td>\n",
       "      <td>1</td>\n",
       "      <td>0</td>\n",
       "      <td>0</td>\n",
       "    </tr>\n",
       "    <tr>\n",
       "      <th>5</th>\n",
       "      <td>239948.501672</td>\n",
       "      <td>14260</td>\n",
       "      <td>1</td>\n",
       "      <td>0</td>\n",
       "      <td>0</td>\n",
       "      <td>0</td>\n",
       "      <td>1</td>\n",
       "      <td>0</td>\n",
       "      <td>0</td>\n",
       "    </tr>\n",
       "  </tbody>\n",
       "</table>\n",
       "</div>"
      ],
      "text/plain": [
       "    subclass_price  lot_area  pav_strt  grav_al  pav_al  regShape  lvlContour  \\\n",
       "Id                                                                              \n",
       "1    239948.501672      8450         1        0       0         1           1   \n",
       "2    185224.811567      9600         1        0       0         1           1   \n",
       "3    239948.501672     11250         1        0       0         0           1   \n",
       "4    166772.416667      9550         1        0       0         0           1   \n",
       "5    239948.501672     14260         1        0       0         0           1   \n",
       "\n",
       "    hlsContour  bnkContour  \n",
       "Id                          \n",
       "1            0           0  \n",
       "2            0           0  \n",
       "3            0           0  \n",
       "4            0           0  \n",
       "5            0           0  "
      ]
     },
     "execution_count": 31,
     "metadata": {},
     "output_type": "execute_result"
    }
   ],
   "source": [
    "df[\"lvlContour\"] = (data.LandContour == \"Lvl\").astype(np.int64)\n",
    "df[\"hlsContour\"] = (data.LandContour == \"HLS\").astype(np.int64)\n",
    "df[\"bnkContour\"] = (data.LandContour == \"Bnk\").astype(np.int64)\n",
    "df.head()"
   ]
  },
  {
   "cell_type": "markdown",
   "id": "07e69c86-5a4e-482c-af8b-e56d836a8e82",
   "metadata": {},
   "source": [
    "## Utilities - тип доступных коммунальных услуг\n",
    "- **AllPub** - все коммунальные услуги\n",
    "- **NoSewr** - только электричество, газ и вода, кроме канализации\n",
    "- **NoSeWa** - только электричество и газ\n",
    "- **ELO** - только электричество"
   ]
  },
  {
   "cell_type": "code",
   "execution_count": 32,
   "id": "cc72e4ac-0763-45a5-9feb-4ec8a287afe7",
   "metadata": {},
   "outputs": [
    {
     "data": {
      "text/html": [
       "<div>\n",
       "<style scoped>\n",
       "    .dataframe tbody tr th:only-of-type {\n",
       "        vertical-align: middle;\n",
       "    }\n",
       "\n",
       "    .dataframe tbody tr th {\n",
       "        vertical-align: top;\n",
       "    }\n",
       "\n",
       "    .dataframe thead th {\n",
       "        text-align: right;\n",
       "    }\n",
       "</style>\n",
       "<table border=\"1\" class=\"dataframe\">\n",
       "  <thead>\n",
       "    <tr style=\"text-align: right;\">\n",
       "      <th></th>\n",
       "      <th>count</th>\n",
       "      <th>mean</th>\n",
       "      <th>std</th>\n",
       "      <th>min</th>\n",
       "      <th>25%</th>\n",
       "      <th>50%</th>\n",
       "      <th>75%</th>\n",
       "      <th>max</th>\n",
       "    </tr>\n",
       "    <tr>\n",
       "      <th>Utilities</th>\n",
       "      <th></th>\n",
       "      <th></th>\n",
       "      <th></th>\n",
       "      <th></th>\n",
       "      <th></th>\n",
       "      <th></th>\n",
       "      <th></th>\n",
       "      <th></th>\n",
       "    </tr>\n",
       "  </thead>\n",
       "  <tbody>\n",
       "    <tr>\n",
       "      <th>AllPub</th>\n",
       "      <td>1459.0</td>\n",
       "      <td>180950.95682</td>\n",
       "      <td>79461.599814</td>\n",
       "      <td>34900.0</td>\n",
       "      <td>129950.0</td>\n",
       "      <td>163000.0</td>\n",
       "      <td>214000.0</td>\n",
       "      <td>755000.0</td>\n",
       "    </tr>\n",
       "    <tr>\n",
       "      <th>NoSeWa</th>\n",
       "      <td>1.0</td>\n",
       "      <td>137500.00000</td>\n",
       "      <td>NaN</td>\n",
       "      <td>137500.0</td>\n",
       "      <td>137500.0</td>\n",
       "      <td>137500.0</td>\n",
       "      <td>137500.0</td>\n",
       "      <td>137500.0</td>\n",
       "    </tr>\n",
       "  </tbody>\n",
       "</table>\n",
       "</div>"
      ],
      "text/plain": [
       "            count          mean           std       min       25%       50%  \\\n",
       "Utilities                                                                     \n",
       "AllPub     1459.0  180950.95682  79461.599814   34900.0  129950.0  163000.0   \n",
       "NoSeWa        1.0  137500.00000           NaN  137500.0  137500.0  137500.0   \n",
       "\n",
       "                75%       max  \n",
       "Utilities                      \n",
       "AllPub     214000.0  755000.0  \n",
       "NoSeWa     137500.0  137500.0  "
      ]
     },
     "execution_count": 32,
     "metadata": {},
     "output_type": "execute_result"
    }
   ],
   "source": [
    "data.groupby(\"Utilities\").SalePrice.describe()"
   ]
  },
  {
   "cell_type": "markdown",
   "id": "eb0a6b09-81a2-446e-90f5-50cc15733411",
   "metadata": {},
   "source": [
    "Что тут можно сказать, все дома, кроме одного, имеют доступ ко всем коммуникациям. Что касается тестового набора данных, то там аналогичная картина, но есть 2 неопределенных значения (все остальные - AllPub). **Отбросим** данный признак."
   ]
  },
  {
   "cell_type": "markdown",
   "id": "a3831778-ed82-4dc2-9b81-265967e1ee9e",
   "metadata": {},
   "source": [
    "## LotConfig - расположение участка\n",
    "- **Inside** - внутренний участок\n",
    "- **Corner** - находится в углу сектора\n",
    "- **Culdesac** - тупик\n",
    "- **FR2** - с 2-х сторон есть фасад соседних домов\n",
    "- **FR3** - с 3-х сторон есть фасад соседних домов"
   ]
  },
  {
   "cell_type": "code",
   "execution_count": 33,
   "id": "88e5db23-7635-4b00-aa29-84d7e7b248d0",
   "metadata": {},
   "outputs": [
    {
     "data": {
      "text/html": [
       "<div>\n",
       "<style scoped>\n",
       "    .dataframe tbody tr th:only-of-type {\n",
       "        vertical-align: middle;\n",
       "    }\n",
       "\n",
       "    .dataframe tbody tr th {\n",
       "        vertical-align: top;\n",
       "    }\n",
       "\n",
       "    .dataframe thead th {\n",
       "        text-align: right;\n",
       "    }\n",
       "</style>\n",
       "<table border=\"1\" class=\"dataframe\">\n",
       "  <thead>\n",
       "    <tr style=\"text-align: right;\">\n",
       "      <th></th>\n",
       "      <th>count</th>\n",
       "      <th>mean</th>\n",
       "      <th>std</th>\n",
       "      <th>min</th>\n",
       "      <th>25%</th>\n",
       "      <th>50%</th>\n",
       "      <th>75%</th>\n",
       "      <th>max</th>\n",
       "    </tr>\n",
       "    <tr>\n",
       "      <th>LotConfig</th>\n",
       "      <th></th>\n",
       "      <th></th>\n",
       "      <th></th>\n",
       "      <th></th>\n",
       "      <th></th>\n",
       "      <th></th>\n",
       "      <th></th>\n",
       "      <th></th>\n",
       "    </tr>\n",
       "  </thead>\n",
       "  <tbody>\n",
       "    <tr>\n",
       "      <th>Inside</th>\n",
       "      <td>1052.0</td>\n",
       "      <td>176938.047529</td>\n",
       "      <td>76426.805787</td>\n",
       "      <td>34900.0</td>\n",
       "      <td>128000.0</td>\n",
       "      <td>159697.5</td>\n",
       "      <td>207125.0</td>\n",
       "      <td>611657.0</td>\n",
       "    </tr>\n",
       "    <tr>\n",
       "      <th>FR2</th>\n",
       "      <td>47.0</td>\n",
       "      <td>177934.574468</td>\n",
       "      <td>62788.926829</td>\n",
       "      <td>81000.0</td>\n",
       "      <td>143500.0</td>\n",
       "      <td>165000.0</td>\n",
       "      <td>194500.0</td>\n",
       "      <td>394617.0</td>\n",
       "    </tr>\n",
       "    <tr>\n",
       "      <th>Corner</th>\n",
       "      <td>263.0</td>\n",
       "      <td>181623.425856</td>\n",
       "      <td>84466.041222</td>\n",
       "      <td>52500.0</td>\n",
       "      <td>129250.0</td>\n",
       "      <td>160000.0</td>\n",
       "      <td>220000.0</td>\n",
       "      <td>755000.0</td>\n",
       "    </tr>\n",
       "    <tr>\n",
       "      <th>FR3</th>\n",
       "      <td>4.0</td>\n",
       "      <td>208475.000000</td>\n",
       "      <td>78379.222374</td>\n",
       "      <td>128000.0</td>\n",
       "      <td>169925.0</td>\n",
       "      <td>195450.0</td>\n",
       "      <td>234000.0</td>\n",
       "      <td>315000.0</td>\n",
       "    </tr>\n",
       "    <tr>\n",
       "      <th>CulDSac</th>\n",
       "      <td>94.0</td>\n",
       "      <td>223854.617021</td>\n",
       "      <td>93117.546586</td>\n",
       "      <td>84000.0</td>\n",
       "      <td>156475.0</td>\n",
       "      <td>199262.0</td>\n",
       "      <td>269342.5</td>\n",
       "      <td>625000.0</td>\n",
       "    </tr>\n",
       "  </tbody>\n",
       "</table>\n",
       "</div>"
      ],
      "text/plain": [
       "            count           mean           std       min       25%       50%  \\\n",
       "LotConfig                                                                      \n",
       "Inside     1052.0  176938.047529  76426.805787   34900.0  128000.0  159697.5   \n",
       "FR2          47.0  177934.574468  62788.926829   81000.0  143500.0  165000.0   \n",
       "Corner      263.0  181623.425856  84466.041222   52500.0  129250.0  160000.0   \n",
       "FR3           4.0  208475.000000  78379.222374  128000.0  169925.0  195450.0   \n",
       "CulDSac      94.0  223854.617021  93117.546586   84000.0  156475.0  199262.0   \n",
       "\n",
       "                75%       max  \n",
       "LotConfig                      \n",
       "Inside     207125.0  611657.0  \n",
       "FR2        194500.0  394617.0  \n",
       "Corner     220000.0  755000.0  \n",
       "FR3        234000.0  315000.0  \n",
       "CulDSac    269342.5  625000.0  "
      ]
     },
     "execution_count": 33,
     "metadata": {},
     "output_type": "execute_result"
    }
   ],
   "source": [
    "data.groupby(\"LotConfig\").SalePrice.describe().sort_values(\"mean\")"
   ]
  },
  {
   "cell_type": "code",
   "execution_count": 34,
   "id": "113a47e8-9bdd-4442-bb73-9387d08d5c4f",
   "metadata": {},
   "outputs": [
    {
     "data": {
      "image/png": "[encoded data removed]",
      "text/plain": [
       "<Figure size 640x480 with 1 Axes>"
      ]
     },
     "metadata": {},
     "output_type": "display_data"
    }
   ],
   "source": [
    "sns.barplot(data=data, x=\"LotConfig\", y=\"SalePrice\");"
   ]
  },
  {
   "cell_type": "markdown",
   "id": "cb82579b-7a62-427c-8091-07b90f93f19b",
   "metadata": {},
   "source": [
    "Признак расположения дома тоже отбросим"
   ]
  },
  {
   "cell_type": "markdown",
   "id": "a86c82b7-c6bd-4d10-a976-01e63ef90371",
   "metadata": {},
   "source": [
    "## LandSlope - наклон участка\n",
    "- **Gtl** - Пологий склон\n",
    "- **Mod** - Умеренный наклон\n",
    "- **Sev** - Крутой склон"
   ]
  },
  {
   "cell_type": "code",
   "execution_count": 35,
   "id": "8fbe8acd-aea1-4e38-a5d4-92452c095998",
   "metadata": {},
   "outputs": [
    {
     "data": {
      "text/html": [
       "<div>\n",
       "<style scoped>\n",
       "    .dataframe tbody tr th:only-of-type {\n",
       "        vertical-align: middle;\n",
       "    }\n",
       "\n",
       "    .dataframe tbody tr th {\n",
       "        vertical-align: top;\n",
       "    }\n",
       "\n",
       "    .dataframe thead th {\n",
       "        text-align: right;\n",
       "    }\n",
       "</style>\n",
       "<table border=\"1\" class=\"dataframe\">\n",
       "  <thead>\n",
       "    <tr style=\"text-align: right;\">\n",
       "      <th></th>\n",
       "      <th>count</th>\n",
       "      <th>mean</th>\n",
       "      <th>std</th>\n",
       "      <th>min</th>\n",
       "      <th>25%</th>\n",
       "      <th>50%</th>\n",
       "      <th>75%</th>\n",
       "      <th>max</th>\n",
       "    </tr>\n",
       "    <tr>\n",
       "      <th>LandSlope</th>\n",
       "      <th></th>\n",
       "      <th></th>\n",
       "      <th></th>\n",
       "      <th></th>\n",
       "      <th></th>\n",
       "      <th></th>\n",
       "      <th></th>\n",
       "      <th></th>\n",
       "    </tr>\n",
       "  </thead>\n",
       "  <tbody>\n",
       "    <tr>\n",
       "      <th>Gtl</th>\n",
       "      <td>1382.0</td>\n",
       "      <td>179956.799566</td>\n",
       "      <td>78669.369151</td>\n",
       "      <td>34900.0</td>\n",
       "      <td>129900.0</td>\n",
       "      <td>161875.0</td>\n",
       "      <td>212000.0</td>\n",
       "      <td>755000.0</td>\n",
       "    </tr>\n",
       "    <tr>\n",
       "      <th>Mod</th>\n",
       "      <td>65.0</td>\n",
       "      <td>196734.138462</td>\n",
       "      <td>92375.358116</td>\n",
       "      <td>39300.0</td>\n",
       "      <td>130000.0</td>\n",
       "      <td>186700.0</td>\n",
       "      <td>259500.0</td>\n",
       "      <td>538000.0</td>\n",
       "    </tr>\n",
       "    <tr>\n",
       "      <th>Sev</th>\n",
       "      <td>13.0</td>\n",
       "      <td>204379.230769</td>\n",
       "      <td>86729.922409</td>\n",
       "      <td>61000.0</td>\n",
       "      <td>143000.0</td>\n",
       "      <td>185000.0</td>\n",
       "      <td>260000.0</td>\n",
       "      <td>375000.0</td>\n",
       "    </tr>\n",
       "  </tbody>\n",
       "</table>\n",
       "</div>"
      ],
      "text/plain": [
       "            count           mean           std      min       25%       50%  \\\n",
       "LandSlope                                                                     \n",
       "Gtl        1382.0  179956.799566  78669.369151  34900.0  129900.0  161875.0   \n",
       "Mod          65.0  196734.138462  92375.358116  39300.0  130000.0  186700.0   \n",
       "Sev          13.0  204379.230769  86729.922409  61000.0  143000.0  185000.0   \n",
       "\n",
       "                75%       max  \n",
       "LandSlope                      \n",
       "Gtl        212000.0  755000.0  \n",
       "Mod        259500.0  538000.0  \n",
       "Sev        260000.0  375000.0  "
      ]
     },
     "execution_count": 35,
     "metadata": {},
     "output_type": "execute_result"
    }
   ],
   "source": [
    "data.groupby(\"LandSlope\").SalePrice.describe().sort_values(\"mean\")"
   ]
  },
  {
   "cell_type": "code",
   "execution_count": 36,
   "id": "d7b355c6-0516-4451-ab95-70a8920d5443",
   "metadata": {},
   "outputs": [
    {
     "data": {
      "image/png": "[encoded data removed]",
      "text/plain": [
       "<Figure size 640x480 with 1 Axes>"
      ]
     },
     "metadata": {},
     "output_type": "display_data"
    }
   ],
   "source": [
    "sns.barplot(x=data.LandSlope, y=data.SalePrice);"
   ]
  },
  {
   "cell_type": "markdown",
   "id": "e089a905-1fec-4de1-a558-9c1fd689f8ea",
   "metadata": {},
   "source": [
    "Наклон участка также не оказывает сильного влияния на цену, отбрасываем его"
   ]
  },
  {
   "cell_type": "markdown",
   "id": "e59941bb-a781-4a91-a290-371ff1af0744",
   "metadata": {},
   "source": [
    "## Neighborhood - расположение в пределах города Эймс\n",
    "Там перечисляется куча районов, не будем их тут все приводить, потому что это всего лишь названия"
   ]
  },
  {
   "cell_type": "code",
   "execution_count": 37,
   "id": "cbdf8feb-e2b6-448f-b5cd-0eaae4e6a345",
   "metadata": {},
   "outputs": [
    {
     "data": {
      "image/png": "[encoded data removed]",
      "text/plain": [
       "<Figure size 640x480 with 1 Axes>"
      ]
     },
     "metadata": {},
     "output_type": "display_data"
    }
   ],
   "source": [
    "neighboe_price_df = data.groupby(\"Neighborhood\", as_index=False).SalePrice.mean()\n",
    "\n",
    "sns.barplot(\n",
    "    data=data,\n",
    "    x=\"Neighborhood\",\n",
    "    y=\"SalePrice\",\n",
    "    order=neighboe_price_df.sort_values(\"SalePrice\").Neighborhood,\n",
    ");\n",
    "plt.xticks(rotation=45);"
   ]
  },
  {
   "cell_type": "markdown",
   "id": "f627040d-153a-433b-9fb1-a8b72060abc7",
   "metadata": {},
   "source": [
    "А вот район города оказывает значительное влияние на цену дома, значит этот признак нам понадобится. Вместо названий районов возьмем среднюю цену дома в каждом из них."
   ]
  },
  {
   "cell_type": "code",
   "execution_count": 38,
   "id": "36991540-a501-471e-8e70-acc3c43864a9",
   "metadata": {},
   "outputs": [
    {
     "data": {
      "text/html": [
       "<div>\n",
       "<style scoped>\n",
       "    .dataframe tbody tr th:only-of-type {\n",
       "        vertical-align: middle;\n",
       "    }\n",
       "\n",
       "    .dataframe tbody tr th {\n",
       "        vertical-align: top;\n",
       "    }\n",
       "\n",
       "    .dataframe thead th {\n",
       "        text-align: right;\n",
       "    }\n",
       "</style>\n",
       "<table border=\"1\" class=\"dataframe\">\n",
       "  <thead>\n",
       "    <tr style=\"text-align: right;\">\n",
       "      <th></th>\n",
       "      <th>subclass_price</th>\n",
       "      <th>lot_area</th>\n",
       "      <th>pav_strt</th>\n",
       "      <th>grav_al</th>\n",
       "      <th>pav_al</th>\n",
       "      <th>regShape</th>\n",
       "      <th>lvlContour</th>\n",
       "      <th>hlsContour</th>\n",
       "      <th>bnkContour</th>\n",
       "      <th>Neighborhood</th>\n",
       "    </tr>\n",
       "    <tr>\n",
       "      <th>Id</th>\n",
       "      <th></th>\n",
       "      <th></th>\n",
       "      <th></th>\n",
       "      <th></th>\n",
       "      <th></th>\n",
       "      <th></th>\n",
       "      <th></th>\n",
       "      <th></th>\n",
       "      <th></th>\n",
       "      <th></th>\n",
       "    </tr>\n",
       "  </thead>\n",
       "  <tbody>\n",
       "    <tr>\n",
       "      <th>1</th>\n",
       "      <td>239948.501672</td>\n",
       "      <td>8450</td>\n",
       "      <td>1</td>\n",
       "      <td>0</td>\n",
       "      <td>0</td>\n",
       "      <td>1</td>\n",
       "      <td>1</td>\n",
       "      <td>0</td>\n",
       "      <td>0</td>\n",
       "      <td>197965.773333</td>\n",
       "    </tr>\n",
       "    <tr>\n",
       "      <th>2</th>\n",
       "      <td>185224.811567</td>\n",
       "      <td>9600</td>\n",
       "      <td>1</td>\n",
       "      <td>0</td>\n",
       "      <td>0</td>\n",
       "      <td>1</td>\n",
       "      <td>1</td>\n",
       "      <td>0</td>\n",
       "      <td>0</td>\n",
       "      <td>238772.727273</td>\n",
       "    </tr>\n",
       "    <tr>\n",
       "      <th>3</th>\n",
       "      <td>239948.501672</td>\n",
       "      <td>11250</td>\n",
       "      <td>1</td>\n",
       "      <td>0</td>\n",
       "      <td>0</td>\n",
       "      <td>0</td>\n",
       "      <td>1</td>\n",
       "      <td>0</td>\n",
       "      <td>0</td>\n",
       "      <td>197965.773333</td>\n",
       "    </tr>\n",
       "    <tr>\n",
       "      <th>4</th>\n",
       "      <td>166772.416667</td>\n",
       "      <td>9550</td>\n",
       "      <td>1</td>\n",
       "      <td>0</td>\n",
       "      <td>0</td>\n",
       "      <td>0</td>\n",
       "      <td>1</td>\n",
       "      <td>0</td>\n",
       "      <td>0</td>\n",
       "      <td>210624.725490</td>\n",
       "    </tr>\n",
       "    <tr>\n",
       "      <th>5</th>\n",
       "      <td>239948.501672</td>\n",
       "      <td>14260</td>\n",
       "      <td>1</td>\n",
       "      <td>0</td>\n",
       "      <td>0</td>\n",
       "      <td>0</td>\n",
       "      <td>1</td>\n",
       "      <td>0</td>\n",
       "      <td>0</td>\n",
       "      <td>335295.317073</td>\n",
       "    </tr>\n",
       "  </tbody>\n",
       "</table>\n",
       "</div>"
      ],
      "text/plain": [
       "    subclass_price  lot_area  pav_strt  grav_al  pav_al  regShape  lvlContour  \\\n",
       "Id                                                                              \n",
       "1    239948.501672      8450         1        0       0         1           1   \n",
       "2    185224.811567      9600         1        0       0         1           1   \n",
       "3    239948.501672     11250         1        0       0         0           1   \n",
       "4    166772.416667      9550         1        0       0         0           1   \n",
       "5    239948.501672     14260         1        0       0         0           1   \n",
       "\n",
       "    hlsContour  bnkContour   Neighborhood  \n",
       "Id                                         \n",
       "1            0           0  197965.773333  \n",
       "2            0           0  238772.727273  \n",
       "3            0           0  197965.773333  \n",
       "4            0           0  210624.725490  \n",
       "5            0           0  335295.317073  "
      ]
     },
     "execution_count": 38,
     "metadata": {},
     "output_type": "execute_result"
    }
   ],
   "source": [
    "df[\"Neighborhood\"] = data.Neighborhood.replace(neighboe_price_df.Neighborhood.values,\n",
    "                                               neighboe_price_df.SalePrice.values)\n",
    "df.head()"
   ]
  },
  {
   "cell_type": "markdown",
   "id": "36ae55de-a347-44a9-be83-d74a839b35f5",
   "metadata": {},
   "source": [
    "## Condition1 и Condition2 - близость к различным условиям"
   ]
  },
  {
   "cell_type": "code",
   "execution_count": 39,
   "id": "51ba8f22-7d5f-4bee-82a7-a619eb1cf6f7",
   "metadata": {},
   "outputs": [
    {
     "data": {
      "text/html": [
       "<div>\n",
       "<style scoped>\n",
       "    .dataframe tbody tr th:only-of-type {\n",
       "        vertical-align: middle;\n",
       "    }\n",
       "\n",
       "    .dataframe tbody tr th {\n",
       "        vertical-align: top;\n",
       "    }\n",
       "\n",
       "    .dataframe thead th {\n",
       "        text-align: right;\n",
       "    }\n",
       "</style>\n",
       "<table border=\"1\" class=\"dataframe\">\n",
       "  <thead>\n",
       "    <tr style=\"text-align: right;\">\n",
       "      <th></th>\n",
       "      <th>count</th>\n",
       "      <th>mean</th>\n",
       "      <th>std</th>\n",
       "      <th>min</th>\n",
       "      <th>25%</th>\n",
       "      <th>50%</th>\n",
       "      <th>75%</th>\n",
       "      <th>max</th>\n",
       "    </tr>\n",
       "    <tr>\n",
       "      <th>Condition1</th>\n",
       "      <th></th>\n",
       "      <th></th>\n",
       "      <th></th>\n",
       "      <th></th>\n",
       "      <th></th>\n",
       "      <th></th>\n",
       "      <th></th>\n",
       "      <th></th>\n",
       "    </tr>\n",
       "  </thead>\n",
       "  <tbody>\n",
       "    <tr>\n",
       "      <th>Artery</th>\n",
       "      <td>48.0</td>\n",
       "      <td>135091.666667</td>\n",
       "      <td>66226.660548</td>\n",
       "      <td>66500.0</td>\n",
       "      <td>105000.00</td>\n",
       "      <td>119550.0</td>\n",
       "      <td>143000.0</td>\n",
       "      <td>475000.0</td>\n",
       "    </tr>\n",
       "    <tr>\n",
       "      <th>RRAe</th>\n",
       "      <td>11.0</td>\n",
       "      <td>138400.000000</td>\n",
       "      <td>24030.813553</td>\n",
       "      <td>87000.0</td>\n",
       "      <td>127750.00</td>\n",
       "      <td>142500.0</td>\n",
       "      <td>156500.0</td>\n",
       "      <td>171000.0</td>\n",
       "    </tr>\n",
       "    <tr>\n",
       "      <th>Feedr</th>\n",
       "      <td>81.0</td>\n",
       "      <td>142475.481481</td>\n",
       "      <td>42157.290117</td>\n",
       "      <td>40000.0</td>\n",
       "      <td>121600.00</td>\n",
       "      <td>140000.0</td>\n",
       "      <td>167500.0</td>\n",
       "      <td>244600.0</td>\n",
       "    </tr>\n",
       "    <tr>\n",
       "      <th>RRAn</th>\n",
       "      <td>26.0</td>\n",
       "      <td>184396.615385</td>\n",
       "      <td>66177.922070</td>\n",
       "      <td>79500.0</td>\n",
       "      <td>152393.75</td>\n",
       "      <td>171495.0</td>\n",
       "      <td>190105.0</td>\n",
       "      <td>423000.0</td>\n",
       "    </tr>\n",
       "    <tr>\n",
       "      <th>Norm</th>\n",
       "      <td>1260.0</td>\n",
       "      <td>184495.492063</td>\n",
       "      <td>81256.980125</td>\n",
       "      <td>34900.0</td>\n",
       "      <td>131500.00</td>\n",
       "      <td>166500.0</td>\n",
       "      <td>219500.0</td>\n",
       "      <td>755000.0</td>\n",
       "    </tr>\n",
       "    <tr>\n",
       "      <th>RRNe</th>\n",
       "      <td>2.0</td>\n",
       "      <td>190750.000000</td>\n",
       "      <td>5303.300859</td>\n",
       "      <td>187000.0</td>\n",
       "      <td>188875.00</td>\n",
       "      <td>190750.0</td>\n",
       "      <td>192625.0</td>\n",
       "      <td>194500.0</td>\n",
       "    </tr>\n",
       "    <tr>\n",
       "      <th>RRNn</th>\n",
       "      <td>5.0</td>\n",
       "      <td>212400.000000</td>\n",
       "      <td>93823.238060</td>\n",
       "      <td>110000.0</td>\n",
       "      <td>128000.00</td>\n",
       "      <td>214000.0</td>\n",
       "      <td>290000.0</td>\n",
       "      <td>320000.0</td>\n",
       "    </tr>\n",
       "    <tr>\n",
       "      <th>PosN</th>\n",
       "      <td>19.0</td>\n",
       "      <td>215184.210526</td>\n",
       "      <td>65256.536609</td>\n",
       "      <td>109500.0</td>\n",
       "      <td>167250.00</td>\n",
       "      <td>200000.0</td>\n",
       "      <td>252250.0</td>\n",
       "      <td>385000.0</td>\n",
       "    </tr>\n",
       "    <tr>\n",
       "      <th>PosA</th>\n",
       "      <td>8.0</td>\n",
       "      <td>225875.000000</td>\n",
       "      <td>52348.932313</td>\n",
       "      <td>180000.0</td>\n",
       "      <td>188750.00</td>\n",
       "      <td>212500.0</td>\n",
       "      <td>244000.0</td>\n",
       "      <td>335000.0</td>\n",
       "    </tr>\n",
       "  </tbody>\n",
       "</table>\n",
       "</div>"
      ],
      "text/plain": [
       "             count           mean           std       min        25%  \\\n",
       "Condition1                                                             \n",
       "Artery        48.0  135091.666667  66226.660548   66500.0  105000.00   \n",
       "RRAe          11.0  138400.000000  24030.813553   87000.0  127750.00   \n",
       "Feedr         81.0  142475.481481  42157.290117   40000.0  121600.00   \n",
       "RRAn          26.0  184396.615385  66177.922070   79500.0  152393.75   \n",
       "Norm        1260.0  184495.492063  81256.980125   34900.0  131500.00   \n",
       "RRNe           2.0  190750.000000   5303.300859  187000.0  188875.00   \n",
       "RRNn           5.0  212400.000000  93823.238060  110000.0  128000.00   \n",
       "PosN          19.0  215184.210526  65256.536609  109500.0  167250.00   \n",
       "PosA           8.0  225875.000000  52348.932313  180000.0  188750.00   \n",
       "\n",
       "                 50%       75%       max  \n",
       "Condition1                                \n",
       "Artery      119550.0  143000.0  475000.0  \n",
       "RRAe        142500.0  156500.0  171000.0  \n",
       "Feedr       140000.0  167500.0  244600.0  \n",
       "RRAn        171495.0  190105.0  423000.0  \n",
       "Norm        166500.0  219500.0  755000.0  \n",
       "RRNe        190750.0  192625.0  194500.0  \n",
       "RRNn        214000.0  290000.0  320000.0  \n",
       "PosN        200000.0  252250.0  385000.0  \n",
       "PosA        212500.0  244000.0  335000.0  "
      ]
     },
     "execution_count": 39,
     "metadata": {},
     "output_type": "execute_result"
    }
   ],
   "source": [
    "data.groupby(\"Condition1\").SalePrice.describe().sort_values(\"mean\")"
   ]
  },
  {
   "cell_type": "code",
   "execution_count": 40,
   "id": "2c010622-3429-41a9-bb73-1bdac82463a8",
   "metadata": {},
   "outputs": [
    {
     "data": {
      "image/png": "[encoded data removed]",
      "text/plain": [
       "<Figure size 640x480 with 1 Axes>"
      ]
     },
     "metadata": {},
     "output_type": "display_data"
    }
   ],
   "source": [
    "sns.barplot(data=data, x=\"Condition1\", y=\"SalePrice\");"
   ]
  },
  {
   "cell_type": "code",
   "execution_count": 41,
   "id": "4605727f-c1b0-4748-8c02-4137156dd6fc",
   "metadata": {},
   "outputs": [
    {
     "data": {
      "text/html": [
       "<div>\n",
       "<style scoped>\n",
       "    .dataframe tbody tr th:only-of-type {\n",
       "        vertical-align: middle;\n",
       "    }\n",
       "\n",
       "    .dataframe tbody tr th {\n",
       "        vertical-align: top;\n",
       "    }\n",
       "\n",
       "    .dataframe thead th {\n",
       "        text-align: right;\n",
       "    }\n",
       "</style>\n",
       "<table border=\"1\" class=\"dataframe\">\n",
       "  <thead>\n",
       "    <tr style=\"text-align: right;\">\n",
       "      <th></th>\n",
       "      <th>count</th>\n",
       "      <th>mean</th>\n",
       "      <th>std</th>\n",
       "      <th>min</th>\n",
       "      <th>25%</th>\n",
       "      <th>50%</th>\n",
       "      <th>75%</th>\n",
       "      <th>max</th>\n",
       "    </tr>\n",
       "    <tr>\n",
       "      <th>Condition2</th>\n",
       "      <th></th>\n",
       "      <th></th>\n",
       "      <th></th>\n",
       "      <th></th>\n",
       "      <th></th>\n",
       "      <th></th>\n",
       "      <th></th>\n",
       "      <th></th>\n",
       "    </tr>\n",
       "  </thead>\n",
       "  <tbody>\n",
       "    <tr>\n",
       "      <th>RRNn</th>\n",
       "      <td>2.0</td>\n",
       "      <td>96750.000000</td>\n",
       "      <td>39951.533137</td>\n",
       "      <td>68500.0</td>\n",
       "      <td>82625.0</td>\n",
       "      <td>96750.0</td>\n",
       "      <td>110875.0</td>\n",
       "      <td>125000.0</td>\n",
       "    </tr>\n",
       "    <tr>\n",
       "      <th>Artery</th>\n",
       "      <td>2.0</td>\n",
       "      <td>106500.000000</td>\n",
       "      <td>16263.455967</td>\n",
       "      <td>95000.0</td>\n",
       "      <td>100750.0</td>\n",
       "      <td>106500.0</td>\n",
       "      <td>112250.0</td>\n",
       "      <td>118000.0</td>\n",
       "    </tr>\n",
       "    <tr>\n",
       "      <th>Feedr</th>\n",
       "      <td>6.0</td>\n",
       "      <td>121166.666667</td>\n",
       "      <td>33544.994659</td>\n",
       "      <td>79500.0</td>\n",
       "      <td>95500.0</td>\n",
       "      <td>127500.0</td>\n",
       "      <td>137000.0</td>\n",
       "      <td>167500.0</td>\n",
       "    </tr>\n",
       "    <tr>\n",
       "      <th>RRAn</th>\n",
       "      <td>1.0</td>\n",
       "      <td>136905.000000</td>\n",
       "      <td>NaN</td>\n",
       "      <td>136905.0</td>\n",
       "      <td>136905.0</td>\n",
       "      <td>136905.0</td>\n",
       "      <td>136905.0</td>\n",
       "      <td>136905.0</td>\n",
       "    </tr>\n",
       "    <tr>\n",
       "      <th>Norm</th>\n",
       "      <td>1445.0</td>\n",
       "      <td>181169.405536</td>\n",
       "      <td>79337.735547</td>\n",
       "      <td>34900.0</td>\n",
       "      <td>130000.0</td>\n",
       "      <td>163500.0</td>\n",
       "      <td>214000.0</td>\n",
       "      <td>755000.0</td>\n",
       "    </tr>\n",
       "    <tr>\n",
       "      <th>RRAe</th>\n",
       "      <td>1.0</td>\n",
       "      <td>190000.000000</td>\n",
       "      <td>NaN</td>\n",
       "      <td>190000.0</td>\n",
       "      <td>190000.0</td>\n",
       "      <td>190000.0</td>\n",
       "      <td>190000.0</td>\n",
       "      <td>190000.0</td>\n",
       "    </tr>\n",
       "    <tr>\n",
       "      <th>PosN</th>\n",
       "      <td>2.0</td>\n",
       "      <td>284875.000000</td>\n",
       "      <td>141598.132933</td>\n",
       "      <td>184750.0</td>\n",
       "      <td>234812.5</td>\n",
       "      <td>284875.0</td>\n",
       "      <td>334937.5</td>\n",
       "      <td>385000.0</td>\n",
       "    </tr>\n",
       "    <tr>\n",
       "      <th>PosA</th>\n",
       "      <td>1.0</td>\n",
       "      <td>325000.000000</td>\n",
       "      <td>NaN</td>\n",
       "      <td>325000.0</td>\n",
       "      <td>325000.0</td>\n",
       "      <td>325000.0</td>\n",
       "      <td>325000.0</td>\n",
       "      <td>325000.0</td>\n",
       "    </tr>\n",
       "  </tbody>\n",
       "</table>\n",
       "</div>"
      ],
      "text/plain": [
       "             count           mean            std       min       25%  \\\n",
       "Condition2                                                             \n",
       "RRNn           2.0   96750.000000   39951.533137   68500.0   82625.0   \n",
       "Artery         2.0  106500.000000   16263.455967   95000.0  100750.0   \n",
       "Feedr          6.0  121166.666667   33544.994659   79500.0   95500.0   \n",
       "RRAn           1.0  136905.000000            NaN  136905.0  136905.0   \n",
       "Norm        1445.0  181169.405536   79337.735547   34900.0  130000.0   \n",
       "RRAe           1.0  190000.000000            NaN  190000.0  190000.0   \n",
       "PosN           2.0  284875.000000  141598.132933  184750.0  234812.5   \n",
       "PosA           1.0  325000.000000            NaN  325000.0  325000.0   \n",
       "\n",
       "                 50%       75%       max  \n",
       "Condition2                                \n",
       "RRNn         96750.0  110875.0  125000.0  \n",
       "Artery      106500.0  112250.0  118000.0  \n",
       "Feedr       127500.0  137000.0  167500.0  \n",
       "RRAn        136905.0  136905.0  136905.0  \n",
       "Norm        163500.0  214000.0  755000.0  \n",
       "RRAe        190000.0  190000.0  190000.0  \n",
       "PosN        284875.0  334937.5  385000.0  \n",
       "PosA        325000.0  325000.0  325000.0  "
      ]
     },
     "execution_count": 41,
     "metadata": {},
     "output_type": "execute_result"
    }
   ],
   "source": [
    "data.groupby(\"Condition2\").SalePrice.describe().sort_values(\"mean\")"
   ]
  },
  {
   "cell_type": "code",
   "execution_count": 42,
   "id": "23871753-7351-41eb-8645-7ffb151c2219",
   "metadata": {},
   "outputs": [
    {
     "data": {
      "image/png": "[encoded data removed]",
      "text/plain": [
       "<Figure size 640x480 with 1 Axes>"
      ]
     },
     "metadata": {},
     "output_type": "display_data"
    }
   ],
   "source": [
    "sns.barplot(data=data, x=\"Condition2\", y=\"SalePrice\");"
   ]
  },
  {
   "cell_type": "markdown",
   "id": "002f0f99-044a-4b03-a869-01e70df8523d",
   "metadata": {},
   "source": [
    "Вообще странные признаки, потому что подавляющее большинство имеет значение Norm или нормальный. Отбросим эти два признака."
   ]
  },
  {
   "cell_type": "markdown",
   "id": "debec48b-483f-48e8-8a4a-274366961a25",
   "metadata": {},
   "source": [
    "## BldgType - тип жилого помещения\n",
    "- **1Fam** - 1 семья\n",
    "- **1FmCon** - переоборудовано на 2 семьи (строилось для 1 семьи)\n",
    "- **Duplx** - двухуровневый\n",
    "- **TwnhsE** - конечная часть таунхауса\n",
    "- **TwnhsI** - внутренняя часть таунхауса"
   ]
  },
  {
   "cell_type": "code",
   "execution_count": 43,
   "id": "9005b77d-92a1-4175-807b-6b5c28ad0f72",
   "metadata": {},
   "outputs": [
    {
     "data": {
      "text/html": [
       "<div>\n",
       "<style scoped>\n",
       "    .dataframe tbody tr th:only-of-type {\n",
       "        vertical-align: middle;\n",
       "    }\n",
       "\n",
       "    .dataframe tbody tr th {\n",
       "        vertical-align: top;\n",
       "    }\n",
       "\n",
       "    .dataframe thead th {\n",
       "        text-align: right;\n",
       "    }\n",
       "</style>\n",
       "<table border=\"1\" class=\"dataframe\">\n",
       "  <thead>\n",
       "    <tr style=\"text-align: right;\">\n",
       "      <th></th>\n",
       "      <th>count</th>\n",
       "      <th>mean</th>\n",
       "      <th>std</th>\n",
       "      <th>min</th>\n",
       "      <th>25%</th>\n",
       "      <th>50%</th>\n",
       "      <th>75%</th>\n",
       "      <th>max</th>\n",
       "    </tr>\n",
       "    <tr>\n",
       "      <th>BldgType</th>\n",
       "      <th></th>\n",
       "      <th></th>\n",
       "      <th></th>\n",
       "      <th></th>\n",
       "      <th></th>\n",
       "      <th></th>\n",
       "      <th></th>\n",
       "      <th></th>\n",
       "    </tr>\n",
       "  </thead>\n",
       "  <tbody>\n",
       "    <tr>\n",
       "      <th>2fmCon</th>\n",
       "      <td>31.0</td>\n",
       "      <td>128432.258065</td>\n",
       "      <td>35458.545158</td>\n",
       "      <td>55000.0</td>\n",
       "      <td>106875.0</td>\n",
       "      <td>127500.0</td>\n",
       "      <td>142500.0</td>\n",
       "      <td>228950.0</td>\n",
       "    </tr>\n",
       "    <tr>\n",
       "      <th>Duplex</th>\n",
       "      <td>52.0</td>\n",
       "      <td>133541.076923</td>\n",
       "      <td>27833.249197</td>\n",
       "      <td>82000.0</td>\n",
       "      <td>118375.0</td>\n",
       "      <td>135980.0</td>\n",
       "      <td>145000.0</td>\n",
       "      <td>206300.0</td>\n",
       "    </tr>\n",
       "    <tr>\n",
       "      <th>Twnhs</th>\n",
       "      <td>43.0</td>\n",
       "      <td>135911.627907</td>\n",
       "      <td>41013.222080</td>\n",
       "      <td>75000.0</td>\n",
       "      <td>95750.0</td>\n",
       "      <td>137500.0</td>\n",
       "      <td>168750.0</td>\n",
       "      <td>230000.0</td>\n",
       "    </tr>\n",
       "    <tr>\n",
       "      <th>TwnhsE</th>\n",
       "      <td>114.0</td>\n",
       "      <td>181959.342105</td>\n",
       "      <td>60626.108918</td>\n",
       "      <td>75500.0</td>\n",
       "      <td>143187.5</td>\n",
       "      <td>172200.0</td>\n",
       "      <td>207375.0</td>\n",
       "      <td>392500.0</td>\n",
       "    </tr>\n",
       "    <tr>\n",
       "      <th>1Fam</th>\n",
       "      <td>1220.0</td>\n",
       "      <td>185763.807377</td>\n",
       "      <td>82648.502922</td>\n",
       "      <td>34900.0</td>\n",
       "      <td>131475.0</td>\n",
       "      <td>167900.0</td>\n",
       "      <td>222000.0</td>\n",
       "      <td>755000.0</td>\n",
       "    </tr>\n",
       "  </tbody>\n",
       "</table>\n",
       "</div>"
      ],
      "text/plain": [
       "           count           mean           std      min       25%       50%  \\\n",
       "BldgType                                                                     \n",
       "2fmCon      31.0  128432.258065  35458.545158  55000.0  106875.0  127500.0   \n",
       "Duplex      52.0  133541.076923  27833.249197  82000.0  118375.0  135980.0   \n",
       "Twnhs       43.0  135911.627907  41013.222080  75000.0   95750.0  137500.0   \n",
       "TwnhsE     114.0  181959.342105  60626.108918  75500.0  143187.5  172200.0   \n",
       "1Fam      1220.0  185763.807377  82648.502922  34900.0  131475.0  167900.0   \n",
       "\n",
       "               75%       max  \n",
       "BldgType                      \n",
       "2fmCon    142500.0  228950.0  \n",
       "Duplex    145000.0  206300.0  \n",
       "Twnhs     168750.0  230000.0  \n",
       "TwnhsE    207375.0  392500.0  \n",
       "1Fam      222000.0  755000.0  "
      ]
     },
     "execution_count": 43,
     "metadata": {},
     "output_type": "execute_result"
    }
   ],
   "source": [
    "data.groupby(\"BldgType\").SalePrice.describe().sort_values(\"mean\")"
   ]
  },
  {
   "cell_type": "code",
   "execution_count": 44,
   "id": "defcd765-be04-4025-928a-09595fa6ea6d",
   "metadata": {},
   "outputs": [
    {
     "data": {
      "image/png": "[encoded data removed]",
      "text/plain": [
       "<Figure size 640x480 with 1 Axes>"
      ]
     },
     "metadata": {},
     "output_type": "display_data"
    }
   ],
   "source": [
    "sns.barplot(data=data, x=\"BldgType\", y=\"SalePrice\");"
   ]
  },
  {
   "cell_type": "markdown",
   "id": "cac84f8b-b0d5-4ebe-8f65-af7600f32c00",
   "metadata": {},
   "source": [
    "Разделим по цене жилые помещения на два типа: в первый будут входить 1Fam, TwnhsE, а во второй - 2fmCon, Duplex и Twnhs. В качестве значений возьмем чреднюю цену по группе."
   ]
  },
  {
   "cell_type": "code",
   "execution_count": 45,
   "id": "609145ca-090b-4465-b120-abdd15b8c63a",
   "metadata": {},
   "outputs": [
    {
     "data": {
      "text/plain": [
       "BldgType\n",
       "1Fam      167900.0\n",
       "2fmCon    127500.0\n",
       "Duplex    135980.0\n",
       "Twnhs     137500.0\n",
       "TwnhsE    172200.0\n",
       "Name: SalePrice, dtype: float64"
      ]
     },
     "execution_count": 45,
     "metadata": {},
     "output_type": "execute_result"
    }
   ],
   "source": [
    "_sr = data.groupby(\"BldgType\").SalePrice.median()\n",
    "_sr"
   ]
  },
  {
   "cell_type": "code",
   "execution_count": 46,
   "id": "105f07ab-a6cc-49d1-9879-c81d5c26f9d2",
   "metadata": {},
   "outputs": [
    {
     "data": {
      "text/html": [
       "<div>\n",
       "<style scoped>\n",
       "    .dataframe tbody tr th:only-of-type {\n",
       "        vertical-align: middle;\n",
       "    }\n",
       "\n",
       "    .dataframe tbody tr th {\n",
       "        vertical-align: top;\n",
       "    }\n",
       "\n",
       "    .dataframe thead th {\n",
       "        text-align: right;\n",
       "    }\n",
       "</style>\n",
       "<table border=\"1\" class=\"dataframe\">\n",
       "  <thead>\n",
       "    <tr style=\"text-align: right;\">\n",
       "      <th></th>\n",
       "      <th>subclass_price</th>\n",
       "      <th>lot_area</th>\n",
       "      <th>pav_strt</th>\n",
       "      <th>grav_al</th>\n",
       "      <th>pav_al</th>\n",
       "      <th>regShape</th>\n",
       "      <th>lvlContour</th>\n",
       "      <th>hlsContour</th>\n",
       "      <th>bnkContour</th>\n",
       "      <th>Neighborhood</th>\n",
       "      <th>BldgType</th>\n",
       "    </tr>\n",
       "    <tr>\n",
       "      <th>Id</th>\n",
       "      <th></th>\n",
       "      <th></th>\n",
       "      <th></th>\n",
       "      <th></th>\n",
       "      <th></th>\n",
       "      <th></th>\n",
       "      <th></th>\n",
       "      <th></th>\n",
       "      <th></th>\n",
       "      <th></th>\n",
       "      <th></th>\n",
       "    </tr>\n",
       "  </thead>\n",
       "  <tbody>\n",
       "    <tr>\n",
       "      <th>1</th>\n",
       "      <td>239948.501672</td>\n",
       "      <td>8450</td>\n",
       "      <td>1</td>\n",
       "      <td>0</td>\n",
       "      <td>0</td>\n",
       "      <td>1</td>\n",
       "      <td>1</td>\n",
       "      <td>0</td>\n",
       "      <td>0</td>\n",
       "      <td>197965.773333</td>\n",
       "      <td>0.98</td>\n",
       "    </tr>\n",
       "    <tr>\n",
       "      <th>2</th>\n",
       "      <td>185224.811567</td>\n",
       "      <td>9600</td>\n",
       "      <td>1</td>\n",
       "      <td>0</td>\n",
       "      <td>0</td>\n",
       "      <td>1</td>\n",
       "      <td>1</td>\n",
       "      <td>0</td>\n",
       "      <td>0</td>\n",
       "      <td>238772.727273</td>\n",
       "      <td>0.98</td>\n",
       "    </tr>\n",
       "    <tr>\n",
       "      <th>3</th>\n",
       "      <td>239948.501672</td>\n",
       "      <td>11250</td>\n",
       "      <td>1</td>\n",
       "      <td>0</td>\n",
       "      <td>0</td>\n",
       "      <td>0</td>\n",
       "      <td>1</td>\n",
       "      <td>0</td>\n",
       "      <td>0</td>\n",
       "      <td>197965.773333</td>\n",
       "      <td>0.98</td>\n",
       "    </tr>\n",
       "    <tr>\n",
       "      <th>4</th>\n",
       "      <td>166772.416667</td>\n",
       "      <td>9550</td>\n",
       "      <td>1</td>\n",
       "      <td>0</td>\n",
       "      <td>0</td>\n",
       "      <td>0</td>\n",
       "      <td>1</td>\n",
       "      <td>0</td>\n",
       "      <td>0</td>\n",
       "      <td>210624.725490</td>\n",
       "      <td>0.98</td>\n",
       "    </tr>\n",
       "    <tr>\n",
       "      <th>5</th>\n",
       "      <td>239948.501672</td>\n",
       "      <td>14260</td>\n",
       "      <td>1</td>\n",
       "      <td>0</td>\n",
       "      <td>0</td>\n",
       "      <td>0</td>\n",
       "      <td>1</td>\n",
       "      <td>0</td>\n",
       "      <td>0</td>\n",
       "      <td>335295.317073</td>\n",
       "      <td>0.98</td>\n",
       "    </tr>\n",
       "  </tbody>\n",
       "</table>\n",
       "</div>"
      ],
      "text/plain": [
       "    subclass_price  lot_area  pav_strt  grav_al  pav_al  regShape  lvlContour  \\\n",
       "Id                                                                              \n",
       "1    239948.501672      8450         1        0       0         1           1   \n",
       "2    185224.811567      9600         1        0       0         1           1   \n",
       "3    239948.501672     11250         1        0       0         0           1   \n",
       "4    166772.416667      9550         1        0       0         0           1   \n",
       "5    239948.501672     14260         1        0       0         0           1   \n",
       "\n",
       "    hlsContour  bnkContour   Neighborhood  BldgType  \n",
       "Id                                                   \n",
       "1            0           0  197965.773333      0.98  \n",
       "2            0           0  238772.727273      0.98  \n",
       "3            0           0  197965.773333      0.98  \n",
       "4            0           0  210624.725490      0.98  \n",
       "5            0           0  335295.317073      0.98  "
      ]
     },
     "execution_count": 46,
     "metadata": {},
     "output_type": "execute_result"
    }
   ],
   "source": [
    "df[\"BldgType\"] = round(data.BldgType.map(_sr.to_dict()) / _sr.max(), 2)\n",
    "df.head()"
   ]
  },
  {
   "cell_type": "markdown",
   "id": "c6668932-c8d2-4185-85e4-aac4f32e9f5b",
   "metadata": {},
   "source": [
    "## HouseStyle - стиль дома\n",
    "Далее идет перечисление различных типов домов"
   ]
  },
  {
   "cell_type": "code",
   "execution_count": 47,
   "id": "2cdbc06a-38fa-49a7-9cec-e53ab93e47f2",
   "metadata": {},
   "outputs": [
    {
     "data": {
      "text/html": [
       "<div>\n",
       "<style scoped>\n",
       "    .dataframe tbody tr th:only-of-type {\n",
       "        vertical-align: middle;\n",
       "    }\n",
       "\n",
       "    .dataframe tbody tr th {\n",
       "        vertical-align: top;\n",
       "    }\n",
       "\n",
       "    .dataframe thead th {\n",
       "        text-align: right;\n",
       "    }\n",
       "</style>\n",
       "<table border=\"1\" class=\"dataframe\">\n",
       "  <thead>\n",
       "    <tr style=\"text-align: right;\">\n",
       "      <th></th>\n",
       "      <th>count</th>\n",
       "      <th>mean</th>\n",
       "      <th>std</th>\n",
       "      <th>min</th>\n",
       "      <th>25%</th>\n",
       "      <th>50%</th>\n",
       "      <th>75%</th>\n",
       "      <th>max</th>\n",
       "    </tr>\n",
       "    <tr>\n",
       "      <th>HouseStyle</th>\n",
       "      <th></th>\n",
       "      <th></th>\n",
       "      <th></th>\n",
       "      <th></th>\n",
       "      <th></th>\n",
       "      <th></th>\n",
       "      <th></th>\n",
       "      <th></th>\n",
       "    </tr>\n",
       "  </thead>\n",
       "  <tbody>\n",
       "    <tr>\n",
       "      <th>1.5Unf</th>\n",
       "      <td>14.0</td>\n",
       "      <td>110150.000000</td>\n",
       "      <td>19036.473090</td>\n",
       "      <td>76000.0</td>\n",
       "      <td>98175.0</td>\n",
       "      <td>111250.0</td>\n",
       "      <td>120500.0</td>\n",
       "      <td>139400.0</td>\n",
       "    </tr>\n",
       "    <tr>\n",
       "      <th>SFoyer</th>\n",
       "      <td>37.0</td>\n",
       "      <td>135074.486486</td>\n",
       "      <td>30480.898192</td>\n",
       "      <td>75500.0</td>\n",
       "      <td>127500.0</td>\n",
       "      <td>135960.0</td>\n",
       "      <td>148000.0</td>\n",
       "      <td>206300.0</td>\n",
       "    </tr>\n",
       "    <tr>\n",
       "      <th>1.5Fin</th>\n",
       "      <td>154.0</td>\n",
       "      <td>143116.740260</td>\n",
       "      <td>54277.941119</td>\n",
       "      <td>37900.0</td>\n",
       "      <td>114625.0</td>\n",
       "      <td>132000.0</td>\n",
       "      <td>159325.5</td>\n",
       "      <td>410000.0</td>\n",
       "    </tr>\n",
       "    <tr>\n",
       "      <th>2.5Unf</th>\n",
       "      <td>11.0</td>\n",
       "      <td>157354.545455</td>\n",
       "      <td>63934.128032</td>\n",
       "      <td>101000.0</td>\n",
       "      <td>125000.0</td>\n",
       "      <td>133900.0</td>\n",
       "      <td>163500.0</td>\n",
       "      <td>325000.0</td>\n",
       "    </tr>\n",
       "    <tr>\n",
       "      <th>SLvl</th>\n",
       "      <td>65.0</td>\n",
       "      <td>166703.384615</td>\n",
       "      <td>38305.161339</td>\n",
       "      <td>91000.0</td>\n",
       "      <td>145000.0</td>\n",
       "      <td>164500.0</td>\n",
       "      <td>178000.0</td>\n",
       "      <td>345000.0</td>\n",
       "    </tr>\n",
       "    <tr>\n",
       "      <th>1Story</th>\n",
       "      <td>726.0</td>\n",
       "      <td>175985.477961</td>\n",
       "      <td>77055.715011</td>\n",
       "      <td>34900.0</td>\n",
       "      <td>127000.0</td>\n",
       "      <td>154750.0</td>\n",
       "      <td>209350.0</td>\n",
       "      <td>611657.0</td>\n",
       "    </tr>\n",
       "    <tr>\n",
       "      <th>2Story</th>\n",
       "      <td>445.0</td>\n",
       "      <td>210051.764045</td>\n",
       "      <td>87339.213570</td>\n",
       "      <td>40000.0</td>\n",
       "      <td>159500.0</td>\n",
       "      <td>190000.0</td>\n",
       "      <td>240000.0</td>\n",
       "      <td>755000.0</td>\n",
       "    </tr>\n",
       "    <tr>\n",
       "      <th>2.5Fin</th>\n",
       "      <td>8.0</td>\n",
       "      <td>220000.000000</td>\n",
       "      <td>118211.976671</td>\n",
       "      <td>104000.0</td>\n",
       "      <td>164250.0</td>\n",
       "      <td>194000.0</td>\n",
       "      <td>223750.0</td>\n",
       "      <td>475000.0</td>\n",
       "    </tr>\n",
       "  </tbody>\n",
       "</table>\n",
       "</div>"
      ],
      "text/plain": [
       "            count           mean            std       min       25%       50%  \\\n",
       "HouseStyle                                                                      \n",
       "1.5Unf       14.0  110150.000000   19036.473090   76000.0   98175.0  111250.0   \n",
       "SFoyer       37.0  135074.486486   30480.898192   75500.0  127500.0  135960.0   \n",
       "1.5Fin      154.0  143116.740260   54277.941119   37900.0  114625.0  132000.0   \n",
       "2.5Unf       11.0  157354.545455   63934.128032  101000.0  125000.0  133900.0   \n",
       "SLvl         65.0  166703.384615   38305.161339   91000.0  145000.0  164500.0   \n",
       "1Story      726.0  175985.477961   77055.715011   34900.0  127000.0  154750.0   \n",
       "2Story      445.0  210051.764045   87339.213570   40000.0  159500.0  190000.0   \n",
       "2.5Fin        8.0  220000.000000  118211.976671  104000.0  164250.0  194000.0   \n",
       "\n",
       "                 75%       max  \n",
       "HouseStyle                      \n",
       "1.5Unf      120500.0  139400.0  \n",
       "SFoyer      148000.0  206300.0  \n",
       "1.5Fin      159325.5  410000.0  \n",
       "2.5Unf      163500.0  325000.0  \n",
       "SLvl        178000.0  345000.0  \n",
       "1Story      209350.0  611657.0  \n",
       "2Story      240000.0  755000.0  \n",
       "2.5Fin      223750.0  475000.0  "
      ]
     },
     "execution_count": 47,
     "metadata": {},
     "output_type": "execute_result"
    }
   ],
   "source": [
    "data.groupby(\"HouseStyle\").SalePrice.describe().sort_values(\"mean\")"
   ]
  },
  {
   "cell_type": "code",
   "execution_count": 48,
   "id": "20019fc5-c6aa-44e9-b804-ad2b40cf208b",
   "metadata": {},
   "outputs": [
    {
     "data": {
      "image/png": "[encoded data removed]",
      "text/plain": [
       "<Figure size 640x480 with 1 Axes>"
      ]
     },
     "metadata": {},
     "output_type": "display_data"
    }
   ],
   "source": [
    "sns.barplot(data=data, x=\"HouseStyle\", y=\"SalePrice\");"
   ]
  },
  {
   "cell_type": "markdown",
   "id": "f7a36845-159c-4c48-9430-5e397e7fd0be",
   "metadata": {},
   "source": [
    "От типа дома зависит и его цена, поэтому добавим в фрейм средние цены каждого из типов домов"
   ]
  },
  {
   "cell_type": "code",
   "execution_count": null,
   "id": "893481db-3b66-4766-8725-61f97028e122",
   "metadata": {},
   "outputs": [],
   "source": []
  },
  {
   "cell_type": "code",
   "execution_count": 49,
   "id": "4f9ba078-a823-4b90-abdd-a01f7819d412",
   "metadata": {},
   "outputs": [
    {
     "data": {
      "text/html": [
       "<div>\n",
       "<style scoped>\n",
       "    .dataframe tbody tr th:only-of-type {\n",
       "        vertical-align: middle;\n",
       "    }\n",
       "\n",
       "    .dataframe tbody tr th {\n",
       "        vertical-align: top;\n",
       "    }\n",
       "\n",
       "    .dataframe thead th {\n",
       "        text-align: right;\n",
       "    }\n",
       "</style>\n",
       "<table border=\"1\" class=\"dataframe\">\n",
       "  <thead>\n",
       "    <tr style=\"text-align: right;\">\n",
       "      <th></th>\n",
       "      <th>subclass_price</th>\n",
       "      <th>lot_area</th>\n",
       "      <th>pav_strt</th>\n",
       "      <th>grav_al</th>\n",
       "      <th>pav_al</th>\n",
       "      <th>regShape</th>\n",
       "      <th>lvlContour</th>\n",
       "      <th>hlsContour</th>\n",
       "      <th>bnkContour</th>\n",
       "      <th>Neighborhood</th>\n",
       "      <th>BldgType</th>\n",
       "      <th>HouseStyle</th>\n",
       "    </tr>\n",
       "    <tr>\n",
       "      <th>Id</th>\n",
       "      <th></th>\n",
       "      <th></th>\n",
       "      <th></th>\n",
       "      <th></th>\n",
       "      <th></th>\n",
       "      <th></th>\n",
       "      <th></th>\n",
       "      <th></th>\n",
       "      <th></th>\n",
       "      <th></th>\n",
       "      <th></th>\n",
       "      <th></th>\n",
       "    </tr>\n",
       "  </thead>\n",
       "  <tbody>\n",
       "    <tr>\n",
       "      <th>1</th>\n",
       "      <td>239948.501672</td>\n",
       "      <td>8450</td>\n",
       "      <td>1</td>\n",
       "      <td>0</td>\n",
       "      <td>0</td>\n",
       "      <td>1</td>\n",
       "      <td>1</td>\n",
       "      <td>0</td>\n",
       "      <td>0</td>\n",
       "      <td>197965.773333</td>\n",
       "      <td>0.98</td>\n",
       "      <td>210051.764045</td>\n",
       "    </tr>\n",
       "    <tr>\n",
       "      <th>2</th>\n",
       "      <td>185224.811567</td>\n",
       "      <td>9600</td>\n",
       "      <td>1</td>\n",
       "      <td>0</td>\n",
       "      <td>0</td>\n",
       "      <td>1</td>\n",
       "      <td>1</td>\n",
       "      <td>0</td>\n",
       "      <td>0</td>\n",
       "      <td>238772.727273</td>\n",
       "      <td>0.98</td>\n",
       "      <td>175985.477961</td>\n",
       "    </tr>\n",
       "    <tr>\n",
       "      <th>3</th>\n",
       "      <td>239948.501672</td>\n",
       "      <td>11250</td>\n",
       "      <td>1</td>\n",
       "      <td>0</td>\n",
       "      <td>0</td>\n",
       "      <td>0</td>\n",
       "      <td>1</td>\n",
       "      <td>0</td>\n",
       "      <td>0</td>\n",
       "      <td>197965.773333</td>\n",
       "      <td>0.98</td>\n",
       "      <td>210051.764045</td>\n",
       "    </tr>\n",
       "    <tr>\n",
       "      <th>4</th>\n",
       "      <td>166772.416667</td>\n",
       "      <td>9550</td>\n",
       "      <td>1</td>\n",
       "      <td>0</td>\n",
       "      <td>0</td>\n",
       "      <td>0</td>\n",
       "      <td>1</td>\n",
       "      <td>0</td>\n",
       "      <td>0</td>\n",
       "      <td>210624.725490</td>\n",
       "      <td>0.98</td>\n",
       "      <td>210051.764045</td>\n",
       "    </tr>\n",
       "    <tr>\n",
       "      <th>5</th>\n",
       "      <td>239948.501672</td>\n",
       "      <td>14260</td>\n",
       "      <td>1</td>\n",
       "      <td>0</td>\n",
       "      <td>0</td>\n",
       "      <td>0</td>\n",
       "      <td>1</td>\n",
       "      <td>0</td>\n",
       "      <td>0</td>\n",
       "      <td>335295.317073</td>\n",
       "      <td>0.98</td>\n",
       "      <td>210051.764045</td>\n",
       "    </tr>\n",
       "  </tbody>\n",
       "</table>\n",
       "</div>"
      ],
      "text/plain": [
       "    subclass_price  lot_area  pav_strt  grav_al  pav_al  regShape  lvlContour  \\\n",
       "Id                                                                              \n",
       "1    239948.501672      8450         1        0       0         1           1   \n",
       "2    185224.811567      9600         1        0       0         1           1   \n",
       "3    239948.501672     11250         1        0       0         0           1   \n",
       "4    166772.416667      9550         1        0       0         0           1   \n",
       "5    239948.501672     14260         1        0       0         0           1   \n",
       "\n",
       "    hlsContour  bnkContour   Neighborhood  BldgType     HouseStyle  \n",
       "Id                                                                  \n",
       "1            0           0  197965.773333      0.98  210051.764045  \n",
       "2            0           0  238772.727273      0.98  175985.477961  \n",
       "3            0           0  197965.773333      0.98  210051.764045  \n",
       "4            0           0  210624.725490      0.98  210051.764045  \n",
       "5            0           0  335295.317073      0.98  210051.764045  "
      ]
     },
     "execution_count": 49,
     "metadata": {},
     "output_type": "execute_result"
    }
   ],
   "source": [
    "df[\"HouseStyle\"] = data.HouseStyle.map(\n",
    "    data.groupby(\"HouseStyle\").SalePrice.mean().to_dict()\n",
    ")\n",
    "df.head()"
   ]
  },
  {
   "cell_type": "markdown",
   "id": "a0e1384b-30f9-4884-ad60-227d14e7047b",
   "metadata": {},
   "source": [
    "## OverallQual - общая оценка дома (материал и отделка) от 1 до 10"
   ]
  },
  {
   "cell_type": "code",
   "execution_count": 50,
   "id": "8e879cf6-7c69-4ceb-935b-49f22d67e3ae",
   "metadata": {},
   "outputs": [
    {
     "data": {
      "image/png": "[encoded data removed]",
      "text/plain": [
       "<Figure size 640x480 with 1 Axes>"
      ]
     },
     "metadata": {},
     "output_type": "display_data"
    }
   ],
   "source": [
    "sns.barplot(data=data, x=\"OverallQual\", y=\"SalePrice\");"
   ]
  },
  {
   "cell_type": "code",
   "execution_count": 51,
   "id": "025c5f7d-f7e6-4147-aa9e-257f34c6405a",
   "metadata": {},
   "outputs": [
    {
     "data": {
      "image/png": "[encoded data removed]",
      "text/plain": [
       "<Figure size 640x480 with 1 Axes>"
      ]
     },
     "metadata": {},
     "output_type": "display_data"
    }
   ],
   "source": [
    "sns.countplot(data=data, x=\"OverallQual\");"
   ]
  },
  {
   "cell_type": "markdown",
   "id": "ceb38d97-e2d4-4ec6-8fd0-8413b997dba9",
   "metadata": {},
   "source": [
    "Интересная гипотеза: смотря на распределение оценки дома, можно легко заметить, что оно близко к нормальному, отсюда вытекает справедливый вывод: если взять произвольную большую выборку оценок на фильмы/дома/игры/... (продукты) то большая часть продуктов будет иметь среднюю оценку (5-6), в то время как лишь маля часть будет максимальную или минимальную оценку.\n",
    "\n",
    "А что с будем делать с признаком? Конечно же возбмем его в фрейм, причем даже никак не модифицируя."
   ]
  },
  {
   "cell_type": "code",
   "execution_count": 52,
   "id": "7c39124d-993e-4af4-8492-eb3b849799c0",
   "metadata": {},
   "outputs": [
    {
     "data": {
      "text/html": [
       "<div>\n",
       "<style scoped>\n",
       "    .dataframe tbody tr th:only-of-type {\n",
       "        vertical-align: middle;\n",
       "    }\n",
       "\n",
       "    .dataframe tbody tr th {\n",
       "        vertical-align: top;\n",
       "    }\n",
       "\n",
       "    .dataframe thead th {\n",
       "        text-align: right;\n",
       "    }\n",
       "</style>\n",
       "<table border=\"1\" class=\"dataframe\">\n",
       "  <thead>\n",
       "    <tr style=\"text-align: right;\">\n",
       "      <th></th>\n",
       "      <th>subclass_price</th>\n",
       "      <th>lot_area</th>\n",
       "      <th>pav_strt</th>\n",
       "      <th>grav_al</th>\n",
       "      <th>pav_al</th>\n",
       "      <th>regShape</th>\n",
       "      <th>lvlContour</th>\n",
       "      <th>hlsContour</th>\n",
       "      <th>bnkContour</th>\n",
       "      <th>Neighborhood</th>\n",
       "      <th>BldgType</th>\n",
       "      <th>HouseStyle</th>\n",
       "      <th>OverallQual</th>\n",
       "    </tr>\n",
       "    <tr>\n",
       "      <th>Id</th>\n",
       "      <th></th>\n",
       "      <th></th>\n",
       "      <th></th>\n",
       "      <th></th>\n",
       "      <th></th>\n",
       "      <th></th>\n",
       "      <th></th>\n",
       "      <th></th>\n",
       "      <th></th>\n",
       "      <th></th>\n",
       "      <th></th>\n",
       "      <th></th>\n",
       "      <th></th>\n",
       "    </tr>\n",
       "  </thead>\n",
       "  <tbody>\n",
       "    <tr>\n",
       "      <th>1</th>\n",
       "      <td>239948.501672</td>\n",
       "      <td>8450</td>\n",
       "      <td>1</td>\n",
       "      <td>0</td>\n",
       "      <td>0</td>\n",
       "      <td>1</td>\n",
       "      <td>1</td>\n",
       "      <td>0</td>\n",
       "      <td>0</td>\n",
       "      <td>197965.773333</td>\n",
       "      <td>0.98</td>\n",
       "      <td>210051.764045</td>\n",
       "      <td>7</td>\n",
       "    </tr>\n",
       "    <tr>\n",
       "      <th>2</th>\n",
       "      <td>185224.811567</td>\n",
       "      <td>9600</td>\n",
       "      <td>1</td>\n",
       "      <td>0</td>\n",
       "      <td>0</td>\n",
       "      <td>1</td>\n",
       "      <td>1</td>\n",
       "      <td>0</td>\n",
       "      <td>0</td>\n",
       "      <td>238772.727273</td>\n",
       "      <td>0.98</td>\n",
       "      <td>175985.477961</td>\n",
       "      <td>6</td>\n",
       "    </tr>\n",
       "    <tr>\n",
       "      <th>3</th>\n",
       "      <td>239948.501672</td>\n",
       "      <td>11250</td>\n",
       "      <td>1</td>\n",
       "      <td>0</td>\n",
       "      <td>0</td>\n",
       "      <td>0</td>\n",
       "      <td>1</td>\n",
       "      <td>0</td>\n",
       "      <td>0</td>\n",
       "      <td>197965.773333</td>\n",
       "      <td>0.98</td>\n",
       "      <td>210051.764045</td>\n",
       "      <td>7</td>\n",
       "    </tr>\n",
       "    <tr>\n",
       "      <th>4</th>\n",
       "      <td>166772.416667</td>\n",
       "      <td>9550</td>\n",
       "      <td>1</td>\n",
       "      <td>0</td>\n",
       "      <td>0</td>\n",
       "      <td>0</td>\n",
       "      <td>1</td>\n",
       "      <td>0</td>\n",
       "      <td>0</td>\n",
       "      <td>210624.725490</td>\n",
       "      <td>0.98</td>\n",
       "      <td>210051.764045</td>\n",
       "      <td>7</td>\n",
       "    </tr>\n",
       "    <tr>\n",
       "      <th>5</th>\n",
       "      <td>239948.501672</td>\n",
       "      <td>14260</td>\n",
       "      <td>1</td>\n",
       "      <td>0</td>\n",
       "      <td>0</td>\n",
       "      <td>0</td>\n",
       "      <td>1</td>\n",
       "      <td>0</td>\n",
       "      <td>0</td>\n",
       "      <td>335295.317073</td>\n",
       "      <td>0.98</td>\n",
       "      <td>210051.764045</td>\n",
       "      <td>8</td>\n",
       "    </tr>\n",
       "  </tbody>\n",
       "</table>\n",
       "</div>"
      ],
      "text/plain": [
       "    subclass_price  lot_area  pav_strt  grav_al  pav_al  regShape  lvlContour  \\\n",
       "Id                                                                              \n",
       "1    239948.501672      8450         1        0       0         1           1   \n",
       "2    185224.811567      9600         1        0       0         1           1   \n",
       "3    239948.501672     11250         1        0       0         0           1   \n",
       "4    166772.416667      9550         1        0       0         0           1   \n",
       "5    239948.501672     14260         1        0       0         0           1   \n",
       "\n",
       "    hlsContour  bnkContour   Neighborhood  BldgType     HouseStyle  \\\n",
       "Id                                                                   \n",
       "1            0           0  197965.773333      0.98  210051.764045   \n",
       "2            0           0  238772.727273      0.98  175985.477961   \n",
       "3            0           0  197965.773333      0.98  210051.764045   \n",
       "4            0           0  210624.725490      0.98  210051.764045   \n",
       "5            0           0  335295.317073      0.98  210051.764045   \n",
       "\n",
       "    OverallQual  \n",
       "Id               \n",
       "1             7  \n",
       "2             6  \n",
       "3             7  \n",
       "4             7  \n",
       "5             8  "
      ]
     },
     "execution_count": 52,
     "metadata": {},
     "output_type": "execute_result"
    }
   ],
   "source": [
    "df[\"OverallQual\"] = data.OverallQual\n",
    "df.head()"
   ]
  },
  {
   "cell_type": "markdown",
   "id": "24842d7b-524b-492f-bf1e-7a0509ba69e6",
   "metadata": {},
   "source": [
    "## OverallCond - оценка общего состояния дома от 1 до 10"
   ]
  },
  {
   "cell_type": "code",
   "execution_count": 53,
   "id": "8658ab40-5bca-43c5-a847-409ff603c4ff",
   "metadata": {},
   "outputs": [
    {
     "data": {
      "image/png": "[encoded data removed]",
      "text/plain": [
       "<Figure size 640x480 with 1 Axes>"
      ]
     },
     "metadata": {},
     "output_type": "display_data"
    }
   ],
   "source": [
    "sns.barplot(data=data, x=\"OverallCond\", y=\"SalePrice\");"
   ]
  },
  {
   "cell_type": "code",
   "execution_count": 54,
   "id": "ef7f0039-c37b-4f17-9cb3-ed420789074c",
   "metadata": {},
   "outputs": [
    {
     "data": {
      "image/png": "[encoded data removed]",
      "text/plain": [
       "<Figure size 640x480 with 1 Axes>"
      ]
     },
     "metadata": {},
     "output_type": "display_data"
    }
   ],
   "source": [
    "sns.countplot(data=data, x=\"OverallCond\");"
   ]
  },
  {
   "cell_type": "markdown",
   "id": "b3b5efeb-5446-4c40-8456-24d424aa3044",
   "metadata": {},
   "source": [
    "Спорный момент: брать его или не брать? Вощьмем, во время обучения уже поймем, полезен он или нет."
   ]
  },
  {
   "cell_type": "code",
   "execution_count": 55,
   "id": "4cfe3674-e1e4-43c2-a99c-27b073de9c85",
   "metadata": {},
   "outputs": [
    {
     "data": {
      "text/html": [
       "<div>\n",
       "<style scoped>\n",
       "    .dataframe tbody tr th:only-of-type {\n",
       "        vertical-align: middle;\n",
       "    }\n",
       "\n",
       "    .dataframe tbody tr th {\n",
       "        vertical-align: top;\n",
       "    }\n",
       "\n",
       "    .dataframe thead th {\n",
       "        text-align: right;\n",
       "    }\n",
       "</style>\n",
       "<table border=\"1\" class=\"dataframe\">\n",
       "  <thead>\n",
       "    <tr style=\"text-align: right;\">\n",
       "      <th></th>\n",
       "      <th>subclass_price</th>\n",
       "      <th>lot_area</th>\n",
       "      <th>pav_strt</th>\n",
       "      <th>grav_al</th>\n",
       "      <th>pav_al</th>\n",
       "      <th>regShape</th>\n",
       "      <th>lvlContour</th>\n",
       "      <th>hlsContour</th>\n",
       "      <th>bnkContour</th>\n",
       "      <th>Neighborhood</th>\n",
       "      <th>BldgType</th>\n",
       "      <th>HouseStyle</th>\n",
       "      <th>OverallQual</th>\n",
       "      <th>OverallCond</th>\n",
       "    </tr>\n",
       "    <tr>\n",
       "      <th>Id</th>\n",
       "      <th></th>\n",
       "      <th></th>\n",
       "      <th></th>\n",
       "      <th></th>\n",
       "      <th></th>\n",
       "      <th></th>\n",
       "      <th></th>\n",
       "      <th></th>\n",
       "      <th></th>\n",
       "      <th></th>\n",
       "      <th></th>\n",
       "      <th></th>\n",
       "      <th></th>\n",
       "      <th></th>\n",
       "    </tr>\n",
       "  </thead>\n",
       "  <tbody>\n",
       "    <tr>\n",
       "      <th>1</th>\n",
       "      <td>239948.501672</td>\n",
       "      <td>8450</td>\n",
       "      <td>1</td>\n",
       "      <td>0</td>\n",
       "      <td>0</td>\n",
       "      <td>1</td>\n",
       "      <td>1</td>\n",
       "      <td>0</td>\n",
       "      <td>0</td>\n",
       "      <td>197965.773333</td>\n",
       "      <td>0.98</td>\n",
       "      <td>210051.764045</td>\n",
       "      <td>7</td>\n",
       "      <td>5</td>\n",
       "    </tr>\n",
       "    <tr>\n",
       "      <th>2</th>\n",
       "      <td>185224.811567</td>\n",
       "      <td>9600</td>\n",
       "      <td>1</td>\n",
       "      <td>0</td>\n",
       "      <td>0</td>\n",
       "      <td>1</td>\n",
       "      <td>1</td>\n",
       "      <td>0</td>\n",
       "      <td>0</td>\n",
       "      <td>238772.727273</td>\n",
       "      <td>0.98</td>\n",
       "      <td>175985.477961</td>\n",
       "      <td>6</td>\n",
       "      <td>8</td>\n",
       "    </tr>\n",
       "    <tr>\n",
       "      <th>3</th>\n",
       "      <td>239948.501672</td>\n",
       "      <td>11250</td>\n",
       "      <td>1</td>\n",
       "      <td>0</td>\n",
       "      <td>0</td>\n",
       "      <td>0</td>\n",
       "      <td>1</td>\n",
       "      <td>0</td>\n",
       "      <td>0</td>\n",
       "      <td>197965.773333</td>\n",
       "      <td>0.98</td>\n",
       "      <td>210051.764045</td>\n",
       "      <td>7</td>\n",
       "      <td>5</td>\n",
       "    </tr>\n",
       "    <tr>\n",
       "      <th>4</th>\n",
       "      <td>166772.416667</td>\n",
       "      <td>9550</td>\n",
       "      <td>1</td>\n",
       "      <td>0</td>\n",
       "      <td>0</td>\n",
       "      <td>0</td>\n",
       "      <td>1</td>\n",
       "      <td>0</td>\n",
       "      <td>0</td>\n",
       "      <td>210624.725490</td>\n",
       "      <td>0.98</td>\n",
       "      <td>210051.764045</td>\n",
       "      <td>7</td>\n",
       "      <td>5</td>\n",
       "    </tr>\n",
       "    <tr>\n",
       "      <th>5</th>\n",
       "      <td>239948.501672</td>\n",
       "      <td>14260</td>\n",
       "      <td>1</td>\n",
       "      <td>0</td>\n",
       "      <td>0</td>\n",
       "      <td>0</td>\n",
       "      <td>1</td>\n",
       "      <td>0</td>\n",
       "      <td>0</td>\n",
       "      <td>335295.317073</td>\n",
       "      <td>0.98</td>\n",
       "      <td>210051.764045</td>\n",
       "      <td>8</td>\n",
       "      <td>5</td>\n",
       "    </tr>\n",
       "  </tbody>\n",
       "</table>\n",
       "</div>"
      ],
      "text/plain": [
       "    subclass_price  lot_area  pav_strt  grav_al  pav_al  regShape  lvlContour  \\\n",
       "Id                                                                              \n",
       "1    239948.501672      8450         1        0       0         1           1   \n",
       "2    185224.811567      9600         1        0       0         1           1   \n",
       "3    239948.501672     11250         1        0       0         0           1   \n",
       "4    166772.416667      9550         1        0       0         0           1   \n",
       "5    239948.501672     14260         1        0       0         0           1   \n",
       "\n",
       "    hlsContour  bnkContour   Neighborhood  BldgType     HouseStyle  \\\n",
       "Id                                                                   \n",
       "1            0           0  197965.773333      0.98  210051.764045   \n",
       "2            0           0  238772.727273      0.98  175985.477961   \n",
       "3            0           0  197965.773333      0.98  210051.764045   \n",
       "4            0           0  210624.725490      0.98  210051.764045   \n",
       "5            0           0  335295.317073      0.98  210051.764045   \n",
       "\n",
       "    OverallQual  OverallCond  \n",
       "Id                            \n",
       "1             7            5  \n",
       "2             6            8  \n",
       "3             7            5  \n",
       "4             7            5  \n",
       "5             8            5  "
      ]
     },
     "execution_count": 55,
     "metadata": {},
     "output_type": "execute_result"
    }
   ],
   "source": [
    "df[\"OverallCond\"] = data.OverallCond\n",
    "df.head()"
   ]
  },
  {
   "cell_type": "markdown",
   "id": "995a3d12-ba45-4a92-803f-e30f42184b1f",
   "metadata": {},
   "source": [
    "## YearBuilt - год постройки"
   ]
  },
  {
   "cell_type": "code",
   "execution_count": 56,
   "id": "aeb4c449-f050-46d1-8494-a8d2f6a4f26e",
   "metadata": {
    "scrolled": true
   },
   "outputs": [
    {
     "data": {
      "text/html": [
       "<div>\n",
       "<style scoped>\n",
       "    .dataframe tbody tr th:only-of-type {\n",
       "        vertical-align: middle;\n",
       "    }\n",
       "\n",
       "    .dataframe tbody tr th {\n",
       "        vertical-align: top;\n",
       "    }\n",
       "\n",
       "    .dataframe thead th {\n",
       "        text-align: right;\n",
       "    }\n",
       "</style>\n",
       "<table border=\"1\" class=\"dataframe\">\n",
       "  <thead>\n",
       "    <tr style=\"text-align: right;\">\n",
       "      <th></th>\n",
       "      <th>YearBuilt</th>\n",
       "      <th>SalePrice</th>\n",
       "    </tr>\n",
       "    <tr>\n",
       "      <th>Id</th>\n",
       "      <th></th>\n",
       "      <th></th>\n",
       "    </tr>\n",
       "  </thead>\n",
       "  <tbody>\n",
       "    <tr>\n",
       "      <th>1</th>\n",
       "      <td>2000</td>\n",
       "      <td>208500</td>\n",
       "    </tr>\n",
       "    <tr>\n",
       "      <th>2</th>\n",
       "      <td>1980</td>\n",
       "      <td>181500</td>\n",
       "    </tr>\n",
       "    <tr>\n",
       "      <th>3</th>\n",
       "      <td>2000</td>\n",
       "      <td>223500</td>\n",
       "    </tr>\n",
       "    <tr>\n",
       "      <th>4</th>\n",
       "      <td>1920</td>\n",
       "      <td>140000</td>\n",
       "    </tr>\n",
       "    <tr>\n",
       "      <th>5</th>\n",
       "      <td>2000</td>\n",
       "      <td>250000</td>\n",
       "    </tr>\n",
       "  </tbody>\n",
       "</table>\n",
       "</div>"
      ],
      "text/plain": [
       "    YearBuilt  SalePrice\n",
       "Id                      \n",
       "1        2000     208500\n",
       "2        1980     181500\n",
       "3        2000     223500\n",
       "4        1920     140000\n",
       "5        2000     250000"
      ]
     },
     "execution_count": 56,
     "metadata": {},
     "output_type": "execute_result"
    }
   ],
   "source": [
    "# year_price_df = data[[\"YearBuilt\", \"SalePrice\"]]\n",
    "year_price_df = pd.DataFrame(data={\"YearBuilt\": data.YearBuilt.values, \"SalePrice\": data.SalePrice.values}, index=data.index)\n",
    "\n",
    "year_price_df[\"YearBuilt\"] = round(year_price_df[\"YearBuilt\"], -1)\n",
    "year_price_df.YearBuilt.replace({1870: 1890, 1880: 1890}, inplace=True)\n",
    "\n",
    "year_price_df.head()"
   ]
  },
  {
   "cell_type": "code",
   "execution_count": 57,
   "id": "8f427754-6d96-4f78-87d8-d4909d0f9d49",
   "metadata": {},
   "outputs": [
    {
     "data": {
      "image/png": "[encoded data removed]",
      "text/plain": [
       "<Figure size 640x480 with 1 Axes>"
      ]
     },
     "metadata": {},
     "output_type": "display_data"
    }
   ],
   "source": [
    "# sns.barplot(x=round(data.YearBuilt, -1), y=data.SalePrice);\n",
    "sns.barplot(data=year_price_df, x=\"YearBuilt\", y=\"SalePrice\");\n",
    "plt.xticks(rotation=45);"
   ]
  },
  {
   "cell_type": "code",
   "execution_count": 58,
   "id": "43fd52ed-caba-424c-8d3b-a4137ca45eb2",
   "metadata": {},
   "outputs": [
    {
     "data": {
      "text/html": [
       "<div>\n",
       "<style scoped>\n",
       "    .dataframe tbody tr th:only-of-type {\n",
       "        vertical-align: middle;\n",
       "    }\n",
       "\n",
       "    .dataframe tbody tr th {\n",
       "        vertical-align: top;\n",
       "    }\n",
       "\n",
       "    .dataframe thead th {\n",
       "        text-align: right;\n",
       "    }\n",
       "</style>\n",
       "<table border=\"1\" class=\"dataframe\">\n",
       "  <thead>\n",
       "    <tr style=\"text-align: right;\">\n",
       "      <th></th>\n",
       "      <th>count</th>\n",
       "      <th>mean</th>\n",
       "      <th>std</th>\n",
       "      <th>min</th>\n",
       "      <th>25%</th>\n",
       "      <th>50%</th>\n",
       "      <th>75%</th>\n",
       "      <th>max</th>\n",
       "    </tr>\n",
       "    <tr>\n",
       "      <th>YearBuilt</th>\n",
       "      <th></th>\n",
       "      <th></th>\n",
       "      <th></th>\n",
       "      <th></th>\n",
       "      <th></th>\n",
       "      <th></th>\n",
       "      <th></th>\n",
       "      <th></th>\n",
       "    </tr>\n",
       "  </thead>\n",
       "  <tbody>\n",
       "    <tr>\n",
       "      <th>1890</th>\n",
       "      <td>14.0</td>\n",
       "      <td>185777.071429</td>\n",
       "      <td>112511.590747</td>\n",
       "      <td>94000.0</td>\n",
       "      <td>118625.0</td>\n",
       "      <td>124450.0</td>\n",
       "      <td>241484.25</td>\n",
       "      <td>475000.0</td>\n",
       "    </tr>\n",
       "    <tr>\n",
       "      <th>1900</th>\n",
       "      <td>13.0</td>\n",
       "      <td>119340.461538</td>\n",
       "      <td>30135.988720</td>\n",
       "      <td>79000.0</td>\n",
       "      <td>95000.0</td>\n",
       "      <td>106250.0</td>\n",
       "      <td>145900.00</td>\n",
       "      <td>163000.0</td>\n",
       "    </tr>\n",
       "    <tr>\n",
       "      <th>1910</th>\n",
       "      <td>32.0</td>\n",
       "      <td>120826.281250</td>\n",
       "      <td>38668.620930</td>\n",
       "      <td>37900.0</td>\n",
       "      <td>102125.0</td>\n",
       "      <td>123750.0</td>\n",
       "      <td>135225.00</td>\n",
       "      <td>240000.0</td>\n",
       "    </tr>\n",
       "    <tr>\n",
       "      <th>1920</th>\n",
       "      <td>103.0</td>\n",
       "      <td>129068.495146</td>\n",
       "      <td>44328.862681</td>\n",
       "      <td>34900.0</td>\n",
       "      <td>102000.0</td>\n",
       "      <td>120000.0</td>\n",
       "      <td>154400.00</td>\n",
       "      <td>256000.0</td>\n",
       "    </tr>\n",
       "    <tr>\n",
       "      <th>1930</th>\n",
       "      <td>45.0</td>\n",
       "      <td>138091.866667</td>\n",
       "      <td>62377.980268</td>\n",
       "      <td>55000.0</td>\n",
       "      <td>102000.0</td>\n",
       "      <td>120500.0</td>\n",
       "      <td>159434.00</td>\n",
       "      <td>359100.0</td>\n",
       "    </tr>\n",
       "    <tr>\n",
       "      <th>1940</th>\n",
       "      <td>73.0</td>\n",
       "      <td>134587.958904</td>\n",
       "      <td>58359.418996</td>\n",
       "      <td>52000.0</td>\n",
       "      <td>100000.0</td>\n",
       "      <td>119900.0</td>\n",
       "      <td>145000.00</td>\n",
       "      <td>381000.0</td>\n",
       "    </tr>\n",
       "    <tr>\n",
       "      <th>1950</th>\n",
       "      <td>105.0</td>\n",
       "      <td>130948.847619</td>\n",
       "      <td>38233.033650</td>\n",
       "      <td>35311.0</td>\n",
       "      <td>110000.0</td>\n",
       "      <td>129000.0</td>\n",
       "      <td>144900.00</td>\n",
       "      <td>256000.0</td>\n",
       "    </tr>\n",
       "    <tr>\n",
       "      <th>1960</th>\n",
       "      <td>205.0</td>\n",
       "      <td>148133.034146</td>\n",
       "      <td>37745.681987</td>\n",
       "      <td>60000.0</td>\n",
       "      <td>129500.0</td>\n",
       "      <td>142000.0</td>\n",
       "      <td>160000.00</td>\n",
       "      <td>375000.0</td>\n",
       "    </tr>\n",
       "    <tr>\n",
       "      <th>1970</th>\n",
       "      <td>160.0</td>\n",
       "      <td>148636.743750</td>\n",
       "      <td>47272.284171</td>\n",
       "      <td>75000.0</td>\n",
       "      <td>119500.0</td>\n",
       "      <td>139500.0</td>\n",
       "      <td>172250.00</td>\n",
       "      <td>345000.0</td>\n",
       "    </tr>\n",
       "    <tr>\n",
       "      <th>1980</th>\n",
       "      <td>137.0</td>\n",
       "      <td>166821.364964</td>\n",
       "      <td>47561.213779</td>\n",
       "      <td>82500.0</td>\n",
       "      <td>135000.0</td>\n",
       "      <td>152000.0</td>\n",
       "      <td>188000.00</td>\n",
       "      <td>385000.0</td>\n",
       "    </tr>\n",
       "    <tr>\n",
       "      <th>1990</th>\n",
       "      <td>88.0</td>\n",
       "      <td>222510.000000</td>\n",
       "      <td>84540.637688</td>\n",
       "      <td>93500.0</td>\n",
       "      <td>175975.0</td>\n",
       "      <td>195500.0</td>\n",
       "      <td>260000.00</td>\n",
       "      <td>755000.0</td>\n",
       "    </tr>\n",
       "    <tr>\n",
       "      <th>2000</th>\n",
       "      <td>327.0</td>\n",
       "      <td>225728.599388</td>\n",
       "      <td>75529.713831</td>\n",
       "      <td>130000.0</td>\n",
       "      <td>178370.0</td>\n",
       "      <td>207000.0</td>\n",
       "      <td>254950.00</td>\n",
       "      <td>745000.0</td>\n",
       "    </tr>\n",
       "    <tr>\n",
       "      <th>2010</th>\n",
       "      <td>158.0</td>\n",
       "      <td>269909.183544</td>\n",
       "      <td>93214.803909</td>\n",
       "      <td>84500.0</td>\n",
       "      <td>201375.0</td>\n",
       "      <td>247453.0</td>\n",
       "      <td>318000.00</td>\n",
       "      <td>611657.0</td>\n",
       "    </tr>\n",
       "  </tbody>\n",
       "</table>\n",
       "</div>"
      ],
      "text/plain": [
       "           count           mean            std       min       25%       50%  \\\n",
       "YearBuilt                                                                      \n",
       "1890        14.0  185777.071429  112511.590747   94000.0  118625.0  124450.0   \n",
       "1900        13.0  119340.461538   30135.988720   79000.0   95000.0  106250.0   \n",
       "1910        32.0  120826.281250   38668.620930   37900.0  102125.0  123750.0   \n",
       "1920       103.0  129068.495146   44328.862681   34900.0  102000.0  120000.0   \n",
       "1930        45.0  138091.866667   62377.980268   55000.0  102000.0  120500.0   \n",
       "1940        73.0  134587.958904   58359.418996   52000.0  100000.0  119900.0   \n",
       "1950       105.0  130948.847619   38233.033650   35311.0  110000.0  129000.0   \n",
       "1960       205.0  148133.034146   37745.681987   60000.0  129500.0  142000.0   \n",
       "1970       160.0  148636.743750   47272.284171   75000.0  119500.0  139500.0   \n",
       "1980       137.0  166821.364964   47561.213779   82500.0  135000.0  152000.0   \n",
       "1990        88.0  222510.000000   84540.637688   93500.0  175975.0  195500.0   \n",
       "2000       327.0  225728.599388   75529.713831  130000.0  178370.0  207000.0   \n",
       "2010       158.0  269909.183544   93214.803909   84500.0  201375.0  247453.0   \n",
       "\n",
       "                 75%       max  \n",
       "YearBuilt                       \n",
       "1890       241484.25  475000.0  \n",
       "1900       145900.00  163000.0  \n",
       "1910       135225.00  240000.0  \n",
       "1920       154400.00  256000.0  \n",
       "1930       159434.00  359100.0  \n",
       "1940       145000.00  381000.0  \n",
       "1950       144900.00  256000.0  \n",
       "1960       160000.00  375000.0  \n",
       "1970       172250.00  345000.0  \n",
       "1980       188000.00  385000.0  \n",
       "1990       260000.00  755000.0  \n",
       "2000       254950.00  745000.0  \n",
       "2010       318000.00  611657.0  "
      ]
     },
     "execution_count": 58,
     "metadata": {},
     "output_type": "execute_result"
    }
   ],
   "source": [
    "year_price_df.groupby(\"YearBuilt\").SalePrice.describe()"
   ]
  },
  {
   "cell_type": "markdown",
   "id": "96578427-0eae-4a96-8a60-df85977c6440",
   "metadata": {},
   "source": [
    "Видно что в 19-м веке дома стоили явно дороже, чем в 20-м, но начиная с 1990 дома стоят дороже, чем в 18-м веке. Добавим в фрейм столбец с годом постройки, но значение вместо года, возьмем среднюю цену в каждом из десятилетий."
   ]
  },
  {
   "cell_type": "code",
   "execution_count": 59,
   "id": "4026284e-6f99-413e-82ee-c59558802afe",
   "metadata": {},
   "outputs": [
    {
     "data": {
      "text/html": [
       "<div>\n",
       "<style scoped>\n",
       "    .dataframe tbody tr th:only-of-type {\n",
       "        vertical-align: middle;\n",
       "    }\n",
       "\n",
       "    .dataframe tbody tr th {\n",
       "        vertical-align: top;\n",
       "    }\n",
       "\n",
       "    .dataframe thead th {\n",
       "        text-align: right;\n",
       "    }\n",
       "</style>\n",
       "<table border=\"1\" class=\"dataframe\">\n",
       "  <thead>\n",
       "    <tr style=\"text-align: right;\">\n",
       "      <th></th>\n",
       "      <th>subclass_price</th>\n",
       "      <th>lot_area</th>\n",
       "      <th>pav_strt</th>\n",
       "      <th>grav_al</th>\n",
       "      <th>pav_al</th>\n",
       "      <th>regShape</th>\n",
       "      <th>lvlContour</th>\n",
       "      <th>hlsContour</th>\n",
       "      <th>bnkContour</th>\n",
       "      <th>Neighborhood</th>\n",
       "      <th>BldgType</th>\n",
       "      <th>HouseStyle</th>\n",
       "      <th>OverallQual</th>\n",
       "      <th>OverallCond</th>\n",
       "      <th>yearBuilt</th>\n",
       "    </tr>\n",
       "    <tr>\n",
       "      <th>Id</th>\n",
       "      <th></th>\n",
       "      <th></th>\n",
       "      <th></th>\n",
       "      <th></th>\n",
       "      <th></th>\n",
       "      <th></th>\n",
       "      <th></th>\n",
       "      <th></th>\n",
       "      <th></th>\n",
       "      <th></th>\n",
       "      <th></th>\n",
       "      <th></th>\n",
       "      <th></th>\n",
       "      <th></th>\n",
       "      <th></th>\n",
       "    </tr>\n",
       "  </thead>\n",
       "  <tbody>\n",
       "    <tr>\n",
       "      <th>1</th>\n",
       "      <td>239948.501672</td>\n",
       "      <td>8450</td>\n",
       "      <td>1</td>\n",
       "      <td>0</td>\n",
       "      <td>0</td>\n",
       "      <td>1</td>\n",
       "      <td>1</td>\n",
       "      <td>0</td>\n",
       "      <td>0</td>\n",
       "      <td>197965.773333</td>\n",
       "      <td>0.98</td>\n",
       "      <td>210051.764045</td>\n",
       "      <td>7</td>\n",
       "      <td>5</td>\n",
       "      <td>225728.599388</td>\n",
       "    </tr>\n",
       "    <tr>\n",
       "      <th>2</th>\n",
       "      <td>185224.811567</td>\n",
       "      <td>9600</td>\n",
       "      <td>1</td>\n",
       "      <td>0</td>\n",
       "      <td>0</td>\n",
       "      <td>1</td>\n",
       "      <td>1</td>\n",
       "      <td>0</td>\n",
       "      <td>0</td>\n",
       "      <td>238772.727273</td>\n",
       "      <td>0.98</td>\n",
       "      <td>175985.477961</td>\n",
       "      <td>6</td>\n",
       "      <td>8</td>\n",
       "      <td>166821.364964</td>\n",
       "    </tr>\n",
       "    <tr>\n",
       "      <th>3</th>\n",
       "      <td>239948.501672</td>\n",
       "      <td>11250</td>\n",
       "      <td>1</td>\n",
       "      <td>0</td>\n",
       "      <td>0</td>\n",
       "      <td>0</td>\n",
       "      <td>1</td>\n",
       "      <td>0</td>\n",
       "      <td>0</td>\n",
       "      <td>197965.773333</td>\n",
       "      <td>0.98</td>\n",
       "      <td>210051.764045</td>\n",
       "      <td>7</td>\n",
       "      <td>5</td>\n",
       "      <td>225728.599388</td>\n",
       "    </tr>\n",
       "    <tr>\n",
       "      <th>4</th>\n",
       "      <td>166772.416667</td>\n",
       "      <td>9550</td>\n",
       "      <td>1</td>\n",
       "      <td>0</td>\n",
       "      <td>0</td>\n",
       "      <td>0</td>\n",
       "      <td>1</td>\n",
       "      <td>0</td>\n",
       "      <td>0</td>\n",
       "      <td>210624.725490</td>\n",
       "      <td>0.98</td>\n",
       "      <td>210051.764045</td>\n",
       "      <td>7</td>\n",
       "      <td>5</td>\n",
       "      <td>129068.495146</td>\n",
       "    </tr>\n",
       "    <tr>\n",
       "      <th>5</th>\n",
       "      <td>239948.501672</td>\n",
       "      <td>14260</td>\n",
       "      <td>1</td>\n",
       "      <td>0</td>\n",
       "      <td>0</td>\n",
       "      <td>0</td>\n",
       "      <td>1</td>\n",
       "      <td>0</td>\n",
       "      <td>0</td>\n",
       "      <td>335295.317073</td>\n",
       "      <td>0.98</td>\n",
       "      <td>210051.764045</td>\n",
       "      <td>8</td>\n",
       "      <td>5</td>\n",
       "      <td>225728.599388</td>\n",
       "    </tr>\n",
       "  </tbody>\n",
       "</table>\n",
       "</div>"
      ],
      "text/plain": [
       "    subclass_price  lot_area  pav_strt  grav_al  pav_al  regShape  lvlContour  \\\n",
       "Id                                                                              \n",
       "1    239948.501672      8450         1        0       0         1           1   \n",
       "2    185224.811567      9600         1        0       0         1           1   \n",
       "3    239948.501672     11250         1        0       0         0           1   \n",
       "4    166772.416667      9550         1        0       0         0           1   \n",
       "5    239948.501672     14260         1        0       0         0           1   \n",
       "\n",
       "    hlsContour  bnkContour   Neighborhood  BldgType     HouseStyle  \\\n",
       "Id                                                                   \n",
       "1            0           0  197965.773333      0.98  210051.764045   \n",
       "2            0           0  238772.727273      0.98  175985.477961   \n",
       "3            0           0  197965.773333      0.98  210051.764045   \n",
       "4            0           0  210624.725490      0.98  210051.764045   \n",
       "5            0           0  335295.317073      0.98  210051.764045   \n",
       "\n",
       "    OverallQual  OverallCond      yearBuilt  \n",
       "Id                                           \n",
       "1             7            5  225728.599388  \n",
       "2             6            8  166821.364964  \n",
       "3             7            5  225728.599388  \n",
       "4             7            5  129068.495146  \n",
       "5             8            5  225728.599388  "
      ]
     },
     "execution_count": 59,
     "metadata": {},
     "output_type": "execute_result"
    }
   ],
   "source": [
    "df[\"yearBuilt\"] = year_price_df.YearBuilt.map(\n",
    "    year_price_df.groupby(\"YearBuilt\").SalePrice.mean().to_dict()\n",
    ")\n",
    "df.head()"
   ]
  },
  {
   "cell_type": "markdown",
   "id": "280e5296-4d8a-4027-a61c-5f59ef267c73",
   "metadata": {},
   "source": [
    "## YearRemodAdd - дата ремонта"
   ]
  },
  {
   "cell_type": "code",
   "execution_count": null,
   "id": "93f9cfc4-96ce-42a9-b797-9171700513e3",
   "metadata": {},
   "outputs": [],
   "source": [
    "# year_price_df = data[[\"YearBuilt\", \"SalePrice\"]]\n",
    "yearremod_price_df = pd.DataFrame(data={\"YearRemodAdd\": data.YearRemodAdd.values, \"SalePrice\": data.SalePrice.values}, index=data.index)\n",
    "\n",
    "yearremod_price_df[\"YearRemodAdd\"] = round(yearremod_price_df[\"YearRemodAdd\"], -1)\n",
    "yearremod_price_df.YearRemodAdd.replace({1870: 1890, 1880: 1890}, inplace=True)\n",
    "\n",
    "yearremod_price_df.head()"
   ]
  },
  {
   "cell_type": "code",
   "execution_count": null,
   "id": "3e94ce5d-0e0d-498e-a1b9-d31bf005e330",
   "metadata": {},
   "outputs": [],
   "source": [
    "yearremod_price_df.groupby(\"YearRemodAdd\").SalePrice.describe()"
   ]
  },
  {
   "cell_type": "code",
   "execution_count": null,
   "id": "6322a6cc-d8f4-43eb-95a2-9a0596727aa6",
   "metadata": {},
   "outputs": [],
   "source": [
    "sns.barplot(data=yearremod_price_df, x=\"YearRemodAdd\", y=\"SalePrice\");"
   ]
  },
  {
   "cell_type": "markdown",
   "id": "877d2bba-4fed-4eb9-b570-e74e11742f14",
   "metadata": {},
   "source": [
    "Явная зависимость года ремонта и цены дома - берем"
   ]
  },
  {
   "cell_type": "code",
   "execution_count": null,
   "id": "50fa5ca5-1ff0-4795-9e3f-ba9aa77afbf7",
   "metadata": {},
   "outputs": [],
   "source": [
    "df[\"yearRemod\"] = yearremod_price_df.YearRemodAdd.map(\n",
    "    yearremod_price_df.groupby(\"YearRemodAdd\").SalePrice.mean()\n",
    ")\n",
    "df.head()"
   ]
  },
  {
   "cell_type": "markdown",
   "id": "52d4c504-0ac1-4ed4-8cb1-35bf7ba456c6",
   "metadata": {},
   "source": [
    "## RoofStyle - тип крышы\n",
    "Возможные значения: Flat, Gable, Gambrel, Hip, Mansard, Shed"
   ]
  },
  {
   "cell_type": "code",
   "execution_count": null,
   "id": "43ca9d7f-3c11-4a66-ac77-c906b00db8d0",
   "metadata": {},
   "outputs": [],
   "source": [
    "data.SalePrice.mean()"
   ]
  },
  {
   "cell_type": "code",
   "execution_count": null,
   "id": "1315fb3f-ab4a-41d8-8829-8824893ae373",
   "metadata": {},
   "outputs": [],
   "source": [
    "data.groupby(\"RoofStyle\").SalePrice.describe()"
   ]
  },
  {
   "cell_type": "code",
   "execution_count": null,
   "id": "c535366a-ec1a-48b2-aa15-b4b72369898c",
   "metadata": {},
   "outputs": [],
   "source": [
    "sns.barplot(data=data, x=\"RoofStyle\", y=\"SalePrice\");"
   ]
  },
  {
   "cell_type": "markdown",
   "id": "3cb6be6d-bd40-40ef-b2a9-24f30f19d78f",
   "metadata": {},
   "source": [
    "Заметен явный избыток значений Gable и Hip, и недостаток истальных, но поскольку есть разница в цене между Gable и Hip, то следует взять этот признак, но разбить его на 3 типа: Gable, Hip, Other."
   ]
  },
  {
   "cell_type": "code",
   "execution_count": null,
   "id": "f99ee6b1-9d60-40d5-a90a-5de11af1e70b",
   "metadata": {},
   "outputs": [],
   "source": [
    "df[\"gableRoof\"] = (data.RoofStyle == \"Gable\").astype(np.int64)\n",
    "df[\"hipRoof\"] = (data.RoofStyle == \"Hip\").astype(np.int64)\n",
    "df.head()"
   ]
  },
  {
   "cell_type": "markdown",
   "id": "909ba39e-aa8e-447c-9580-ef8d6e9f733e",
   "metadata": {},
   "source": [
    "## RoofMatl - материал, из которого изготовлена крыша"
   ]
  },
  {
   "cell_type": "code",
   "execution_count": null,
   "id": "bd64258a-f2b0-4a5a-9112-cc51d5c8d994",
   "metadata": {},
   "outputs": [],
   "source": [
    "data.groupby(\"RoofMatl\").SalePrice.describe()"
   ]
  },
  {
   "cell_type": "markdown",
   "id": "c785ed4c-c9ac-4bb6-9d1d-dc1e840ba871",
   "metadata": {},
   "source": [
    "Не, такое мы брать не будем, абсолютное большинство типов - CompShg"
   ]
  },
  {
   "cell_type": "markdown",
   "id": "c644ab52-f0e1-4b77-9690-9e04df46a81a",
   "metadata": {},
   "source": [
    "## Exterior1st - наружное покрытие дома"
   ]
  },
  {
   "cell_type": "code",
   "execution_count": null,
   "id": "8f37f442-753d-4468-b8f9-9f1c4369a4be",
   "metadata": {},
   "outputs": [],
   "source": [
    "data.groupby(\"Exterior1st\").SalePrice.describe().sort_values(\"count\", ascending=False)"
   ]
  },
  {
   "cell_type": "code",
   "execution_count": null,
   "id": "c2818e85-dfec-40a9-9c9c-c9f2566b1a84",
   "metadata": {},
   "outputs": [],
   "source": [
    "exterior1_df = pd.DataFrame(data={\"Exterior1st\": data.Exterior1st.values, \"SalePrice\": data.SalePrice.values}, index=data.index)\n",
    "\n",
    "for name in data.Exterior1st.unique():\n",
    "    if name not in [\"VinylSd\", \"HdBoard\", \"MetalSd\", \"Wd Sdng\", \"Plywood\"]:\n",
    "        exterior1_df.Exterior1st.replace({name: \"Other\"}, inplace=True)\n",
    "\n",
    "exterior1_df.head()"
   ]
  },
  {
   "cell_type": "code",
   "execution_count": null,
   "id": "39dcb3fc-7178-4d23-83ef-db83a91944ff",
   "metadata": {},
   "outputs": [],
   "source": [
    "sns.barplot(data=exterior1_df, x=\"Exterior1st\", y=\"SalePrice\");\n",
    "plt.xticks(rotation=45);"
   ]
  },
  {
   "cell_type": "markdown",
   "id": "5f625726-189c-40ec-b7e3-e72e64a53a3d",
   "metadata": {},
   "source": [
    "Признак не берем"
   ]
  },
  {
   "cell_type": "markdown",
   "id": "b7a7e74a-d08f-4258-9d7d-a4123126fcc8",
   "metadata": {},
   "source": [
    "## Exterior2nd - наружное покрытие дома\n",
    "По сути это тот же самый признак, что был выше, поэтому не берем."
   ]
  },
  {
   "cell_type": "markdown",
   "id": "bdab2347-b3e8-4371-b225-9cd228c89beb",
   "metadata": {},
   "source": [
    "## MasVnrType - тип облицовки каменной кладки\n",
    "- **BrkCmn** - кирпич\n",
    "- **BrkFace** - облицовочный кирпич\n",
    "- **CBlock** - шлакоблок\n",
    "- **None** - нет\n",
    "- **Stone** - камень"
   ]
  },
  {
   "cell_type": "code",
   "execution_count": null,
   "id": "c558616c-1255-47e2-8d13-7a1fa6bbbb5f",
   "metadata": {},
   "outputs": [],
   "source": [
    "data.MasVnrType.fillna(\"None\", inplace=True)"
   ]
  },
  {
   "cell_type": "code",
   "execution_count": null,
   "id": "35b2a793-2abd-459a-869c-67d5e66b5b1a",
   "metadata": {},
   "outputs": [],
   "source": [
    "data.groupby(\"MasVnrType\").SalePrice.describe()"
   ]
  },
  {
   "cell_type": "code",
   "execution_count": null,
   "id": "2ebd21f1-57b9-4dc9-91b9-c8498355dd99",
   "metadata": {},
   "outputs": [],
   "source": [
    "sns.barplot(data=data, x=\"MasVnrType\", y=\"SalePrice\");"
   ]
  },
  {
   "cell_type": "markdown",
   "id": "a827f9e6-e515-4db8-8ecb-fb063468cb78",
   "metadata": {},
   "source": [
    "Конечно странно, что дома с облицовочным кирпичом стоят дешевле, чем дома сделанные из кирпича, но это не мешает нам взять признак."
   ]
  },
  {
   "cell_type": "code",
   "execution_count": null,
   "id": "7464edf5-0965-474b-aca6-2dc6afe03e94",
   "metadata": {},
   "outputs": [],
   "source": [
    "df[\"masBrkFace\"] = (data.MasVnrType == \"BrkFace\").astype(np.int64)\n",
    "df[\"masBrkCmn\"] = (data.MasVnrType == \"BrkCmn\").astype(np.int64)\n",
    "df[\"masStone\"] = (data.MasVnrType == \"Stone\").astype(np.int64)\n",
    "\n",
    "df.head()"
   ]
  },
  {
   "cell_type": "markdown",
   "id": "17bbee55-5093-4ef9-9133-06f03a22906a",
   "metadata": {},
   "source": [
    "## MasVnrArea - площадь облицовки"
   ]
  },
  {
   "cell_type": "code",
   "execution_count": null,
   "id": "8239618b-6f59-49f4-ba38-271305dcb957",
   "metadata": {},
   "outputs": [],
   "source": [
    "data[data.MasVnrArea.isna()][[\"MasVnrType\", \"MasVnrArea\"]]"
   ]
  },
  {
   "cell_type": "markdown",
   "id": "506a7d68-6f34-4565-a41d-b72c3a04e53c",
   "metadata": {},
   "source": [
    "NaN - вероятнее всего означает отсутствие облицовки, значит ее площадь равна 0"
   ]
  },
  {
   "cell_type": "code",
   "execution_count": null,
   "id": "ab2a180a-85df-42d0-9857-588a0734fccc",
   "metadata": {},
   "outputs": [],
   "source": [
    "data.MasVnrArea.fillna(0, inplace=True)"
   ]
  },
  {
   "cell_type": "code",
   "execution_count": null,
   "id": "b3a8300e-011e-4401-aa8e-7a67c9e3e56e",
   "metadata": {},
   "outputs": [],
   "source": [
    "sns.scatterplot(data=data, x=\"SalePrice\", y=\"MasVnrArea\");"
   ]
  },
  {
   "cell_type": "markdown",
   "id": "09fe02e8-9162-4501-8144-556a56a4b03c",
   "metadata": {},
   "source": [
    "Признак стоит взять, потому что корреляция заметна"
   ]
  },
  {
   "cell_type": "code",
   "execution_count": null,
   "id": "172f5bdc-5e63-485f-a64c-6c579701837f",
   "metadata": {},
   "outputs": [],
   "source": [
    "df[\"masVnrArea\"] = data.MasVnrArea\n",
    "df.head()"
   ]
  },
  {
   "cell_type": "markdown",
   "id": "0a1f0559-dc4c-4fab-850b-77e78fd5ec4b",
   "metadata": {},
   "source": [
    "## ExterQual - качество материала внешней отделки\n",
    "- **Ex** - 5\n",
    "- **Gd** - 4\n",
    "- **TA** - 3\n",
    "- **Fa** - 2\n",
    "- **Po** - 1"
   ]
  },
  {
   "cell_type": "code",
   "execution_count": null,
   "id": "7dc7725b-f0cd-449d-b521-d789a66f6ae3",
   "metadata": {},
   "outputs": [],
   "source": [
    "data.ExterQual.replace({\"Ex\": 5, \"Gd\": 4, \"TA\": 3, \"Fa\": 2, \"Po\": 1}, inplace=True)"
   ]
  },
  {
   "cell_type": "code",
   "execution_count": null,
   "id": "0adaa850-10c0-4ff7-8841-bae19d0e80ed",
   "metadata": {},
   "outputs": [],
   "source": [
    "data.groupby(\"ExterQual\").SalePrice.describe()"
   ]
  },
  {
   "cell_type": "code",
   "execution_count": null,
   "id": "b003b727-3fa4-4805-b6cf-f4445b780d0b",
   "metadata": {},
   "outputs": [],
   "source": [
    "sns.barplot(data=data, x=\"ExterQual\", y=\"SalePrice\");"
   ]
  },
  {
   "cell_type": "markdown",
   "id": "57920a12-0669-4f29-bf8c-edebf7f9f1ff",
   "metadata": {},
   "source": [
    "Взаимосвязь очевидна и не требует пояснений - берем."
   ]
  },
  {
   "cell_type": "code",
   "execution_count": null,
   "id": "21e01263-1f14-4c89-a121-4636d728aa47",
   "metadata": {},
   "outputs": [],
   "source": [
    "df[\"exterQual\"] = data.ExterQual\n",
    "df.head()"
   ]
  },
  {
   "cell_type": "markdown",
   "id": "dc8e51fa-da87-4cad-9c26-e1a6221750a9",
   "metadata": {},
   "source": [
    "## ExterCond - оценка текущего качества материала облицовки\n",
    "- **Ex** - 5\n",
    "- **Gd** - 4\n",
    "- **TA** - 3\n",
    "- **Fa** - 2\n",
    "- **Po** - 1"
   ]
  },
  {
   "cell_type": "code",
   "execution_count": null,
   "id": "3e451678-b2b7-4a89-bc4e-140ccc087b06",
   "metadata": {},
   "outputs": [],
   "source": [
    "data.ExterCond.replace({\"Ex\": 5, \"Gd\": 4, \"TA\": 3, \"Fa\": 2, \"Po\": 1}, inplace=True)"
   ]
  },
  {
   "cell_type": "code",
   "execution_count": null,
   "id": "41e9c4b0-e97b-4132-81d0-322aee4bb1c1",
   "metadata": {},
   "outputs": [],
   "source": [
    "data.groupby(\"ExterCond\").SalePrice.describe()"
   ]
  },
  {
   "cell_type": "code",
   "execution_count": null,
   "id": "4d0be8bd-44c8-4621-8159-9167fd0af720",
   "metadata": {},
   "outputs": [],
   "source": [
    "sns.barplot(data=data, x=\"ExterCond\", y=\"SalePrice\");"
   ]
  },
  {
   "cell_type": "markdown",
   "id": "fbbcc61a-98e6-4083-b198-9bf7f2908fe7",
   "metadata": {},
   "source": [
    "Тут уже все не так очевидно, но все равно признак возьмем - на этапе обучения определим его важность."
   ]
  },
  {
   "cell_type": "code",
   "execution_count": null,
   "id": "fbaa984d-cf80-445c-82fd-d7bd9e2a2953",
   "metadata": {},
   "outputs": [],
   "source": [
    "df[\"exterCond\"] = data.ExterCond\n",
    "df.head()"
   ]
  },
  {
   "cell_type": "markdown",
   "id": "8e3c1db5-35c4-4c87-887d-a4b3fe9ea98e",
   "metadata": {},
   "source": [
    "## Foundation - тип фундамента\n",
    "- **BrkTil** - кирпичь и плитка\n",
    "- **CBlock** - шлакоблок\n",
    "- **PConc** - литой бетон\n",
    "- **Slab** - плитка\n",
    "- **Stone** - камень\n",
    "- **Wood** - древесина"
   ]
  },
  {
   "cell_type": "code",
   "execution_count": null,
   "id": "59b60ee4-53d9-4294-832d-e27df1bdde85",
   "metadata": {},
   "outputs": [],
   "source": [
    "data.groupby(\"Foundation\").SalePrice.describe()"
   ]
  },
  {
   "cell_type": "code",
   "execution_count": null,
   "id": "04396911-cdf8-4385-93fc-3d5199c75dfe",
   "metadata": {},
   "outputs": [],
   "source": [
    "data.Foundation.replace({\"Stone\": \"Other\", \"Wood\": \"Other\", \"Slab\": \"Other\"}, inplace=True)"
   ]
  },
  {
   "cell_type": "code",
   "execution_count": null,
   "id": "812dada7-c1d2-4636-b6c1-2009bed8c89f",
   "metadata": {},
   "outputs": [],
   "source": [
    "sns.barplot(data=data, x=\"Foundation\", y=\"SalePrice\");"
   ]
  },
  {
   "cell_type": "markdown",
   "id": "b54d6ca1-f89d-413f-986b-b6fecee0122a",
   "metadata": {},
   "source": [
    "Берем признак"
   ]
  },
  {
   "cell_type": "code",
   "execution_count": null,
   "id": "46a31e59-4aad-4c3a-a432-aabf99526895",
   "metadata": {},
   "outputs": [],
   "source": [
    "df[\"foundPConc\"] = (data[\"Foundation\"] == \"PConc\").astype(np.int64)\n",
    "df[\"foundCBlock\"] = (data[\"Foundation\"] == \"CBlock\").astype(np.int64)\n",
    "df[\"foundBrkTil\"] = (data[\"Foundation\"] == \"BrkTil\").astype(np.int64)\n",
    "\n",
    "df.head()"
   ]
  },
  {
   "cell_type": "markdown",
   "id": "b166c935-106c-40b8-b430-080d0222e0b3",
   "metadata": {},
   "source": [
    "## BsmtQual - высота фундамента\n",
    "- **Ex** - 5\n",
    "- **Gd** - 4\n",
    "- **TA** - 3\n",
    "- **Fa** - 2\n",
    "- **Po** - 1\n",
    "- **NA** - 0"
   ]
  },
  {
   "cell_type": "code",
   "execution_count": null,
   "id": "fb876011-eec1-4fd4-b8d7-b91724b25912",
   "metadata": {},
   "outputs": [],
   "source": [
    "data.BsmtQual.replace({\"Ex\": 5, \"Gd\": 4, \"TA\": 3, \"Fa\": 2, \"Po\": 1}, inplace=True)"
   ]
  },
  {
   "cell_type": "code",
   "execution_count": null,
   "id": "afe9b29a-92e9-4395-aa35-05216a050ca4",
   "metadata": {},
   "outputs": [],
   "source": [
    "data.BsmtQual.fillna(0, inplace=True)"
   ]
  },
  {
   "cell_type": "code",
   "execution_count": null,
   "id": "e50371a9-5ae7-4675-afb4-f630470954f8",
   "metadata": {},
   "outputs": [],
   "source": [
    "data.groupby(\"BsmtQual\").SalePrice.describe()"
   ]
  },
  {
   "cell_type": "code",
   "execution_count": null,
   "id": "95451016-1527-49a2-bbb8-9786955640a6",
   "metadata": {},
   "outputs": [],
   "source": [
    "sns.barplot(data=data, x=\"BsmtQual\", y=\"SalePrice\");"
   ]
  },
  {
   "cell_type": "markdown",
   "id": "025d32c4-0a6f-46a5-8412-f02892af2b8c",
   "metadata": {},
   "source": [
    "Связь есть - берем"
   ]
  },
  {
   "cell_type": "code",
   "execution_count": null,
   "id": "60bf2abf-88c5-46d6-b223-aadeb592fc79",
   "metadata": {},
   "outputs": [],
   "source": [
    "df[\"BsmtQual\"] = data.BsmtQual\n",
    "df.head()"
   ]
  },
  {
   "cell_type": "markdown",
   "id": "b081497f-77b6-4209-9e08-34c241d720fb",
   "metadata": {},
   "source": [
    "## BsmtCond - оценка общего состояния фундамента\n",
    "- **Ex** - 5\n",
    "- **Gd** - 4\n",
    "- **TA** - 3\n",
    "- **Fa** - 2\n",
    "- **Po** - 1\n",
    "- **NA** - 0"
   ]
  },
  {
   "cell_type": "code",
   "execution_count": null,
   "id": "afdc8631-9fa5-45d2-965f-688e51371100",
   "metadata": {},
   "outputs": [],
   "source": [
    "data.BsmtCond.replace({\"Ex\": 5, \"Gd\": 4, \"TA\": 3, \"Fa\": 2, \"Po\": 1}, inplace=True)\n",
    "data.BsmtCond.fillna(0, inplace=True)"
   ]
  },
  {
   "cell_type": "code",
   "execution_count": null,
   "id": "33e0ad4a-3cfd-4573-9a2c-4740b03f331b",
   "metadata": {},
   "outputs": [],
   "source": [
    "data.groupby(\"BsmtCond\").SalePrice.describe()"
   ]
  },
  {
   "cell_type": "code",
   "execution_count": null,
   "id": "0b57fe3c-4cfb-4d70-a9b4-efc355edded0",
   "metadata": {},
   "outputs": [],
   "source": [
    "sns.barplot(data=data, x=\"BsmtCond\", y=\"SalePrice\");"
   ]
  },
  {
   "cell_type": "markdown",
   "id": "525d7d5f-4a15-4e8d-911e-c20048f2818d",
   "metadata": {},
   "source": [
    "Корреляция есть, но заметно исключение в нуле, но это не страшно, поскольку 0 соотвестсвует отсутствию оценки, а также 0 не будет учитываться в работе той же линейной регрессии."
   ]
  },
  {
   "cell_type": "code",
   "execution_count": null,
   "id": "63026632-84d8-4add-a31b-25c7887c25d6",
   "metadata": {},
   "outputs": [],
   "source": [
    "df[\"BsmtCond\"] = data.BsmtCond\n",
    "df.head()"
   ]
  },
  {
   "cell_type": "markdown",
   "id": "c8c2a89e-b913-4c5d-985e-74cd96a51030",
   "metadata": {},
   "source": [
    "## BsmtExposure - оценка стен\n",
    "- **Gd** - 3\n",
    "- **Av** - 2\n",
    "- **Mn** - 1\n",
    "- **No** - 0\n",
    "- **NA** - 0"
   ]
  },
  {
   "cell_type": "code",
   "execution_count": null,
   "id": "efd5f3ec-2153-40c1-babb-ebea524107e6",
   "metadata": {},
   "outputs": [],
   "source": [
    "data.BsmtExposure.replace({\"Gd\": 3, \"Av\": 2, \"Mn\": 1, \"No\": 0}, inplace=True)\n",
    "data.BsmtExposure.fillna(0, inplace=True)"
   ]
  },
  {
   "cell_type": "code",
   "execution_count": null,
   "id": "f0016b08-97dd-469e-9e25-01318e2f949a",
   "metadata": {},
   "outputs": [],
   "source": [
    "data.groupby(\"BsmtExposure\").SalePrice.describe()"
   ]
  },
  {
   "cell_type": "code",
   "execution_count": null,
   "id": "10e63b6d-9520-4b08-afe1-fee417a21e6c",
   "metadata": {},
   "outputs": [],
   "source": [
    "sns.barplot(data=data, x=\"BsmtExposure\", y=\"SalePrice\");"
   ]
  },
  {
   "cell_type": "markdown",
   "id": "3e01ca56-0105-46a3-ae78-3c1ff9fdd9e2",
   "metadata": {},
   "source": [
    "Признак влияет на цену - берем"
   ]
  },
  {
   "cell_type": "code",
   "execution_count": null,
   "id": "c320d5bb-b09d-471a-985c-755a40997d31",
   "metadata": {},
   "outputs": [],
   "source": [
    "df[\"bsmtExpo\"] = data.BsmtExposure\n",
    "df.head()"
   ]
  },
  {
   "cell_type": "markdown",
   "id": "d3b09960-f917-4ab3-a998-d322b45fcba6",
   "metadata": {},
   "source": [
    "## BsmtFinType1 - оценка поверхности фундамента\n",
    "- **GLQ** - хорошие жилые помещения\n",
    "- **ALQ** - норм жилые помещения\n",
    "- **BLQ** - ниже среднего\n",
    "- **Rec** - обычная комната\n",
    "- **LwQ** - низкое качество\n",
    "- **Unf** - неоценено\n",
    "- **NA** - отсутствует основание"
   ]
  },
  {
   "cell_type": "code",
   "execution_count": null,
   "id": "702ccd4f-5f13-499d-95d4-282b5c09adba",
   "metadata": {},
   "outputs": [],
   "source": [
    "data.BsmtFinType1.fillna(\"NA\", inplace=True)"
   ]
  },
  {
   "cell_type": "code",
   "execution_count": null,
   "id": "b467c743-78e7-43fc-8094-78e6ac325dbe",
   "metadata": {},
   "outputs": [],
   "source": [
    "data.groupby(\"BsmtFinType1\").SalePrice.describe()"
   ]
  },
  {
   "cell_type": "code",
   "execution_count": null,
   "id": "3535f5f6-3c27-4e7b-a567-9e48b13fb382",
   "metadata": {},
   "outputs": [],
   "source": [
    "sns.barplot(data=data, x=\"BsmtFinType1\", y=\"SalePrice\");"
   ]
  },
  {
   "cell_type": "code",
   "execution_count": null,
   "id": "9f96fdb4-5858-4069-bc17-2a720dc3fc65",
   "metadata": {},
   "outputs": [],
   "source": [
    "_sr = data.groupby(\"BsmtFinType1\").SalePrice.median()\n",
    "_sr"
   ]
  },
  {
   "cell_type": "code",
   "execution_count": null,
   "id": "0b1fdad1-de23-4bdd-9ba0-c080b1dcddbc",
   "metadata": {},
   "outputs": [],
   "source": [
    "df[\"BsmtFinType1\"] = round(data.BsmtFinType1.map(_sr.to_dict()), 2)\n",
    "df.head()"
   ]
  },
  {
   "cell_type": "markdown",
   "id": "9c920026-bf37-471a-af41-b3462b4a528d",
   "metadata": {},
   "source": [
    "## BsmtFinSF1 - площадь фундамента, оцененного в 1-м типе"
   ]
  },
  {
   "cell_type": "code",
   "execution_count": null,
   "id": "043dd3fb-a0cc-4307-9916-f5b61d2bc796",
   "metadata": {},
   "outputs": [],
   "source": [
    "# Уберем выбросы\n",
    "bsmtfinsf1_data = data.query(\"BsmtFinSF1 < 2000\")"
   ]
  },
  {
   "cell_type": "code",
   "execution_count": null,
   "id": "b14e7d5c-ec99-481a-b4c9-06f003b9ab25",
   "metadata": {},
   "outputs": [],
   "source": [
    "sns.scatterplot(data=bsmtfinsf1_data, x=\"SalePrice\", y=\"BsmtFinSF1\");"
   ]
  },
  {
   "cell_type": "markdown",
   "id": "4dcc7e8a-aae4-4ecb-bdc6-8bab33ca4418",
   "metadata": {},
   "source": [
    "Ух ты, закономерность то есть, и похоже это на квадратный корень"
   ]
  },
  {
   "cell_type": "code",
   "execution_count": null,
   "id": "f1e67622-2f5b-4230-b845-54ae3431d114",
   "metadata": {},
   "outputs": [],
   "source": [
    "sns.scatterplot(x=bsmtfinsf1_data.SalePrice,\n",
    "                # y=np.exp(bsmtfinsf1_data.BsmtFinSF1 / 1000));\n",
    "                y=pow(bsmtfinsf1_data.BsmtFinSF1 / 100, 2));"
   ]
  },
  {
   "cell_type": "markdown",
   "id": "b72421b0-0848-40f8-874c-b1cd453279b3",
   "metadata": {},
   "source": [
    "Делим на 100, возводим в квадрат и добавляем в фрейм"
   ]
  },
  {
   "cell_type": "code",
   "execution_count": null,
   "id": "78e7fc46-be55-4789-804c-a5f893d77be6",
   "metadata": {},
   "outputs": [],
   "source": [
    "df[\"BsmtFinSF1\"] = pow(data.BsmtFinSF1 / 100, 2)\n",
    "df.head()"
   ]
  },
  {
   "cell_type": "markdown",
   "id": "6328f523-1e93-4cba-bc68-cf843759999c",
   "metadata": {},
   "source": [
    "## BsmtFinType2 - оценка площади фундамента (другая)\n",
    "- **GLQ** - хорошие жилые помещения\n",
    "- **ALQ** - норм жилые помещения\n",
    "- **BLQ** - ниже среднего\n",
    "- **Rec** - обычная комната\n",
    "- **LwQ** - низкое качество\n",
    "- **Unf** - неоценено\n",
    "- **NA** - отсутствует основание"
   ]
  },
  {
   "cell_type": "code",
   "execution_count": null,
   "id": "90506269-ae7c-43a0-ba68-5d64068ba689",
   "metadata": {},
   "outputs": [],
   "source": [
    "data.BsmtFinType2.fillna(\"Unf\")\n",
    "data.groupby(\"BsmtFinType2\").SalePrice.describe()"
   ]
  },
  {
   "cell_type": "code",
   "execution_count": null,
   "id": "aec42af7-4e4c-4845-9789-afbbeac61d12",
   "metadata": {},
   "outputs": [],
   "source": [
    "sns.barplot(x=data.BsmtFinType2, y=data.SalePrice);"
   ]
  },
  {
   "cell_type": "markdown",
   "id": "e61a8248-1e73-4b8a-be7d-60c043b90f4a",
   "metadata": {},
   "source": [
    "1256 неопределенных значений, вон из хаты"
   ]
  },
  {
   "cell_type": "markdown",
   "id": "418dac05-8aff-45da-bff9-7f972608120d",
   "metadata": {},
   "source": [
    "## BsmtFinSF2 - площадь фундамента 2-го типа"
   ]
  },
  {
   "cell_type": "code",
   "execution_count": null,
   "id": "360adede-436b-4f54-ba55-c93aa7a4cfe2",
   "metadata": {},
   "outputs": [],
   "source": [
    "sns.scatterplot(x=data.BsmtFinSF2, y=data.SalePrice);"
   ]
  },
  {
   "cell_type": "code",
   "execution_count": null,
   "id": "938e55a1-3c6a-47c9-8a5f-7b7c57a0d342",
   "metadata": {},
   "outputs": [],
   "source": [
    "data.query(\"BsmtFinSF2 == 0\").BsmtFinSF2.count()"
   ]
  },
  {
   "cell_type": "markdown",
   "id": "66108249-f80c-48de-baf7-ebc2782964f2",
   "metadata": {},
   "source": [
    "1293 0 значения - досвидания"
   ]
  },
  {
   "cell_type": "markdown",
   "id": "29613696-01ea-4105-a79b-d4fce24b018f",
   "metadata": {},
   "source": [
    "## BsmtUnfSF - недостроенные квадратные метры подвала"
   ]
  },
  {
   "cell_type": "code",
   "execution_count": null,
   "id": "f3d16ccc-f319-4ba3-a66e-24df3e077eb0",
   "metadata": {},
   "outputs": [],
   "source": [
    "sns.scatterplot(data=data, x=\"BsmtUnfSF\", y=\"SalePrice\");"
   ]
  },
  {
   "cell_type": "markdown",
   "id": "0e4222f8-9f3a-45e6-939e-dc6fee5759bb",
   "metadata": {},
   "source": [
    "Корреляции нет, не берем"
   ]
  },
  {
   "cell_type": "markdown",
   "id": "31ff8a0b-8729-469a-8c8b-1a0d71bb70de",
   "metadata": {},
   "source": [
    "## TotalBsmtSF - общая площадь подвала"
   ]
  },
  {
   "cell_type": "code",
   "execution_count": null,
   "id": "1633f59b-8573-4645-ac12-9326bd3b3969",
   "metadata": {},
   "outputs": [],
   "source": [
    "sns.scatterplot(data=data, x=\"TotalBsmtSF\", y=\"SalePrice\");"
   ]
  },
  {
   "cell_type": "code",
   "execution_count": null,
   "id": "2c664635-5407-437f-81ae-a0155fcd7954",
   "metadata": {},
   "outputs": [],
   "source": [
    "sns.lmplot(data=data, y=\"TotalBsmtSF\", x=\"SalePrice\", order=2, ci=None);"
   ]
  },
  {
   "cell_type": "code",
   "execution_count": null,
   "id": "3a88c5fc-f0da-4016-9374-7665d829897a",
   "metadata": {},
   "outputs": [],
   "source": [
    "sns.scatterplot(x=pow(data.query(\"TotalBsmtSF < 3000\").TotalBsmtSF / 50, 2),\n",
    "                y=data.query(\"TotalBsmtSF < 3000\").SalePrice);"
   ]
  },
  {
   "cell_type": "markdown",
   "id": "38f4b176-86a4-494d-845f-6f2ae19fc7a4",
   "metadata": {},
   "source": [
    "Если немного преобразовать данные площади, то признак очень хорошо коррелирует с ценой, поэтому берем"
   ]
  },
  {
   "cell_type": "code",
   "execution_count": null,
   "id": "6213cc0f-bc3e-48a4-a44f-66de8cf6d6e8",
   "metadata": {},
   "outputs": [],
   "source": [
    "df[\"TotalBsmtSF\"] = pow(data.TotalBsmtSF / 50, 2)\n",
    "df.head()"
   ]
  },
  {
   "cell_type": "markdown",
   "id": "1983c08d-499c-413c-992c-55a2d831c283",
   "metadata": {},
   "source": [
    "## Heating - тип отопления\n",
    "- **Floor** - напольная печь\n",
    "- **GasA** - газовая печь\n",
    "- **GasW** - гаовое/паровое отопление\n",
    "- **Grav** - Гравитационная печь\n",
    "- **OthW** - тепло горячей воды или пара\n",
    "- **Wall** - настенная печь"
   ]
  },
  {
   "cell_type": "code",
   "execution_count": null,
   "id": "d5b36617-df1a-4a42-973d-ce9cc0fa0d20",
   "metadata": {},
   "outputs": [],
   "source": [
    "data.groupby(\"Heating\").SalePrice.describe()"
   ]
  },
  {
   "cell_type": "markdown",
   "id": "390ab83f-65d6-455c-a2c4-c64eb49e7f57",
   "metadata": {},
   "source": [
    "Много значений в типе GasA и крайне мало в остальных, не берем"
   ]
  },
  {
   "cell_type": "markdown",
   "id": "d6229c1d-1072-4b87-b732-bfd49ca96092",
   "metadata": {},
   "source": [
    "## HeatingQC - оценка качества отопления и кондиционирования\n",
    "- **Ex** - 5\n",
    "- **Gd** - 4\n",
    "- **TA** - 3\n",
    "- **Fa** - 2\n",
    "- **Po** - 1"
   ]
  },
  {
   "cell_type": "code",
   "execution_count": null,
   "id": "7e969b62-53bb-401b-8ab3-9a20f447b1f0",
   "metadata": {},
   "outputs": [],
   "source": [
    "data.HeatingQC.replace({\"Ex\": 5, \"Gd\": 4, \"TA\": 3, \"Fa\": 2, \"Po\": 1}, inplace=True)"
   ]
  },
  {
   "cell_type": "code",
   "execution_count": null,
   "id": "d7884daf-fdc7-42ef-971c-0fb657a7e3b6",
   "metadata": {},
   "outputs": [],
   "source": [
    "data.groupby(\"HeatingQC\").SalePrice.describe()"
   ]
  },
  {
   "cell_type": "code",
   "execution_count": null,
   "id": "42ab664b-32af-49c0-bc64-b831a25d7ac4",
   "metadata": {},
   "outputs": [],
   "source": [
    "mx_heatqc = max(data.groupby(\"HeatingQC\").SalePrice.mean())\n",
    "score_to_num = round(data.groupby(\"HeatingQC\").SalePrice.mean() / mx_heatqc * 50) / 10\n",
    "score_to_num"
   ]
  },
  {
   "cell_type": "code",
   "execution_count": null,
   "id": "2a1d2162-18c5-4391-9465-c9c229e544c1",
   "metadata": {},
   "outputs": [],
   "source": [
    "sns.barplot(data=data, x=\"HeatingQC\", y=\"SalePrice\");"
   ]
  },
  {
   "cell_type": "markdown",
   "id": "2211f836-d0bf-4410-8c7b-51f165164204",
   "metadata": {},
   "source": [
    "Опять же есть зависимость, значит берем"
   ]
  },
  {
   "cell_type": "code",
   "execution_count": null,
   "id": "bc536a35-4497-49cb-aa81-a2a8f691ffb2",
   "metadata": {},
   "outputs": [],
   "source": [
    "df[\"heatingQC\"] = data.HeatingQC.map(score_to_num.to_dict())\n",
    "df.head()"
   ]
  },
  {
   "cell_type": "markdown",
   "id": "9ea78095-98b6-48c6-86c6-ad25a0f62857",
   "metadata": {},
   "source": [
    "## CentralAir - центральное кондиционирование воздуха\n",
    "- **N** - нет\n",
    "- **Y** - есть"
   ]
  },
  {
   "cell_type": "code",
   "execution_count": null,
   "id": "5a8d6f5a-98f1-484e-acaa-6f730a9233c5",
   "metadata": {},
   "outputs": [],
   "source": [
    "data.groupby(\"CentralAir\").SalePrice.describe()"
   ]
  },
  {
   "cell_type": "code",
   "execution_count": null,
   "id": "ade0ca0c-3a02-4539-a519-154d41235b11",
   "metadata": {},
   "outputs": [],
   "source": [
    "sns.barplot(data=data, x=\"CentralAir\", y=\"SalePrice\");"
   ]
  },
  {
   "cell_type": "markdown",
   "id": "5f35c577-f5c2-4ec2-94b8-92cf9997f9f2",
   "metadata": {},
   "source": [
    "Явно стоит взять, так как очевидно, что дома с центральным кондиционированием будут стоить дороже (не нужно тратиться на покупку конлиционера)"
   ]
  },
  {
   "cell_type": "code",
   "execution_count": null,
   "id": "49c27869-2e12-46d8-a396-122e281cde26",
   "metadata": {},
   "outputs": [],
   "source": [
    "df[\"centralAir\"] = (data.CentralAir == \"Y\").astype(np.int64)\n",
    "df.head()"
   ]
  },
  {
   "cell_type": "markdown",
   "id": "ffad0f42-56bb-4f85-9c28-9323a85856bc",
   "metadata": {},
   "source": [
    "## Electrical - электричество\n",
    "- **SBrkr** - Стандартные автоматические выключатели & Romex\n",
    "- **FuseA** - Блок предохранителей на 60 ампер и вся проводка Romex (средняя)\n",
    "- **FuseF** - Блок предохранителей на 60 ампер и в основном проводка Romex (исправная)\n",
    "- **FuseP** - Блок предохранителей на 60 ампер и в основном проводка ручки и трубки (плохая)\n",
    "- **Mix** - Смешанный"
   ]
  },
  {
   "cell_type": "code",
   "execution_count": null,
   "id": "d534efd4-23dd-4a87-b553-362afa143e94",
   "metadata": {},
   "outputs": [],
   "source": [
    "data.groupby(\"Electrical\").SalePrice.describe()"
   ]
  },
  {
   "cell_type": "code",
   "execution_count": null,
   "id": "9eb034aa-2e07-4d68-92db-c833e9c900d8",
   "metadata": {},
   "outputs": [],
   "source": [
    "sns.barplot(data=data, x=\"Electrical\", y=\"SalePrice\");"
   ]
  },
  {
   "cell_type": "markdown",
   "id": "47d12723-7c18-46e5-9c46-46be009f961c",
   "metadata": {},
   "source": [
    "Очевидно, что стандартные выключатели (SBrkr) будут стоить дороже, чем все остальное, поэтому побавит этот признак как 1 - SBrkr, 0 - остальное"
   ]
  },
  {
   "cell_type": "code",
   "execution_count": null,
   "id": "0c8d648e-1e12-4c24-9694-3ab1cb03149e",
   "metadata": {},
   "outputs": [],
   "source": [
    "df[\"electr\"] = (data.Electrical == \"SBrkr\").astype(np.int64)\n",
    "df.head()"
   ]
  },
  {
   "cell_type": "markdown",
   "id": "cebea0aa-5f3f-4b57-a080-33e4428018c7",
   "metadata": {},
   "source": [
    "## 1stFlrSF - площадь первого этажа"
   ]
  },
  {
   "cell_type": "code",
   "execution_count": null,
   "id": "ee82367e-c30b-4d86-b686-baf7eb748dba",
   "metadata": {},
   "outputs": [],
   "source": [
    "sns.regplot(x=pow(data[data[\"1stFlrSF\"] < 4000][\"1stFlrSF\"] / 10, 1),\n",
    "            y=data[data[\"1stFlrSF\"] < 4000].SalePrice);"
   ]
  },
  {
   "cell_type": "code",
   "execution_count": null,
   "id": "ee77a66d-ccd0-44f1-86bb-87a2f22e6e27",
   "metadata": {},
   "outputs": [],
   "source": [
    "sns.regplot(x=pow(data[data[\"1stFlrSF\"] < 4000][\"1stFlrSF\"] / 10, 1/2),\n",
    "            y=data[data[\"1stFlrSF\"] < 4000].SalePrice);"
   ]
  },
  {
   "cell_type": "markdown",
   "id": "f6c36523-a7a8-4faa-846c-273aedf94183",
   "metadata": {},
   "source": [
    "Добавляем"
   ]
  },
  {
   "cell_type": "code",
   "execution_count": null,
   "id": "3f8796d6-5769-4967-9a76-6cf38b39ec6d",
   "metadata": {},
   "outputs": [],
   "source": [
    "df[\"1stFlrSF\"] = pow(data[\"1stFlrSF\"] / 10, 1/2)\n",
    "df.head()"
   ]
  },
  {
   "cell_type": "markdown",
   "id": "7ae4cda8-cb59-4505-8452-89c154fba857",
   "metadata": {},
   "source": [
    "## 2ndFlrSF - площадь второго этажа"
   ]
  },
  {
   "cell_type": "code",
   "execution_count": null,
   "id": "9d04853d-c3d1-4161-91fe-6333e1662ea8",
   "metadata": {},
   "outputs": [],
   "source": [
    "second_floor_df = data[data[\"2ndFlrSF\"] > 1]\n",
    "sns.scatterplot(x=pow(second_floor_df[\"2ndFlrSF\"] / 50, 2),\n",
    "                y=second_floor_df.SalePrice);"
   ]
  },
  {
   "cell_type": "markdown",
   "id": "98e3e5be-d0f5-4840-896d-eab10b50cceb",
   "metadata": {},
   "source": [
    "Возводим в квадрат и берем признак в фрейм"
   ]
  },
  {
   "cell_type": "code",
   "execution_count": null,
   "id": "e0cd6cf4-2b6f-4cb4-ac34-b69aa399f186",
   "metadata": {},
   "outputs": [],
   "source": [
    "df[\"2ndFltSF\"] = pow(data[\"2ndFlrSF\"] / 50, 1/2)\n",
    "df.head()"
   ]
  },
  {
   "cell_type": "markdown",
   "id": "a2c85ff5-b138-4959-a1b8-ed2bc036176d",
   "metadata": {},
   "source": [
    "## LowQualFinSF - площадь с отделкой низкого качества"
   ]
  },
  {
   "cell_type": "code",
   "execution_count": null,
   "id": "3ac96a90-df13-4235-ae40-afde594feadf",
   "metadata": {},
   "outputs": [],
   "source": [
    "sns.scatterplot(x=data.LowQualFinSF, y=data.SalePrice);"
   ]
  },
  {
   "cell_type": "markdown",
   "id": "567d45e6-4017-4cee-9478-ca2ed1b77f47",
   "metadata": {},
   "source": [
    "Тут больше важен сам факт налиция такой площади, потому что он будет сбивать цену вниз."
   ]
  },
  {
   "cell_type": "code",
   "execution_count": null,
   "id": "2f81e8b4-fd45-4456-8976-444bf50194b9",
   "metadata": {},
   "outputs": [],
   "source": [
    "df[\"lowQualFin\"] = (data.LowQualFinSF == 0).astype(np.int64)\n",
    "df.head()"
   ]
  },
  {
   "cell_type": "markdown",
   "id": "2551aba8-1203-40d2-9101-8fd889b474ad",
   "metadata": {},
   "source": [
    "## GrLivArea - Жилая площадь надземной части"
   ]
  },
  {
   "cell_type": "code",
   "execution_count": null,
   "id": "2ec295fd-c108-4921-bac0-e77bb686c99c",
   "metadata": {},
   "outputs": [],
   "source": [
    "sns.regplot(x=pow(data.query(\"GrLivArea < 4000\").GrLivArea, 1),\n",
    "            y=data.query(\"GrLivArea < 4000\").SalePrice);"
   ]
  },
  {
   "cell_type": "markdown",
   "id": "e58e8f7f-e860-48cf-8ddd-8065763f868d",
   "metadata": {},
   "source": [
    "Безоговорочно берем"
   ]
  },
  {
   "cell_type": "code",
   "execution_count": null,
   "id": "081e176a-512d-4e13-ac8e-6afa45fb5c2a",
   "metadata": {},
   "outputs": [],
   "source": [
    "df[\"GrLivArea\"] = data.GrLivArea"
   ]
  },
  {
   "cell_type": "markdown",
   "id": "d1869107-6786-4564-8dbf-78fc7ef711b3",
   "metadata": {},
   "source": [
    "## BsmtFullBath - цокольный этаж с душем"
   ]
  },
  {
   "cell_type": "code",
   "execution_count": null,
   "id": "f261e1b3-b96b-4822-9111-bb4e518d7ad6",
   "metadata": {},
   "outputs": [],
   "source": [
    "sns.scatterplot(x=data.BsmtFullBath, y=data.SalePrice);"
   ]
  },
  {
   "cell_type": "code",
   "execution_count": null,
   "id": "ce0cb923-7e51-4286-8434-cfe850b463b2",
   "metadata": {},
   "outputs": [],
   "source": [
    "sns.barplot(x=data.BsmtFullBath, y=data.SalePrice);"
   ]
  },
  {
   "cell_type": "markdown",
   "id": "a6285f10-a14c-4e0a-9c42-6e30da83a417",
   "metadata": {},
   "source": [
    "не берем"
   ]
  },
  {
   "cell_type": "markdown",
   "id": "5a4f58f9-8f2c-4796-9425-828a117d977f",
   "metadata": {},
   "source": [
    "## BsmtHalfBath - количество ванных комнат на цокольном этаже"
   ]
  },
  {
   "cell_type": "code",
   "execution_count": null,
   "id": "a8487167-8de1-4e4a-9c9e-3333e6cf49e2",
   "metadata": {},
   "outputs": [],
   "source": [
    "sns.barplot(x=data.BsmtHalfBath, y=data.SalePrice);"
   ]
  },
  {
   "cell_type": "markdown",
   "id": "5fe8539c-0bc4-43ac-abf8-2a4f70b2494c",
   "metadata": {},
   "source": [
    "Не берем"
   ]
  },
  {
   "cell_type": "markdown",
   "id": "34a3f2a7-50d2-475e-bf1e-ecbae16b4243",
   "metadata": {},
   "source": [
    "## FullBath - количество полностью оборудованных ванных комнат высшего класса"
   ]
  },
  {
   "cell_type": "code",
   "execution_count": null,
   "id": "71cbd67f-3e68-43bc-842e-5aefa9d5de8a",
   "metadata": {},
   "outputs": [],
   "source": [
    "sns.barplot(x=data.FullBath, y=data.SalePrice);"
   ]
  },
  {
   "cell_type": "markdown",
   "id": "0e864901-3083-4ad0-8892-aabe81d242b7",
   "metadata": {},
   "source": [
    "Тут явно есть зависимость - берем"
   ]
  },
  {
   "cell_type": "code",
   "execution_count": null,
   "id": "a1804783-e0fa-42a5-bd80-4dce95295041",
   "metadata": {},
   "outputs": [],
   "source": [
    "df[\"fullBath\"] = data.FullBath"
   ]
  },
  {
   "cell_type": "markdown",
   "id": "5371dda4-15b7-4a41-88c7-608c2c38f372",
   "metadata": {},
   "source": [
    "## HalfBath - Половина ванн высшего сорта"
   ]
  },
  {
   "cell_type": "code",
   "execution_count": null,
   "id": "4cf40ee4-3aab-40d4-9952-da9a49adea7f",
   "metadata": {},
   "outputs": [],
   "source": [
    "sns.barplot(x=data.HalfBath, y=data.SalePrice);"
   ]
  },
  {
   "cell_type": "markdown",
   "id": "cae5a7a0-a0fc-4bac-acfb-40cf81b9fda2",
   "metadata": {},
   "source": [
    "Не берем"
   ]
  },
  {
   "cell_type": "markdown",
   "id": "3e264667-c6d1-4da6-a718-61ae3bf63ffa",
   "metadata": {},
   "source": [
    "## BedroomAbvGr - колчество спален, не считая цокольного этажа"
   ]
  },
  {
   "cell_type": "code",
   "execution_count": null,
   "id": "8a6c96a2-8dc8-42c8-9e47-029cdc84fb78",
   "metadata": {},
   "outputs": [],
   "source": [
    "data.groupby(\"BedroomAbvGr\").SalePrice.describe()"
   ]
  },
  {
   "cell_type": "code",
   "execution_count": null,
   "id": "f838138d-1b50-47c8-9f74-0e679346f384",
   "metadata": {},
   "outputs": [],
   "source": [
    "sns.barplot(x=data.BedroomAbvGr, y=data.SalePrice);"
   ]
  },
  {
   "cell_type": "markdown",
   "id": "ef1de97a-8470-4697-b12d-a34561e5b5d4",
   "metadata": {},
   "source": [
    "..."
   ]
  },
  {
   "cell_type": "markdown",
   "id": "766ce23f-8e2a-4561-8497-506e3edeef28",
   "metadata": {},
   "source": [
    "## KitchenAbvGr - количество кухонь"
   ]
  },
  {
   "cell_type": "code",
   "execution_count": null,
   "id": "74d17fc5-f552-4a89-bae3-36b54b499ec8",
   "metadata": {},
   "outputs": [],
   "source": [
    "data.groupby(\"KitchenAbvGr\").SalePrice.describe()"
   ]
  },
  {
   "cell_type": "markdown",
   "id": "8308f807-1e02-4f6c-9d0f-0b84a5e2f7ff",
   "metadata": {},
   "source": [
    "..."
   ]
  },
  {
   "cell_type": "markdown",
   "id": "b95549ce-b6d5-4613-bf42-c10dc23b8451",
   "metadata": {},
   "source": [
    "## KitchenQual - оценка кухни\n",
    "- **Ex** - 5\n",
    "- **Gd** - 4\n",
    "- **TA** - 3\n",
    "- **Fa** - 2\n",
    "- **Po** - 1"
   ]
  },
  {
   "cell_type": "code",
   "execution_count": null,
   "id": "64418b95-8a54-4fd4-9371-b2b847889556",
   "metadata": {},
   "outputs": [],
   "source": [
    "data.KitchenQual.replace({\"Ex\": 5, \"Gd\": 4, \"TA\": 3, \"Fa\": 2, \"Po\": 1}, inplace=True)"
   ]
  },
  {
   "cell_type": "code",
   "execution_count": null,
   "id": "639fe846-8252-4cdd-8ba3-d2a30d055b3d",
   "metadata": {},
   "outputs": [],
   "source": [
    "data.groupby(\"KitchenQual\").SalePrice.describe()"
   ]
  },
  {
   "cell_type": "code",
   "execution_count": null,
   "id": "0eaff67f-e988-48d9-8967-f7f643e6499a",
   "metadata": {},
   "outputs": [],
   "source": [
    "sns.barplot(x=data.KitchenQual, y=data.SalePrice);"
   ]
  },
  {
   "cell_type": "markdown",
   "id": "d445fd52-4547-40b8-a76b-46c113709c48",
   "metadata": {},
   "source": [
    "Тут все очевидно, берем"
   ]
  },
  {
   "cell_type": "code",
   "execution_count": null,
   "id": "80758c47-f6bb-47d0-b35f-9b3bcb25aa61",
   "metadata": {},
   "outputs": [],
   "source": [
    "kit_qual_mean_df = data.groupby(\"KitchenQual\").SalePrice.mean()\n",
    "df[\"kitQual\"] = data.KitchenQual.map(\n",
    "    (round(kit_qual_mean_df / kit_qual_mean_df.max() * 5, 2).to_dict())\n",
    ")\n",
    "df.head()"
   ]
  },
  {
   "cell_type": "markdown",
   "id": "cf10df8a-845e-470b-aac3-4d7f32f4f74d",
   "metadata": {},
   "source": [
    "## TotRmsAbvGrd - количество камнат высшего класса"
   ]
  },
  {
   "cell_type": "code",
   "execution_count": null,
   "id": "bbee47bc-9070-463e-8e9e-00e22bf58fc1",
   "metadata": {},
   "outputs": [],
   "source": [
    "data.groupby(\"TotRmsAbvGrd\").SalePrice.describe()"
   ]
  },
  {
   "cell_type": "code",
   "execution_count": null,
   "id": "0b2424e2-1636-49bb-a127-11f1ec1b7b9d",
   "metadata": {},
   "outputs": [],
   "source": [
    "sns.countplot(x=data.TotRmsAbvGrd);"
   ]
  },
  {
   "cell_type": "code",
   "execution_count": null,
   "id": "237b6492-e66b-46e0-801c-045efb64872b",
   "metadata": {},
   "outputs": [],
   "source": [
    "sns.barplot(x=data.TotRmsAbvGrd, y=data.SalePrice);"
   ]
  },
  {
   "cell_type": "code",
   "execution_count": null,
   "id": "cad12bc2-2fe8-401d-b77f-1fd924b96526",
   "metadata": {},
   "outputs": [],
   "source": [
    "# data.groupby(\"TotRmsAbvGrd\").SalePrice.mean()\n",
    "sns.scatterplot(data.groupby(\"TotRmsAbvGrd\").SalePrice.median());"
   ]
  },
  {
   "cell_type": "code",
   "execution_count": null,
   "id": "ab4831cd-7875-475a-9dcd-78ae3b854445",
   "metadata": {},
   "outputs": [],
   "source": [
    "sns.scatterplot(data.replace(\n",
    "    {2: 3, 14: 10, 13: 10, 12: 10, 11: 10}\n",
    ").groupby(\"TotRmsAbvGrd\").SalePrice.mean());"
   ]
  },
  {
   "cell_type": "markdown",
   "id": "9b1ccf5a-39cc-45d6-b195-2dd5cc72fa35",
   "metadata": {},
   "source": [
    "Если крайние значения заменить на соседние, то в целом получается прямая (хотя и немного кривая)"
   ]
  },
  {
   "cell_type": "code",
   "execution_count": null,
   "id": "1528e70b-fe3d-428e-801b-febdae66f1fb",
   "metadata": {},
   "outputs": [],
   "source": [
    "df[\"totRmsAbvGrd\"] = data.TotRmsAbvGrd.map(\n",
    "    {2: 1, 3: 1, 4: 2, 5: 3, 6: 4, 7: 5, 8: 6,\n",
    "     9: 7, 10: 8, 11: 8, 12: 8, 13: 8, 14: 8}\n",
    ")\n",
    "df.head()"
   ]
  },
  {
   "cell_type": "markdown",
   "id": "85f870d9-000a-402e-92c9-8236525ddbdd",
   "metadata": {},
   "source": [
    "## Functional - функциональность дома\n",
    "- **Typ** - стандартная функциональность\n",
    "- **Min1** - незначительные недочеты 1\n",
    "- **Min2** - незначительные недочеты 2\n",
    "- **Mod** - умеренные отчисления\n",
    "- **Maj1** - сильные недочеты 1\n",
    "- **Maj2** - сильные недочеты 2\n",
    "- **Sev** - серьезно поврежден\n",
    "- **Sal** - только утилизация"
   ]
  },
  {
   "cell_type": "code",
   "execution_count": null,
   "id": "30987381-6e30-4890-bd8a-e3f398a83c1a",
   "metadata": {},
   "outputs": [],
   "source": [
    "data.Functional.replace(\n",
    "    {\"Maj1\": 0, \"Maj2\": 0, \"Min1\": 0, \"Min2\": 0, \"Mod\": 0, \"Sev\": 0, \"Typ\": 1},\n",
    "    inplace=True,\n",
    ")"
   ]
  },
  {
   "cell_type": "code",
   "execution_count": null,
   "id": "a5a62bf4-0466-4fc4-9812-390329d438f6",
   "metadata": {},
   "outputs": [],
   "source": [
    "_df = data.groupby(\"Functional\").SalePrice.describe()\n",
    "_df"
   ]
  },
  {
   "cell_type": "code",
   "execution_count": null,
   "id": "1083494f-70da-4e7f-b05d-85de6017d3a2",
   "metadata": {},
   "outputs": [],
   "source": [
    "_df[\"mean\"].min() / _df[\"mean\"].max()"
   ]
  },
  {
   "cell_type": "markdown",
   "id": "d16bbc00-17d8-4641-8e34-ab4f0bae5105",
   "metadata": {},
   "source": [
    "Признак странный, но возьмем"
   ]
  },
  {
   "cell_type": "code",
   "execution_count": null,
   "id": "230de92e-3844-425b-a7df-82270ece2852",
   "metadata": {},
   "outputs": [],
   "source": [
    "df[\"func\"] = data.Functional.map({0: 0.8, 1: 1})\n",
    "df.head()"
   ]
  },
  {
   "cell_type": "markdown",
   "id": "1f2cbfa9-3c7b-48eb-b532-2ed4d8d3640c",
   "metadata": {},
   "source": [
    "## Fireplaces - количество каминов"
   ]
  },
  {
   "cell_type": "code",
   "execution_count": null,
   "id": "6e88f306-bed4-43ec-a6dd-8d674123a0c7",
   "metadata": {},
   "outputs": [],
   "source": [
    "data.groupby(\"Fireplaces\").SalePrice.describe()"
   ]
  },
  {
   "cell_type": "code",
   "execution_count": null,
   "id": "56b6205d-9a33-47a3-a61d-55ff9c0071ea",
   "metadata": {},
   "outputs": [],
   "source": [
    "data.Fireplaces.replace({3: 2}, inplace=True)"
   ]
  },
  {
   "cell_type": "code",
   "execution_count": null,
   "id": "a1ca07f9-f2f5-4bf7-9b1f-d91889ec6567",
   "metadata": {},
   "outputs": [],
   "source": [
    "sns.barplot(x=data.Fireplaces, y=data.SalePrice);"
   ]
  },
  {
   "cell_type": "markdown",
   "id": "5893c287-f3b8-40a6-80b8-5fd3f8a7d2c7",
   "metadata": {},
   "source": [
    "Преобразуем его и возьмем"
   ]
  },
  {
   "cell_type": "code",
   "execution_count": null,
   "id": "7df7b15a-6ab2-4d09-aed6-443c79bf83e2",
   "metadata": {},
   "outputs": [],
   "source": [
    "_sr = data.groupby(\"Fireplaces\").SalePrice.median()\n",
    "_sr"
   ]
  },
  {
   "cell_type": "code",
   "execution_count": null,
   "id": "d8b24070-1f99-4787-876e-2dd5304f78e8",
   "metadata": {},
   "outputs": [],
   "source": [
    "df[\"fireplaces\"] = round(data.Fireplaces.map(_sr.to_dict()) / _sr.max(), 2)\n",
    "df.head()"
   ]
  },
  {
   "cell_type": "markdown",
   "id": "35ccae83-d0cc-479d-8c2d-80e289d90d65",
   "metadata": {},
   "source": [
    "## FireplaceQu - качество каминов\n",
    "- **Ex** - 5\n",
    "- **Gd** - 4\n",
    "- **TA** - 3\n",
    "- **Fa** - 2\n",
    "- **Po** - 1\n",
    "- **Na** - 0"
   ]
  },
  {
   "cell_type": "code",
   "execution_count": null,
   "id": "a319dafe-2d1d-4744-aa4e-df2c869653cc",
   "metadata": {},
   "outputs": [],
   "source": [
    "data.FireplaceQu.fillna(0, inplace=True)\n",
    "data.FireplaceQu.replace({\"Ex\": 5, \"Gd\": 4, \"TA\": 3, \"Fa\": 2, \"Po\": 1}, inplace=True)"
   ]
  },
  {
   "cell_type": "code",
   "execution_count": null,
   "id": "69b7d93a-45f7-484f-9206-35702ef66666",
   "metadata": {},
   "outputs": [],
   "source": [
    "data.groupby(\"FireplaceQu\").SalePrice.describe()"
   ]
  },
  {
   "cell_type": "code",
   "execution_count": null,
   "id": "ede6e54b-e129-42f7-b14b-1f70a66734ae",
   "metadata": {},
   "outputs": [],
   "source": [
    "_sr = data.groupby(\"FireplaceQu\").SalePrice.median()\n",
    "_sr[0] = 0\n",
    "_sr"
   ]
  },
  {
   "cell_type": "code",
   "execution_count": null,
   "id": "469242b0-8da7-4b1b-8035-85b92d0b75b0",
   "metadata": {},
   "outputs": [],
   "source": [
    "sns.barplot(x=data.FireplaceQu, y=data.SalePrice);"
   ]
  },
  {
   "cell_type": "markdown",
   "id": "ee84758c-f6f4-4439-bab5-951a9d2b53ea",
   "metadata": {},
   "source": [
    "берем"
   ]
  },
  {
   "cell_type": "code",
   "execution_count": null,
   "id": "bd8c2577-c70d-4a03-bde7-50d1776c3bbc",
   "metadata": {},
   "outputs": [],
   "source": [
    "df[\"fireplaceQual\"] = round(data.FireplaceQu.map(_sr.to_dict()) / _sr.max(), 2)\n",
    "df.head()"
   ]
  },
  {
   "cell_type": "markdown",
   "id": "fe21c530-62d8-4419-a83f-09708972f05e",
   "metadata": {},
   "source": [
    "## GarageType - расположение гаража\n",
    "- **2Types** - несколько типов гаражей\n",
    "- **Attchd** - соединен с домом\n",
    "- **Basment** - гараз на цокольном этаже\n",
    "- **BuiltIn** - встроен в дом\n",
    "- **CarPort** - место для авто\n",
    "- **Detchd** - отделен от дома\n",
    "- **NA** - нет гаража"
   ]
  },
  {
   "cell_type": "code",
   "execution_count": null,
   "id": "e41e1613-24d9-4cc3-b1d7-cccf1ddfe6ee",
   "metadata": {},
   "outputs": [],
   "source": [
    "data.GarageType.fillna('NA', inplace=True)\n",
    "data.GarageType.replace({\"CarPort\": \"NA\", \"Basment\": \"2Types\"}, inplace=True)"
   ]
  },
  {
   "cell_type": "code",
   "execution_count": null,
   "id": "aeb1fce3-55d6-47ab-9627-121d8e51d696",
   "metadata": {},
   "outputs": [],
   "source": [
    "data.groupby(\"GarageType\").SalePrice.describe().sort_values(\"mean\")"
   ]
  },
  {
   "cell_type": "code",
   "execution_count": null,
   "id": "a90c5097-2dfe-4557-9e17-6fd322a434eb",
   "metadata": {},
   "outputs": [],
   "source": [
    "sns.barplot(x=data.GarageType, y=data.SalePrice);"
   ]
  },
  {
   "cell_type": "code",
   "execution_count": null,
   "id": "d9e9b9e2-f25e-4c72-a232-80ecb4837525",
   "metadata": {},
   "outputs": [],
   "source": [
    "_sr = data.groupby(\"GarageType\").SalePrice.median()\n",
    "_sr"
   ]
  },
  {
   "cell_type": "code",
   "execution_count": null,
   "id": "f696e531-b707-4eea-a640-2cf966474476",
   "metadata": {},
   "outputs": [],
   "source": [
    "df[\"garageType\"] = round(data.GarageType.map(_sr.to_dict()) / _sr.max(), 2)\n",
    "df.head()"
   ]
  },
  {
   "cell_type": "markdown",
   "id": "67bb4e45-22b5-4018-be23-c7efa34e87e6",
   "metadata": {},
   "source": [
    "## GarageYrBlt - дата постройки гаража"
   ]
  },
  {
   "cell_type": "code",
   "execution_count": null,
   "id": "f01c20b1-a73f-4741-bbda-b8f824a7addf",
   "metadata": {},
   "outputs": [],
   "source": [
    "data.GarageYrBlt.fillna(0, inplace=True)"
   ]
  },
  {
   "cell_type": "code",
   "execution_count": null,
   "id": "b910cd53-605b-410a-bab1-01cb5a093e2d",
   "metadata": {},
   "outputs": [],
   "source": [
    "_df = pd.DataFrame(data={\n",
    "    \"GarageYrBlt\": data.GarageYrBlt.values,\n",
    "    \"SalePrice\": data.SalePrice.values\n",
    "}, index=data.index)\n",
    "\n",
    "_df[\"GarageYrBlt\"] = round(_df[\"GarageYrBlt\"], -1)\n",
    "_df.GarageYrBlt.replace({1900: 1910}, inplace=True)"
   ]
  },
  {
   "cell_type": "code",
   "execution_count": null,
   "id": "c6641304-72fa-44f6-b59a-9373ad16219d",
   "metadata": {},
   "outputs": [],
   "source": [
    "sns.barplot(x=_df.GarageYrBlt, y=_df.SalePrice);\n",
    "plt.xticks(rotation=45);"
   ]
  },
  {
   "cell_type": "markdown",
   "id": "0cf2fd66-08af-4d27-95d2-6e643b373df5",
   "metadata": {},
   "source": [
    "Разделим на 4 категории и добавим в фрейм: 0, до 1990, 1990, 2000, 2010."
   ]
  },
  {
   "cell_type": "code",
   "execution_count": null,
   "id": "4f95952e-e45c-4a4a-8cf5-7dc5ac3e8330",
   "metadata": {},
   "outputs": [],
   "source": [
    "_df.GarageYrBlt.replace({1910: 1989, 1920: 1989, 1930: 1989, 1940: 1989,\n",
    "                         1950: 1989, 1960: 1989, 1970: 1989, 1980: 1989,\n",
    "                         1990: 2000}, inplace=True)\n",
    "\n",
    "_sr_yr_price = _df.groupby(\"GarageYrBlt\").SalePrice.median()\n",
    "_sr_yr_price"
   ]
  },
  {
   "cell_type": "code",
   "execution_count": null,
   "id": "d7edd4a5-a83a-4ad4-8d9b-850140ab9583",
   "metadata": {},
   "outputs": [],
   "source": [
    "df[\"GarageYrBlt\"] = _df.GarageYrBlt.map(_sr_yr_price.to_dict()) / _sr_yr_price.max()\n",
    "df.head()"
   ]
  },
  {
   "cell_type": "markdown",
   "id": "166aa97c-4ecf-4d6b-85b3-8268c949761f",
   "metadata": {},
   "source": [
    "## GarageFinish - внутренная отделка гаража\n",
    "- **Fin** - закончена\n",
    "- **RFin** - грубая\n",
    "- **Unf** - не закончена\n",
    "- **NA** - нет гаража"
   ]
  },
  {
   "cell_type": "code",
   "execution_count": null,
   "id": "465f6c49-48f0-43ec-b966-a3cfdb572af7",
   "metadata": {},
   "outputs": [],
   "source": [
    "data.GarageFinish.fillna(\"NA\", inplace=True)"
   ]
  },
  {
   "cell_type": "code",
   "execution_count": null,
   "id": "3de0742a-4a0f-41a9-a070-3df88a45a9ed",
   "metadata": {},
   "outputs": [],
   "source": [
    "data.groupby(\"GarageFinish\").SalePrice.describe()"
   ]
  },
  {
   "cell_type": "code",
   "execution_count": null,
   "id": "5a04b426-48ee-4003-b2d2-6c28fabfe5a3",
   "metadata": {},
   "outputs": [],
   "source": [
    "sns.barplot(x=data.GarageFinish, y=data.SalePrice);"
   ]
  },
  {
   "cell_type": "markdown",
   "id": "2fcffb70-8690-4f5c-b79d-21d7c34f649d",
   "metadata": {},
   "source": [
    "Изменяем и берем"
   ]
  },
  {
   "cell_type": "code",
   "execution_count": null,
   "id": "8c861b81-4b1f-41b5-8691-4a91ce59e9e7",
   "metadata": {},
   "outputs": [],
   "source": [
    "_sr = data.groupby(\"GarageFinish\").SalePrice.median()\n",
    "_sr"
   ]
  },
  {
   "cell_type": "code",
   "execution_count": null,
   "id": "812a50b4-890c-4919-a620-a9daf30623c9",
   "metadata": {},
   "outputs": [],
   "source": [
    "df[\"garageFin\"] = round(data.GarageFinish.map(_sr.to_dict()) / _sr.max(), 2)\n",
    "df.head()"
   ]
  },
  {
   "cell_type": "markdown",
   "id": "0d874ba3-037c-4670-ae7f-9071b7bcf8d6",
   "metadata": {},
   "source": [
    "## GarageCars - сколько машин помещается в гараж"
   ]
  },
  {
   "cell_type": "code",
   "execution_count": null,
   "id": "2bc1d8b2-fc2b-459d-8606-6c302397769d",
   "metadata": {},
   "outputs": [],
   "source": [
    "data.groupby(\"GarageCars\").SalePrice.describe()"
   ]
  },
  {
   "cell_type": "code",
   "execution_count": null,
   "id": "68dde09d-ebf3-4e64-a18a-ec18deb2721e",
   "metadata": {},
   "outputs": [],
   "source": [
    "sns.barplot(x=data.GarageCars, y=data.SalePrice);"
   ]
  },
  {
   "cell_type": "markdown",
   "id": "72954b5e-cd96-4326-88ab-dc711b717ec4",
   "metadata": {},
   "source": [
    "По какой-то причине гараж на 4 машины влияет на цену дома так же, как и гараж на 2 машины, но это не мещает нам добавить признак в фрейм"
   ]
  },
  {
   "cell_type": "code",
   "execution_count": null,
   "id": "18d4c74d-e8d9-4d0e-aae4-141a5f68ce36",
   "metadata": {},
   "outputs": [],
   "source": [
    "_sr = data.groupby(\"GarageCars\").SalePrice.median()\n",
    "_sr"
   ]
  },
  {
   "cell_type": "code",
   "execution_count": null,
   "id": "81ae5e12-353d-43c0-9832-e0f8553d72ad",
   "metadata": {},
   "outputs": [],
   "source": [
    "df[\"garageCars\"] = round(data.GarageCars.map(_sr.to_dict()) / _sr.max(), 2)\n",
    "df.head()"
   ]
  },
  {
   "cell_type": "markdown",
   "id": "f13bb0de-315f-4743-a9ad-247f51615f4b",
   "metadata": {},
   "source": [
    "## GarageArea - площадь гаража"
   ]
  },
  {
   "cell_type": "code",
   "execution_count": null,
   "id": "74e2c9f5-5059-4301-9371-3d5f9408b461",
   "metadata": {},
   "outputs": [],
   "source": [
    "sns.scatterplot(x=data.query(\"GarageArea > 0\").GarageArea,\n",
    "                y=data.query(\"GarageArea > 0\").SalePrice);"
   ]
  },
  {
   "cell_type": "code",
   "execution_count": null,
   "id": "d46b719b-51b3-4684-87bf-44fbb47ea0a0",
   "metadata": {},
   "outputs": [],
   "source": [
    "sns.lmplot(\n",
    "    data=data.query(\"GarageArea > 0\"), x=\"GarageArea\", y=\"SalePrice\");"
   ]
  },
  {
   "cell_type": "markdown",
   "id": "e06d46c5-ec7b-49f7-bee6-5d14b1145e91",
   "metadata": {},
   "source": [
    "Берем, тут есть линейная зависимость"
   ]
  },
  {
   "cell_type": "code",
   "execution_count": null,
   "id": "cda4277c-14bc-4084-b403-89e9f98ea988",
   "metadata": {},
   "outputs": [],
   "source": [
    "df[\"garageArea\"] = data.GarageArea"
   ]
  },
  {
   "cell_type": "markdown",
   "id": "fe5c321d-2bc9-41d8-9b1f-6e618f161bd1",
   "metadata": {},
   "source": [
    "## GarageQual - качество гаража\n",
    "- **Ex** - 5\n",
    "- **Gd** - 4\n",
    "- **TA** - 3\n",
    "- **Fa** - 2\n",
    "- **Po** - 1\n",
    "- **Na** - 0"
   ]
  },
  {
   "cell_type": "code",
   "execution_count": null,
   "id": "6cf653cb-90b3-4887-893a-bf05e48a76c6",
   "metadata": {},
   "outputs": [],
   "source": [
    "data.GarageQual.fillna(0, inplace=True)\n",
    "data.GarageQual.replace({\"Ex\": 5, \"Gd\": 4, \"TA\": 3, \"Fa\": 2, \"Po\": 1}, inplace=True)"
   ]
  },
  {
   "cell_type": "code",
   "execution_count": null,
   "id": "4f3d467b-b1c7-4c47-903e-72ba37453c0a",
   "metadata": {},
   "outputs": [],
   "source": [
    "data.groupby(\"GarageQual\").SalePrice.describe()"
   ]
  },
  {
   "cell_type": "code",
   "execution_count": null,
   "id": "c78d2746-8912-4796-86ba-454e8ccb7417",
   "metadata": {},
   "outputs": [],
   "source": [
    "sns.barplot(x=data.GarageQual, y=data.SalePrice);"
   ]
  },
  {
   "cell_type": "markdown",
   "id": "cf89a6ff-3e44-4635-989c-272f1b1ec28f",
   "metadata": {},
   "source": [
    "Конечно не сильно, но на цену влияет, поэтому возьмем признак, но 0 и 1 соединим "
   ]
  },
  {
   "cell_type": "code",
   "execution_count": null,
   "id": "c16c6ebf-90d0-413f-a953-01e5997828b5",
   "metadata": {},
   "outputs": [],
   "source": [
    "data.GarageQual.replace({0: 1}, inplace=True)\n",
    "_sr = data.groupby(\"GarageQual\").SalePrice.mean()\n",
    "_sr"
   ]
  },
  {
   "cell_type": "code",
   "execution_count": null,
   "id": "59670627-a9c2-4109-b234-d8fc0e25f053",
   "metadata": {},
   "outputs": [],
   "source": [
    "df[\"GarageQual\"] = round(data.GarageQual.map(_sr.to_dict()) / _sr.max(), 2)\n",
    "df.head()"
   ]
  },
  {
   "cell_type": "markdown",
   "id": "24e717df-eee1-4ff2-b57a-aecf586de3ed",
   "metadata": {},
   "source": [
    "## GarageCond - состояние гаража\n",
    "- **Ex** - 5\n",
    "- **Gd** - 4\n",
    "- **TA** - 3\n",
    "- **Fa** - 2\n",
    "- **Po** - 1\n",
    "- **Na** - 0"
   ]
  },
  {
   "cell_type": "code",
   "execution_count": null,
   "id": "e311f0af-4614-4f43-9397-fbbed7bb60dd",
   "metadata": {},
   "outputs": [],
   "source": [
    "data.GarageCond.fillna(0, inplace=True)\n",
    "data.GarageCond.replace({\"Ex\": 5, \"Gd\": 4, \"TA\": 3, \"Fa\": 2, \"Po\": 1}, inplace=True)"
   ]
  },
  {
   "cell_type": "code",
   "execution_count": null,
   "id": "1a2531ff-320d-40f2-a42e-f9ea6264efd8",
   "metadata": {},
   "outputs": [],
   "source": [
    "data.groupby(\"GarageCond\").SalePrice.describe()"
   ]
  },
  {
   "cell_type": "code",
   "execution_count": null,
   "id": "5706d0eb-2870-470a-a9d6-77a2a7ca8c68",
   "metadata": {},
   "outputs": [],
   "source": [
    "sns.barplot(x=data.GarageCond, y=data.SalePrice);"
   ]
  },
  {
   "cell_type": "markdown",
   "id": "0cb2f885-d464-4b92-b469-621603174a90",
   "metadata": {},
   "source": [
    "Если смотреть по цене, то есть смысл объединить 0,1,2,5 в одну категорию, а 3 и 4 в другую. Вообще странно, что гаражи с условиями на 5 звезд стоят дешевле, чем на 3."
   ]
  },
  {
   "cell_type": "code",
   "execution_count": null,
   "id": "1b2e07ad-8dd0-476e-859f-18e5c7255460",
   "metadata": {},
   "outputs": [],
   "source": [
    "data.GarageCond.replace({0: 1, 2: 1, 3: 5, 4: 5}, inplace=True)"
   ]
  },
  {
   "cell_type": "code",
   "execution_count": null,
   "id": "2a017ce7-b037-4882-aa22-d584aa102a3d",
   "metadata": {},
   "outputs": [],
   "source": [
    "data.groupby(\"GarageCond\").SalePrice.describe()"
   ]
  },
  {
   "cell_type": "code",
   "execution_count": null,
   "id": "fc4355ad-13df-4793-93b3-5a2aeee2e365",
   "metadata": {},
   "outputs": [],
   "source": [
    "_sr = data.groupby(\"GarageCond\").SalePrice.median()\n",
    "_sr"
   ]
  },
  {
   "cell_type": "code",
   "execution_count": null,
   "id": "2e189451-a99a-4325-99dc-807d07475838",
   "metadata": {},
   "outputs": [],
   "source": [
    "df[\"garageCond\"] = round(data.GarageCond.map(_sr.to_dict()) / _sr.max(), 2)\n",
    "df.head()"
   ]
  },
  {
   "cell_type": "markdown",
   "id": "0ba9deff-93ec-43d8-a61e-4512ab11caff",
   "metadata": {},
   "source": [
    "## PavedDrive - мощеная подъездная дорожка\n",
    "- **Y** - мощеная\n",
    "- **P** - частично мощеная\n",
    "- **N** - земля/гравий"
   ]
  },
  {
   "cell_type": "code",
   "execution_count": null,
   "id": "28e92cf3-7c2f-444a-bc16-14de9bb1c0c3",
   "metadata": {},
   "outputs": [],
   "source": [
    "data.groupby(\"PavedDrive\").SalePrice.describe()"
   ]
  },
  {
   "cell_type": "code",
   "execution_count": null,
   "id": "33e3721b-7406-4732-8454-3f941854e7b8",
   "metadata": {},
   "outputs": [],
   "source": [
    "sns.barplot(x=data.PavedDrive, y=data.SalePrice);"
   ]
  },
  {
   "cell_type": "markdown",
   "id": "8a75f8a2-22c5-486d-886e-55203fa9b48a",
   "metadata": {},
   "source": [
    "Тут все очевидно - берем"
   ]
  },
  {
   "cell_type": "code",
   "execution_count": null,
   "id": "d3204c0e-0c94-4d0a-8f9c-97700765e800",
   "metadata": {},
   "outputs": [],
   "source": [
    "_sr = data.groupby(\"PavedDrive\").SalePrice.median()\n",
    "_sr"
   ]
  },
  {
   "cell_type": "code",
   "execution_count": null,
   "id": "0fded8c1-9b32-44a3-8478-82b3131fc163",
   "metadata": {},
   "outputs": [],
   "source": [
    "df[\"pavedDrive\"] = round(data.PavedDrive.map(_sr.to_dict()) / _sr.max(), 2)\n",
    "df.head()"
   ]
  },
  {
   "cell_type": "markdown",
   "id": "d3728302-3d4a-45fa-8bcd-f9e8bb012a6b",
   "metadata": {},
   "source": [
    "## WoodDeckSF - площадь деревянного покрытия"
   ]
  },
  {
   "cell_type": "code",
   "execution_count": null,
   "id": "f79f448e-a085-4a6c-a1ef-7a3b77cfa574",
   "metadata": {},
   "outputs": [],
   "source": [
    "sns.distplot(data.WoodDeckSF);"
   ]
  },
  {
   "cell_type": "code",
   "execution_count": null,
   "id": "001312c3-d073-466a-84fe-bd9a8a5e1663",
   "metadata": {},
   "outputs": [],
   "source": [
    "sns.scatterplot(x=data.query(\"WoodDeckSF > 0\").WoodDeckSF, y=data.SalePrice);"
   ]
  },
  {
   "cell_type": "markdown",
   "id": "e68a14b5-e23c-46af-b04d-e4e00dc0bd2b",
   "metadata": {},
   "source": [
    "Берем"
   ]
  },
  {
   "cell_type": "code",
   "execution_count": null,
   "id": "708159c7-7a9f-4119-b2a5-f09d69bf2e11",
   "metadata": {},
   "outputs": [],
   "source": [
    "df[\"woodDeckSF\"] = data.WoodDeckSF"
   ]
  },
  {
   "cell_type": "markdown",
   "id": "c758599a-036b-4a00-ac28-46a21f0c8b42",
   "metadata": {},
   "source": [
    "## OpenPorchSF - площадь открытой веранды"
   ]
  },
  {
   "cell_type": "code",
   "execution_count": null,
   "id": "7b11495b-de1e-4a07-886a-9768d1aa13aa",
   "metadata": {},
   "outputs": [],
   "source": [
    "sns.scatterplot(x=data.OpenPorchSF, y=data.SalePrice);"
   ]
  },
  {
   "cell_type": "markdown",
   "id": "290bb3ec-ab67-4198-8cc9-6955808cfa35",
   "metadata": {},
   "source": [
    "Разброс сильный, но взять можно"
   ]
  },
  {
   "cell_type": "code",
   "execution_count": null,
   "id": "b67b40b2-ec93-4a7f-ae01-f8a7516c6945",
   "metadata": {},
   "outputs": [],
   "source": [
    "df[\"openPorchSF\"] = data.OpenPorchSF"
   ]
  },
  {
   "cell_type": "markdown",
   "id": "8762674d-b3d4-4449-b8b3-18ec1b96ba12",
   "metadata": {},
   "source": [
    "## EnclosedPorch - площадь крытой веранды"
   ]
  },
  {
   "cell_type": "code",
   "execution_count": null,
   "id": "3765225f-2c53-4ac9-ad74-c5ff2f461a35",
   "metadata": {},
   "outputs": [],
   "source": [
    "sns.regplot(x=data.query(\"EnclosedPorch > 0\").EnclosedPorch,\n",
    "            y=data.query(\"EnclosedPorch > 0\").SalePrice);"
   ]
  },
  {
   "cell_type": "code",
   "execution_count": null,
   "id": "4c81d4ee-c32f-46a7-a8fb-10eccf92d586",
   "metadata": {},
   "outputs": [],
   "source": [
    "df[\"enclosedPorch\"] = data.EnclosedPorch"
   ]
  },
  {
   "cell_type": "markdown",
   "id": "25002692-2a0a-4ffe-86e2-4097c0ccb1ca",
   "metadata": {},
   "source": [
    "## 3SsnPorch - трехсезонная плозадь веранды"
   ]
  },
  {
   "cell_type": "code",
   "execution_count": null,
   "id": "b40c122c-973f-4565-8986-8f494749d99e",
   "metadata": {},
   "outputs": [],
   "source": [
    "sns.scatterplot(x=data[\"3SsnPorch\"], y=data.SalePrice);"
   ]
  },
  {
   "cell_type": "markdown",
   "id": "56561cf6-2051-4e1f-b551-5d8bb0b32c6e",
   "metadata": {},
   "source": [
    "Тут данных мало, да и влияния этот признак особого не оказывает"
   ]
  },
  {
   "cell_type": "markdown",
   "id": "0512c35e-d47d-4895-a3fe-3f1a63a0b920",
   "metadata": {},
   "source": [
    "## ScreenPorch - площадь веранды с окнами"
   ]
  },
  {
   "cell_type": "code",
   "execution_count": null,
   "id": "4a5812bd-09e4-47ca-be00-7713139c2180",
   "metadata": {},
   "outputs": [],
   "source": [
    "sns.scatterplot(x=data.ScreenPorch, y=data.SalePrice);"
   ]
  },
  {
   "cell_type": "markdown",
   "id": "4e9484a5-7791-4312-8970-8c81cd7fd2cd",
   "metadata": {},
   "source": [
    "берем"
   ]
  },
  {
   "cell_type": "code",
   "execution_count": null,
   "id": "4854229c-fc5a-41ce-bc93-a69296b47ef6",
   "metadata": {},
   "outputs": [],
   "source": [
    "df[\"screenPorch\"] = data.ScreenPorch"
   ]
  },
  {
   "cell_type": "markdown",
   "id": "63f9eca8-3264-441c-85ea-9ba94fde2ae8",
   "metadata": {},
   "source": [
    "## PoolArea - площадь бассейна"
   ]
  },
  {
   "cell_type": "code",
   "execution_count": null,
   "id": "e30434f0-4576-46d7-a691-59445c4c906b",
   "metadata": {},
   "outputs": [],
   "source": [
    "sns.scatterplot(x=data.PoolArea, y=data.SalePrice);"
   ]
  },
  {
   "cell_type": "markdown",
   "id": "96cc0a97-d0c6-4d7a-82a3-dec7247516d5",
   "metadata": {},
   "source": [
    "Тут уже важен сам факт наличия бассейна"
   ]
  },
  {
   "cell_type": "code",
   "execution_count": null,
   "id": "2141dcfd-6dfd-4247-b5ce-365383b12ba2",
   "metadata": {},
   "outputs": [],
   "source": [
    "df[\"pool\"] = (data.PoolArea > 0).astype(np.int64)\n",
    "df.head()"
   ]
  },
  {
   "cell_type": "markdown",
   "id": "0766a8be-1c2e-4d2f-9686-5a34ae258d05",
   "metadata": {},
   "source": [
    "## PoolQC - качество бассейна\n",
    "- **Ex** - 5\n",
    "- **Gd** - 4\n",
    "- **TA** - 3\n",
    "- **Fa** - 2\n",
    "- **Po** - 1\n",
    "- **Na** - 0"
   ]
  },
  {
   "cell_type": "code",
   "execution_count": null,
   "id": "adecf184-169d-427c-97f4-29631eeb7be0",
   "metadata": {},
   "outputs": [],
   "source": [
    "data.PoolQC.fillna(0, inplace=True)\n",
    "data.PoolQC.replace({\"Ex\": 5, \"Gd\": 4, \"TA\": 3, \"Fa\": 2, \"Po\": 1}, inplace=True)"
   ]
  },
  {
   "cell_type": "code",
   "execution_count": null,
   "id": "2311d1a9-a639-4bac-b6af-16957036f428",
   "metadata": {},
   "outputs": [],
   "source": [
    "data.groupby(\"PoolQC\").SalePrice.describe()"
   ]
  },
  {
   "cell_type": "code",
   "execution_count": null,
   "id": "28b9c84e-4789-4a8a-9a17-1b27f70336f2",
   "metadata": {},
   "outputs": [],
   "source": [
    "sns.barplot(x=data.PoolQC, y=data.SalePrice);"
   ]
  },
  {
   "cell_type": "markdown",
   "id": "99908a1a-4a94-4fa2-9066-c4a6b3523b0e",
   "metadata": {},
   "source": [
    "Бассейна с оценкой 5 стоят дороже (причем сильно), поэтому добавим этот признак"
   ]
  },
  {
   "cell_type": "code",
   "execution_count": null,
   "id": "c96f90b9-31b4-4221-b481-d5d94b773e25",
   "metadata": {},
   "outputs": [],
   "source": [
    "df[\"poolQC\"] = (data.PoolQC == 5).astype(np.int64)"
   ]
  },
  {
   "cell_type": "markdown",
   "id": "375a7352-e158-44a3-8f96-fef6a7f14622",
   "metadata": {},
   "source": [
    "## Fence - качество ограждения\n",
    "- **GdPrv** - норм приватность\n",
    "- **MnPrv** - минимальная приватность\n",
    "- **GdWo** - норм дерево\n",
    "- **MnWw** - такое себе дерево\n",
    "- **NA** - нет забора"
   ]
  },
  {
   "cell_type": "code",
   "execution_count": null,
   "id": "d60ca598-ec9d-4a05-9b93-f97a9cb57c2b",
   "metadata": {},
   "outputs": [],
   "source": [
    "data.Fence.fillna(\"NA\", inplace=True)"
   ]
  },
  {
   "cell_type": "code",
   "execution_count": null,
   "id": "70a55b94-d2bc-46d4-8aff-594eaefcd8ee",
   "metadata": {},
   "outputs": [],
   "source": [
    "data.groupby(\"Fence\").SalePrice.describe()"
   ]
  },
  {
   "cell_type": "code",
   "execution_count": null,
   "id": "cc2cd7b5-c060-4a10-8734-5d40c3240171",
   "metadata": {},
   "outputs": [],
   "source": [
    "sns.barplot(x=data.Fence, y=data.SalePrice);"
   ]
  },
  {
   "cell_type": "markdown",
   "id": "87be2660-5c0e-4642-9233-158a12a15ac1",
   "metadata": {},
   "source": [
    "Берем"
   ]
  },
  {
   "cell_type": "code",
   "execution_count": null,
   "id": "5d4c76e8-4a7c-4213-b718-a2c85bbf3a48",
   "metadata": {},
   "outputs": [],
   "source": [
    "_sr = data.groupby(\"Fence\").SalePrice.median()\n",
    "_sr"
   ]
  },
  {
   "cell_type": "code",
   "execution_count": null,
   "id": "a75a9059-a3b5-49cf-abcb-ac2df36bcbe4",
   "metadata": {},
   "outputs": [],
   "source": [
    "df[\"Fence\"] = round(data.Fence.map(_sr.to_dict()) / _sr.max(), 2)\n",
    "df.head()"
   ]
  },
  {
   "cell_type": "markdown",
   "id": "7f5715ee-8275-420c-8f5d-299520f17a84",
   "metadata": {},
   "source": [
    "## MiscFeature - другой функционал дома\n",
    "- **Elev** - лифт\n",
    "- **Gar2** - 2-й гараж\n",
    "- **Othr** - другое\n",
    "- **Shed** - сарай\n",
    "- **TenC** - теннисный корт\n",
    "- **NA** - нет"
   ]
  },
  {
   "cell_type": "code",
   "execution_count": null,
   "id": "83faa696-84ed-4054-8e28-4ec4ec99404e",
   "metadata": {},
   "outputs": [],
   "source": [
    "data.MiscFeature.fillna(\"NA\", inplace=True)"
   ]
  },
  {
   "cell_type": "code",
   "execution_count": null,
   "id": "e926f70a-d73a-457c-a5f5-5a354fb6e95f",
   "metadata": {},
   "outputs": [],
   "source": [
    "data.groupby(\"MiscFeature\").SalePrice.describe()"
   ]
  },
  {
   "cell_type": "markdown",
   "id": "69a8f384-c17c-4055-b14f-d2982f8e2685",
   "metadata": {},
   "source": [
    "Стоит взять"
   ]
  },
  {
   "cell_type": "code",
   "execution_count": null,
   "id": "11b73800-a2af-4b59-b108-47c90e0a664d",
   "metadata": {},
   "outputs": [],
   "source": [
    "_sr = data.groupby(\"MiscFeature\").SalePrice.median()\n",
    "_sr"
   ]
  },
  {
   "cell_type": "code",
   "execution_count": null,
   "id": "937bbf60-d257-4c90-b806-ea8ac1a52269",
   "metadata": {},
   "outputs": [],
   "source": [
    "df[\"miscFeature\"] = round(data.MiscFeature.map(_sr.to_dict()) / _sr.max(), 2)"
   ]
  },
  {
   "cell_type": "markdown",
   "id": "d0ae70ad-1706-4037-ad5a-8924e5c1ef33",
   "metadata": {},
   "source": [
    "## MiscVal - значение $ другого функционала"
   ]
  },
  {
   "cell_type": "code",
   "execution_count": null,
   "id": "07ca7b50-50c9-40e5-99f0-a0d6f4676773",
   "metadata": {},
   "outputs": [],
   "source": [
    "data.groupby(\"MiscVal\").SalePrice.describe()"
   ]
  },
  {
   "cell_type": "markdown",
   "id": "485ff52c-d18e-4f9d-85e9-615859121ac5",
   "metadata": {},
   "source": [
    "Большинство значений представлены всего 1-2 видами, брать не будем"
   ]
  },
  {
   "cell_type": "markdown",
   "id": "13bad3ed-f12e-44f3-b5d7-67d39c4b416e",
   "metadata": {},
   "source": [
    "## MoSold - продаж в месяц"
   ]
  },
  {
   "cell_type": "code",
   "execution_count": null,
   "id": "988e48f2-4fd1-418f-a328-b42b1b2c9ed6",
   "metadata": {},
   "outputs": [],
   "source": [
    "sns.barplot(x=data.MoSold, y=data.SalePrice);"
   ]
  },
  {
   "cell_type": "code",
   "execution_count": null,
   "id": "b94a9131-776f-4e08-a18a-5061c3e8cb56",
   "metadata": {},
   "outputs": [],
   "source": [
    "for i in range(1, 13):\n",
    "    data.MoSold.replace({i: [\"winter\", \"spring\", \"summer\", \"autumn\"][(i % 12) // 3]}, inplace=True)"
   ]
  },
  {
   "cell_type": "code",
   "execution_count": null,
   "id": "7a36baf2-e8f9-4ff9-b4b5-a18d5338bcb7",
   "metadata": {},
   "outputs": [],
   "source": [
    "sns.barplot(x=data.MoSold, y=data.SalePrice);"
   ]
  },
  {
   "cell_type": "markdown",
   "id": "6ee845ad-d939-4108-95cf-766c2b868684",
   "metadata": {},
   "source": [
    "Каждый из сезонов имеет примерно одинаковое значение, поэтому не берем"
   ]
  },
  {
   "cell_type": "markdown",
   "id": "274af966-cf43-4712-904b-d4367eac9415",
   "metadata": {},
   "source": [
    "## YrSold - продажи в год"
   ]
  },
  {
   "cell_type": "code",
   "execution_count": null,
   "id": "a15aaab4-8063-471d-b4e6-a1ae75a91fe9",
   "metadata": {},
   "outputs": [],
   "source": [
    "sns.barplot(x=data.YrSold, y=data.SalePrice);"
   ]
  },
  {
   "cell_type": "markdown",
   "id": "b9b3d67e-1540-4e2b-9549-15e743fb1707",
   "metadata": {},
   "source": [
    "Аналогичная картина"
   ]
  },
  {
   "cell_type": "markdown",
   "id": "a18d4081-7da5-472a-9b17-d4741a5f9735",
   "metadata": {},
   "source": [
    "## SaleType - тип пролажи"
   ]
  },
  {
   "cell_type": "code",
   "execution_count": null,
   "id": "e45eedcd-35e9-4d90-a17a-653a0855cf49",
   "metadata": {},
   "outputs": [],
   "source": [
    "data.groupby(\"SaleType\").SalePrice.describe()"
   ]
  },
  {
   "cell_type": "code",
   "execution_count": null,
   "id": "09ef2aea-51c6-4e53-bb8f-de2c404224d3",
   "metadata": {},
   "outputs": [],
   "source": [
    "data.SaleType.replace({\"CWD\": \"Other\", \"Con\": \"Other\", \"ConLD\": \"Other\",\n",
    "                       \"ConLI\": \"Other\", \"ConLw\": \"Other\", \"Oth\": \"Other\"},\n",
    "                      inplace=True)"
   ]
  },
  {
   "cell_type": "code",
   "execution_count": null,
   "id": "c5943bb2-238f-4485-8dec-786f90dbdb79",
   "metadata": {},
   "outputs": [],
   "source": [
    "sns.barplot(x=data.SaleType, y=data.SalePrice);"
   ]
  },
  {
   "cell_type": "markdown",
   "id": "59adae56-8961-4a84-a834-97b9bed29e03",
   "metadata": {},
   "source": [
    "Очевидно, что новое стоит дороже старого"
   ]
  },
  {
   "cell_type": "code",
   "execution_count": null,
   "id": "8e74488d-8c0c-4943-96e4-dc5334afc7f2",
   "metadata": {},
   "outputs": [],
   "source": [
    "data.SaleType.replace({\"WD\": \"Other\", \"COD\": \"Other\"}, inplace=True)"
   ]
  },
  {
   "cell_type": "code",
   "execution_count": null,
   "id": "7833a020-1932-4456-82bb-6d0ae3544bbc",
   "metadata": {},
   "outputs": [],
   "source": [
    "sns.barplot(x=data.SaleType, y=data.SalePrice);"
   ]
  },
  {
   "cell_type": "code",
   "execution_count": null,
   "id": "3b9933aa-a195-4f99-8fa0-deb2ea356500",
   "metadata": {},
   "outputs": [],
   "source": [
    "_sr = data.groupby(\"SaleType\").SalePrice.median()\n",
    "_sr"
   ]
  },
  {
   "cell_type": "code",
   "execution_count": null,
   "id": "d6b904d0-7ede-4733-b5d7-b404f058878f",
   "metadata": {},
   "outputs": [],
   "source": [
    "df[\"SaleType\"] = round(data.SaleType.map(_sr.to_dict()) / _sr.max(), 2)"
   ]
  },
  {
   "cell_type": "markdown",
   "id": "01ca9b0f-32bb-485d-8b81-b02a7e79f39d",
   "metadata": {},
   "source": [
    "## SaleCondition - условие продажи\n",
    "- **Normal** - обычная продажа\n",
    "- **Abnorml** - обмен, обращение взыскания, короткая продажа\n",
    "- **AdjLand** - покупка прилегающего земельного участка\n",
    "- **Alloca** - два связанных объекта с отдельными документами (кондоминимум с гаражом)\n",
    "- **Family** - Продажа между челанми семьи\n",
    "- **Partial** - Дом не достроен на момент последней оценки"
   ]
  },
  {
   "cell_type": "code",
   "execution_count": null,
   "id": "760ead1c-dae6-4cae-93a4-ef9babab91db",
   "metadata": {},
   "outputs": [],
   "source": [
    "data.groupby(\"SaleCondition\").SalePrice.describe()"
   ]
  },
  {
   "cell_type": "code",
   "execution_count": null,
   "id": "30d846f1-4e8e-4881-8577-f6a334d02e71",
   "metadata": {},
   "outputs": [],
   "source": [
    "sns.barplot(x=data.SaleCondition, y=data.SalePrice);"
   ]
  },
  {
   "cell_type": "markdown",
   "id": "8d32044c-b234-43c1-a0ff-9b8e72ee7e95",
   "metadata": {},
   "source": [
    "Берем"
   ]
  },
  {
   "cell_type": "code",
   "execution_count": null,
   "id": "4d94d582-2bf6-4bcf-9232-16664ece7e7f",
   "metadata": {},
   "outputs": [],
   "source": [
    "_sr = data.groupby(\"SaleCondition\").SalePrice.median()\n",
    "_sr"
   ]
  },
  {
   "cell_type": "code",
   "execution_count": null,
   "id": "11345a33-2375-4b53-8d0b-0de91f2a2eca",
   "metadata": {},
   "outputs": [],
   "source": [
    "df[\"saleCond\"] = round(data.SaleCondition.map(_sr.to_dict()) / _sr.max(), 2)\n",
    "df.head()"
   ]
  },
  {
   "cell_type": "markdown",
   "id": "b169c321-f6ea-48ab-aecb-96ca3319fa74",
   "metadata": {},
   "source": [
    "## SalePrice"
   ]
  },
  {
   "cell_type": "code",
   "execution_count": null,
   "id": "b0e5c5ba-75f9-4b0b-9d37-7a27b0c7b164",
   "metadata": {},
   "outputs": [],
   "source": [
    "df[\"salePrice\"] = data.SalePrice"
   ]
  },
  {
   "cell_type": "markdown",
   "id": "64884261-cf90-40a9-b1d4-0f1fa88b023d",
   "metadata": {},
   "source": [
    "# Function for preparing data for further training"
   ]
  },
  {
   "cell_type": "code",
   "execution_count": null,
   "id": "df0ce5b9-bede-47c3-b728-cd336b833e00",
   "metadata": {},
   "outputs": [],
   "source": [
    "def category_to_num(df: pd.DataFrame, train_df: pd.DataFrame, feature: str, racc: int) -> pd.Series:\n",
    "    \"\"\"Convert category feature to number\"\"\"\n",
    "    _sr = train_df.groupby(feature).SalePrice.median()\n",
    "    _sr = round(df[feature].map(_sr.to_dict()) / _sr.max(), racc)\n",
    "    _sr.fillna(0, inplace=True)\n",
    "    return _sr"
   ]
  },
  {
   "cell_type": "code",
   "execution_count": null,
   "id": "69b1b7c7-89d4-45d1-afd1-f6b8d5e79473",
   "metadata": {},
   "outputs": [],
   "source": [
    "def prepare_data(df: pd.DataFrame, train_df: pd.DataFrame) -> pd.DataFrame:\n",
    "    \"\"\"Function for preparing data for further training\"\"\"\n",
    "    racc = 3\n",
    "    \n",
    "    # MSSubClass\n",
    "    _sr = train_df.groupby(\"MSSubClass\").SalePrice.median()\n",
    "    \n",
    "    res_df = pd.DataFrame(df.MSSubClass).rename(\n",
    "        columns={\"MSSubClass\": \"subclassPrice\"}\n",
    "    )\n",
    "    res_df.subclassPrice.replace(round(_sr / _sr.max(), racc).to_dict(), inplace=True)\n",
    "\n",
    "    # LotArea\n",
    "    res_df[\"lotArea\"] = df.LotArea\n",
    "\n",
    "    # pav_strt\n",
    "    res_df[\"pavStrt\"] = (df.Street == \"Pave\").astype(np.int64)\n",
    "\n",
    "    # Alley\n",
    "    res_df[\"gravAlley\"] = (df.Alley == \"Grvl\").astype(np.int64)\n",
    "    res_df[\"pavAlley\"] = (df.Alley == \"Pave\").astype(np.int64)\n",
    "\n",
    "    # lotShape\n",
    "    res_df[\"regShape\"] = (df.LotShape == \"Reg\").astype(np.int64)\n",
    "\n",
    "    # LandContour\n",
    "    res_df[\"lvlContour\"] = (df.LandContour == \"Lvl\").astype(np.int64)\n",
    "    res_df[\"hlsContour\"] = (df.LandContour == \"HLS\").astype(np.int64)\n",
    "    res_df[\"bnkContour\"] = (df.LandContour == \"Bnk\").astype(np.int64)\n",
    "\n",
    "    # Neighborhood\n",
    "    res_df[\"neighborhood\"] = category_to_num(df, train_df, \"Neighborhood\", racc)\n",
    "\n",
    "    # BldgType\n",
    "    res_df[\"bldgType\"] = category_to_num(df, train_df, \"BldgType\", racc)\n",
    "\n",
    "    # HouseStyle\n",
    "    res_df[\"houseStyle\"] = category_to_num(df, train_df, \"HouseStyle\", racc)\n",
    "\n",
    "    # OverallQual\n",
    "    res_df[\"overallQual\"] = category_to_num(df, train_df, \"OverallQual\", racc)\n",
    "\n",
    "    # OverallCond\n",
    "    res_df[\"overallCond\"] = category_to_num(df, train_df, \"BldgType\", racc)\n",
    "\n",
    "    # YearBuilt\n",
    "    _df = pd.DataFrame(data={\"YearBuilt\": train_df.YearBuilt.values,\n",
    "                                       \"SalePrice\": train_df.SalePrice.values},\n",
    "                                 index=train_df.index)\n",
    "    _df[\"YearBuilt\"] = round(_df[\"YearBuilt\"], -1)\n",
    "    _df.YearBuilt.replace({1870: 1890, 1880: 1890}, inplace=True)\n",
    "    _sr = _df.groupby(\"YearBuilt\").SalePrice.median()\n",
    "    \n",
    "    res_df[\"yearBuilt\"] = round(df[\"YearBuilt\"], -1)\n",
    "    res_df[\"yearBuilt\"].replace({1870: 1890, 1880: 1890}, inplace=True)\n",
    "    res_df[\"yearBuilt\"] = round(res_df.yearBuilt.map(_sr.to_dict()) / _sr.max(), racc)\n",
    "\n",
    "    # YearRemodAdd\n",
    "    _df = pd.DataFrame(data={\"YearRemodAdd\": data.YearRemodAdd.values,\n",
    "                             \"SalePrice\": data.SalePrice.values},\n",
    "                       index=data.index)\n",
    "    \n",
    "    _df[\"YearRemodAdd\"] = round(_df[\"YearRemodAdd\"], -1)\n",
    "    _df.YearRemodAdd.replace({1870: 1890, 1880: 1890}, inplace=True)\n",
    "\n",
    "    _sr = _df.groupby(\"YearRemodAdd\").SalePrice.median()\n",
    "    \n",
    "    res_df[\"yearRemod\"] = round(df[\"YearRemodAdd\"], -1)\n",
    "    res_df[\"yearRemod\"].replace({1870: 1890, 1880: 1890}, inplace=True)\n",
    "    res_df[\"yearRemod\"] = round(res_df.yearRemod.map(_sr.to_dict()) / _sr.max(), racc)\n",
    "\n",
    "    # RoofStyle\n",
    "    res_df[\"gableRoof\"] = (df.RoofStyle == \"Gable\").astype(np.int64)\n",
    "    res_df[\"hipRoof\"] = (df.RoofStyle == \"Hip\").astype(np.int64)\n",
    "\n",
    "    # MasVnrType\n",
    "    res_df[\"masBrkFace\"] = (df.MasVnrType == \"BrkFace\").astype(np.int64)\n",
    "    res_df[\"masBrkCmn\"] = (df.MasVnrType == \"BrkCmn\").astype(np.int64)\n",
    "    res_df[\"masStone\"] = (df.MasVnrType == \"Stone\").astype(np.int64)\n",
    "\n",
    "    # MasVnrArea\n",
    "    for _df in [df, train_df]:\n",
    "        _df.MasVnrArea.fillna(0, inplace=True)\n",
    "    res_df[\"masVnrArea\"] = df.MasVnrArea\n",
    "\n",
    "    # ExterQual\n",
    "    for _df in [df, train_df]:\n",
    "        _df.ExterQual.replace(\n",
    "            {\"Ex\": 5, \"Gd\": 4, \"TA\": 3, \"Fa\": 2, \"Po\": 1}, inplace=True)\n",
    "\n",
    "    res_df[\"exterQual\"] = category_to_num(df, train_df, \"ExterQual\", racc)\n",
    "\n",
    "    # ExterCond\n",
    "    for _df in [df, train_df]:\n",
    "        _df.ExterCond.replace(\n",
    "            {\"Ex\": 5, \"Gd\": 4, \"TA\": 3, \"Fa\": 2, \"Po\": 1}, inplace=True)\n",
    "\n",
    "    res_df[\"exterCond\"] = category_to_num(df, train_df, \"ExterCond\", racc)\n",
    "\n",
    "    # Foundation\n",
    "    for _df in [df, train_df]:\n",
    "        _df.Foundation.replace(\n",
    "            {\"Stone\": \"Other\", \"Wood\": \"Other\", \"Slab\": \"Other\"}, inplace=True)\n",
    "\n",
    "    res_df[\"foundPConc\"] = (df[\"Foundation\"] == \"PConc\").astype(np.int64)\n",
    "    res_df[\"foundCBlock\"] = (df[\"Foundation\"] == \"CBlock\").astype(np.int64)\n",
    "    res_df[\"foundBrkTil\"] = (df[\"Foundation\"] == \"BrkTil\").astype(np.int64)\n",
    "\n",
    "    # BsmtQual\n",
    "    for _df in [df, train_df]:\n",
    "         _df.BsmtQual.fillna(0, inplace=True)\n",
    "         _df.BsmtQual.replace(\n",
    "            {\"Ex\": 5, \"Gd\": 4, \"TA\": 3, \"Fa\": 2, \"Po\": 1}, inplace=True)\n",
    "\n",
    "    res_df[\"bsmtQual\"] = category_to_num(df, train_df, \"BsmtQual\", racc)\n",
    "\n",
    "    # BsmtCond \n",
    "    for _df in [df, train_df]:\n",
    "         _df.BsmtCond.fillna(0, inplace=True)\n",
    "         _df.BsmtCond.replace(\n",
    "            {\"Ex\": 5, \"Gd\": 4, \"TA\": 3, \"Fa\": 2, \"Po\": 1}, inplace=True)\n",
    "\n",
    "    res_df[\"bsmtCond\"] = category_to_num(df, train_df, \"BsmtCond\", racc)\n",
    "\n",
    "    # BsmtExposure \n",
    "    for _df in [df, train_df]:\n",
    "        _df.BsmtExposure.replace({\"Gd\": 3, \"Av\": 2, \"Mn\": 1, \"No\": 0}, inplace=True)\n",
    "        _df.BsmtExposure.fillna(0, inplace=True)\n",
    "\n",
    "    res_df[\"bsmtExpo\"] = category_to_num(df, train_df, \"BsmtExposure\", racc)\n",
    "\n",
    "    # BsmtFinType1\n",
    "    for _df in [df, train_df]:\n",
    "        _df.BsmtFinType1.fillna(\"NA\", inplace=True)\n",
    "\n",
    "    res_df[\"bsmtFunType1\"] = category_to_num(df, train_df, \"BsmtFinType1\", racc)\n",
    "\n",
    "    # BsmtFinSF1\n",
    "    for _df in [df, train_df]:\n",
    "        _df.BsmtFinSF1.fillna(0, inplace=True)\n",
    "    res_df[\"bsmtFinSF1\"] = pow(df.BsmtFinSF1 / 100, 2)\n",
    "\n",
    "    # TotalBsmtSF \n",
    "    for _df in [df, train_df]:\n",
    "        _df.TotalBsmtSF.fillna(0, inplace=True)\n",
    "    res_df[\"totalBsmtSF\"] = pow(df.TotalBsmtSF / 50, 2)\n",
    "\n",
    "    # HeatingQC \n",
    "    for _df in [df, train_df]:\n",
    "        _df.HeatingQC.replace({\"Ex\": 5, \"Gd\": 4, \"TA\": 3, \"Fa\": 2, \"Po\": 1}, inplace=True)\n",
    "\n",
    "    res_df[\"heatingQC\"] = category_to_num(df, train_df, \"HeatingQC\", racc)\n",
    "\n",
    "    # CentralAir \n",
    "    res_df[\"centralAir\"] = (df.CentralAir == \"Y\").astype(np.int64)\n",
    "\n",
    "    # Electrical\n",
    "    res_df[\"electr\"] = (df.Electrical == \"SBrkr\").astype(np.int64)\n",
    "\n",
    "    # 1stFlrSF \n",
    "    res_df[\"1stFlrSF\"] = pow(df[\"1stFlrSF\"] / 10, 1/2)\n",
    "\n",
    "    # 2ndFlrSF \n",
    "    res_df[\"2ndFltSF\"] = pow(df[\"2ndFlrSF\"] / 50, 1/2)\n",
    "\n",
    "    # LowQualFinSF \n",
    "    res_df[\"lowQualFin\"] = (df.LowQualFinSF == 0).astype(np.int64)\n",
    "\n",
    "    # GrLivArea \n",
    "    res_df[\"GrLivArea\"] = df.GrLivArea\n",
    "\n",
    "    # FullBath\n",
    "    for _df in [df, train_df]:\n",
    "        _df.FullBath.fillna(0, inplace=True)\n",
    "\n",
    "    res_df[\"fullBath\"] = category_to_num(df, train_df, \"FullBath\", racc)\n",
    "\n",
    "    # KitchenQual \n",
    "    for _df in [df, train_df]:\n",
    "        _df.KitchenQual.fillna(\"TA\", inplace=True)\n",
    "        _df.KitchenQual.replace(\n",
    "            {\"Ex\": 5, \"Gd\": 4, \"TA\": 3, \"Fa\": 2, \"Po\": 1}, inplace=True)\n",
    "\n",
    "    res_df[\"kitQual\"] = category_to_num(df, train_df, \"KitchenQual\", racc)\n",
    "\n",
    "    # TotRmsAbvGrd\n",
    "    for _df in [df, train_df]:\n",
    "        _df.TotRmsAbvGrd.fillna(2, inplace=True)\n",
    "\n",
    "    res_df[\"totRmsAbvGrd\"] = df.TotRmsAbvGrd.map(\n",
    "        {2: 1, 3: 1, 4: 2, 5: 3, 6: 4, 7: 5, 8: 6, 9: 7, 10: 8, 11: 8, 12: 8, 13: 8, 14: 8, 15: 8})\n",
    "\n",
    "    # Functional \n",
    "    for _df in [df, train_df]:\n",
    "        _df.Functional.fillna(\"Typ\", inplace=True)\n",
    "        _df.Functional.replace(\n",
    "            {\"Maj1\": 0, \"Maj2\": 0, \"Min1\": 0, \"Min2\": 0, \"Mod\": 0, \"Sev\": 0, \"Typ\": 1},\n",
    "            inplace=True,\n",
    "        )\n",
    "\n",
    "    res_df[\"func\"] = df.Functional.map({0: 0.8, 1: 1})\n",
    "\n",
    "    # Fireplaces\n",
    "    for _df in [df, train_df]:\n",
    "        _df.Fireplaces.fillna(0, inplace=True)\n",
    "    res_df[\"fireplaces\"] = category_to_num(df, train_df, \"Fireplaces\", racc)\n",
    "\n",
    "    # FireplaceQu\n",
    "    for _df in [df, train_df]:\n",
    "        _df.FireplaceQu.fillna(0, inplace=True)\n",
    "        _df.FireplaceQu.replace({\"Ex\": 5, \"Gd\": 4, \"TA\": 3, \"Fa\": 2, \"Po\": 1}, inplace=True)\n",
    "\n",
    "    _sr = train_df.groupby(\"FireplaceQu\").SalePrice.median()\n",
    "    _sr[0] = 0\n",
    "    res_df[\"fireplaceQual\"] = round(\n",
    "        df.FireplaceQu.map(_sr.to_dict()) / _sr.max(), racc)\n",
    "\n",
    "    # GarageType\n",
    "    for _df in [df, train_df]:\n",
    "        _df.GarageType.fillna('NA', inplace=True)\n",
    "        _df.GarageType.replace({\"CarPort\": \"NA\", \"Basment\": \"2Types\"}, inplace=True)\n",
    "\n",
    "    res_df[\"garageType\"] = category_to_num(df, train_df, \"GarageType\", racc)\n",
    "\n",
    "    # GarageYrBlt\n",
    "    for _df in [df, train_df]:\n",
    "        _df.GarageYrBlt.fillna(0, inplace=True)\n",
    "        \n",
    "        for _id in _df.index:\n",
    "            year = _df.loc[_id, \"GarageYrBlt\"]\n",
    "            if 0 < year <= 1990:\n",
    "                _df.at[_id, \"GarageYrBlt\"] = 1990\n",
    "            elif 1990 < year <= 2000:\n",
    "                _df.at[_id, \"GarageYrBlt\"] = 2000\n",
    "            elif 2000 < year:\n",
    "                _df.at[_id, \"GarageYrBlt\"] = 2010\n",
    "\n",
    "    res_df[\"garageYrBlt\"] = category_to_num(df, train_df, \"GarageYrBlt\", racc)\n",
    "\n",
    "    # GarageFinish\n",
    "    for _df in [df, train_df]:\n",
    "        _df.GarageFinish.fillna(\"NA\", inplace=True)\n",
    "        \n",
    "    res_df[\"garageFin\"] = category_to_num(df, train_df, \"GarageFinish\", racc)\n",
    "\n",
    "    # GarageCars\n",
    "    for _df in [df, train_df]:\n",
    "        _df.GarageCars.fillna(0, inplace=True)\n",
    "\n",
    "    res_df[\"garageCars\"] = category_to_num(df, train_df, \"GarageCars\", racc)\n",
    "\n",
    "    # GarageArea\n",
    "    for _df in [df, train_df]:\n",
    "        _df.GarageArea.fillna(0, inplace=True)\n",
    "        \n",
    "    res_df[\"garageArea\"] = df.GarageArea\n",
    "\n",
    "    # GarageQual\n",
    "    for _df in [df, train_df]:\n",
    "        _df.GarageQual.fillna(1, inplace=True)\n",
    "        _df.GarageQual.replace({\"Ex\": 5, \"Gd\": 4, \"TA\": 3, \"Fa\": 2, \"Po\": 1}, inplace=True)\n",
    "\n",
    "    res_df[\"garageQual\"] = category_to_num(df, train_df, \"GarageQual\", racc)\n",
    "\n",
    "    # GarageCond\n",
    "    for _df in [df, train_df]:\n",
    "        _df.GarageCond.fillna(1, inplace=True)\n",
    "        _df.GarageCond.replace({\"Ex\": 5, \"Gd\": 5, \"TA\": 5, \"Fa\": 1, \"Po\": 1}, inplace=True)\n",
    "\n",
    "    res_df[\"garageCond\"] = category_to_num(df, train_df, \"GarageCond\", racc)\n",
    "\n",
    "    # PavedDrive\n",
    "    res_df[\"pavedDrive\"] = category_to_num(df, train_df, \"PavedDrive\", racc)\n",
    "\n",
    "    # WoodDeckSF \n",
    "    res_df[\"woodDeckSF\"] = df.WoodDeckSF\n",
    "\n",
    "    # OpenPorchSF \n",
    "    res_df[\"openPorchSF\"] = df.OpenPorchSF\n",
    "\n",
    "    # EnclosedPorch \n",
    "    res_df[\"enclosedPorch\"] = df.EnclosedPorch\n",
    "\n",
    "    # ScreenPorch \n",
    "    res_df[\"screenPorch\"] = df.ScreenPorch\n",
    "\n",
    "    # PoolArea \n",
    "    res_df[\"hasPool\"] = (df.PoolArea > 0).astype(np.int64)\n",
    "\n",
    "    # PoolQC \n",
    "    for _df in [df, train_df]:\n",
    "        _df.PoolQC.fillna(0, inplace=True)\n",
    "\n",
    "    res_df[\"poolQC\"] = (df.PoolQC == \"Ex\").astype(np.int64)\n",
    "\n",
    "    # Fence \n",
    "    for _df in [df, train_df]:\n",
    "        _df.Fence.fillna(\"NA\", inplace=True)\n",
    "\n",
    "    res_df[\"fence\"] = category_to_num(df, train_df, \"Fence\", racc)\n",
    "\n",
    "    # MiscFeature \n",
    "    for _df in [df, train_df]:\n",
    "        _df.MiscFeature.fillna(\"NA\", inplace=True)\n",
    "\n",
    "    res_df[\"miscFeature\"] = category_to_num(df, train_df, \"MiscFeature\", racc)\n",
    "\n",
    "    # SaleType \n",
    "    for _df in [df, train_df]:\n",
    "        _df.SaleType.fillna(\"Other\", inplace=True)\n",
    "        _df.SaleType.replace({\"COD\": \"Other\", \"CWD\": \"Other\", \"Con\": \"Other\", \"ConLD\": \"Other\",\n",
    "                              \"ConLI\": \"Other\", \"ConLw\": \"Other\", \"Oth\": \"Other\"},\n",
    "                             inplace=True)\n",
    "\n",
    "    res_df[\"saleType\"] = category_to_num(df, train_df, \"SaleType\", racc)\n",
    "\n",
    "    # SaleCondition \n",
    "    res_df[\"saleCond\"] = category_to_num(df, train_df, \"SaleCondition\", racc)\n",
    "\n",
    "    return res_df"
   ]
  },
  {
   "cell_type": "markdown",
   "id": "1ab3ff16-7029-417e-8b29-7b157afbf04e",
   "metadata": {},
   "source": [
    "# Machine Learning\n",
    "## Load data"
   ]
  },
  {
   "cell_type": "code",
   "execution_count": null,
   "id": "221739a2-3d1b-4c9d-9fff-344732621dcd",
   "metadata": {},
   "outputs": [],
   "source": [
    "train_data = pd.read_csv(\"data/train.csv\", index_col=\"Id\")\n",
    "test_data = pd.read_csv(\"data/test.csv\", index_col=\"Id\")\n",
    "print(train_data.shape, test_data.shape)"
   ]
  },
  {
   "cell_type": "markdown",
   "id": "0845c756-7712-4081-b665-52240c91e7a9",
   "metadata": {},
   "source": [
    "## Preparing data"
   ]
  },
  {
   "cell_type": "code",
   "execution_count": null,
   "id": "433ef433-85ab-4267-be0d-e8756d4df032",
   "metadata": {},
   "outputs": [],
   "source": [
    "from sklearn.model_selection import train_test_split\n",
    "np.random.seed(42)"
   ]
  },
  {
   "cell_type": "code",
   "execution_count": null,
   "id": "d73e012e-aeb3-4edd-9d26-2eb8e923f371",
   "metadata": {},
   "outputs": [],
   "source": [
    "train_df = prepare_data(train_data, train_data)\n",
    "test_df = prepare_data(test_data, train_data)"
   ]
  },
  {
   "cell_type": "code",
   "execution_count": null,
   "id": "078dcd5a-778e-4891-93e9-e579565d70aa",
   "metadata": {},
   "outputs": [],
   "source": [
    "X_train, X_test, y_train, y_test = train_test_split(\n",
    "    train_df, train_data.SalePrice, test_size=0.3, random_state=42)\n",
    "print(X_train.shape, X_test.shape, y_train.shape, y_test.shape)"
   ]
  },
  {
   "cell_type": "markdown",
   "id": "584410f6-034f-442f-a99b-64a694703c76",
   "metadata": {},
   "source": [
    "## Training\n",
    "### LinrearRegression\n",
    "#### Train data"
   ]
  },
  {
   "cell_type": "code",
   "execution_count": null,
   "id": "84da123c-95d6-4859-bda6-8cd06121cb80",
   "metadata": {},
   "outputs": [],
   "source": [
    "from sklearn.linear_model import LinearRegression\n",
    "from sklearn.metrics import mean_squared_error"
   ]
  },
  {
   "cell_type": "code",
   "execution_count": null,
   "id": "971f7548-213a-497a-8047-2b0c46f779a8",
   "metadata": {},
   "outputs": [],
   "source": [
    "reg = LinearRegression(n_jobs=-1).fit(X_train, y_train)\n",
    "print(reg.score(X_train, y_train), reg.score(X_test, y_test))"
   ]
  },
  {
   "cell_type": "code",
   "execution_count": null,
   "id": "4a183b23-b27e-4265-88b2-93e854b15eb2",
   "metadata": {},
   "outputs": [],
   "source": [
    "mean_squared_error(y_test, reg.predict(X_test), squared=False)"
   ]
  },
  {
   "cell_type": "markdown",
   "id": "3dcea850-c569-4213-a34c-04b0b11857ce",
   "metadata": {},
   "source": [
    "#### Test data\n",
    "Score at kaggle: 0.35376"
   ]
  },
  {
   "cell_type": "code",
   "execution_count": null,
   "id": "ea63a909-22de-4b8f-b1d4-bf978ca0e597",
   "metadata": {},
   "outputs": [],
   "source": [
    "pd.DataFrame(\n",
    "    pd.Series(reg.predict(test_df), index=test_df.index),\n",
    "    index=test_df.index,\n",
    "    columns=[\"SalePrice\"]\n",
    ").to_csv(\"predictions_reg.csv\")"
   ]
  },
  {
   "cell_type": "markdown",
   "id": "b484bea7-fc45-4a7c-b327-6438d1b86fdb",
   "metadata": {},
   "source": [
    "### KNeighborsRegressor\n",
    "#### Train data"
   ]
  },
  {
   "cell_type": "code",
   "execution_count": null,
   "id": "3c0872cf-9736-4a58-bf8d-9bbbe7e5f942",
   "metadata": {},
   "outputs": [],
   "source": [
    "from sklearn.preprocessing import StandardScaler\n",
    "from sklearn.neighbors import KNeighborsRegressor\n",
    "from sklearn.pipeline import make_pipeline\n",
    "from sklearn.model_selection import GridSearchCV"
   ]
  },
  {
   "cell_type": "code",
   "execution_count": null,
   "id": "33fe747b-9c31-4e24-b0fa-5bd34db2e0e2",
   "metadata": {},
   "outputs": [],
   "source": [
    "knn_X_scaler = StandardScaler().fit(X_train)\n",
    "knn_y_scaler = StandardScaler().fit(y_train.to_frame())\n",
    "\n",
    "knn_X_train = knn_X_scaler.transform(X_train)\n",
    "knn_y_train = knn_y_scaler.transform(y_train.to_frame())\n",
    "knn_X_test = knn_X_scaler.transform(X_test)\n",
    "knn_y_test = knn_y_scaler.transform(y_test.to_frame())\n",
    "\n",
    "knn_test_df = knn_X_scaler.transform(test_df)"
   ]
  },
  {
   "cell_type": "code",
   "execution_count": null,
   "id": "edb4978c-9847-4302-aa97-29b291dfabea",
   "metadata": {},
   "outputs": [],
   "source": [
    "# knn_clf = GridSearchCV(\n",
    "#     KNeighborsRegressor(n_jobs=-1),\n",
    "#     {\n",
    "#         \"algorithm\": [\"ball_tree\", \"kd_tree\", \"brute\"],\n",
    "#         \"n_neighbors\": range(1, 21),  # range(1, 21),\n",
    "#         \"leaf_size\": [20, 30, 40],  # [2, 3, 5, 10, 15, 20, 25, 30, 35, 40, 45, 50],\n",
    "#     },\n",
    "#     n_jobs=-1,\n",
    "#     cv=5,\n",
    "# )\n",
    "\n",
    "# knn_clf.fit(knn_X_train, knn_y_train)\n",
    "\n",
    "# print(knn_clf.best_score_, knn_clf.best_estimator_)"
   ]
  },
  {
   "cell_type": "code",
   "execution_count": null,
   "id": "25c0b7e1-fefe-4db2-8534-f0de50f77fc8",
   "metadata": {},
   "outputs": [],
   "source": [
    "knn = KNeighborsRegressor(algorithm='ball_tree', leaf_size=20, n_jobs=-1, n_neighbors=7)\n",
    "knn.fit(knn_X_train, knn_y_train)\n",
    "\n",
    "print(knn.score(knn_X_train, knn_y_train), knn.score(knn_X_test, knn_y_test))"
   ]
  },
  {
   "cell_type": "markdown",
   "id": "4d972c90-a039-4655-b7a2-30885f003159",
   "metadata": {},
   "source": [
    "#### Test data\n",
    "Score at kaggle: 11.56581"
   ]
  },
  {
   "cell_type": "code",
   "execution_count": null,
   "id": "b87de0a7-08f4-4805-b74e-c2894da8a6f5",
   "metadata": {},
   "outputs": [],
   "source": [
    "pd.DataFrame(\n",
    "    pd.Series(abs(knn.predict(knn_test_df)).reshape(-1), index=test_df.index),\n",
    "    index=test_df.index,\n",
    "    columns=[\"SalePrice\"]\n",
    ").to_csv(\"predictions_knn.csv\")"
   ]
  },
  {
   "cell_type": "markdown",
   "id": "447be781-e711-4ca3-8207-7d7afb8f01d4",
   "metadata": {},
   "source": [
    "### DescisionTree\n",
    "#### Train data"
   ]
  },
  {
   "cell_type": "code",
   "execution_count": null,
   "id": "b202f678-a5f3-4e16-a2e7-2591ea13b09d",
   "metadata": {},
   "outputs": [],
   "source": [
    "from sklearn.tree import DecisionTreeRegressor"
   ]
  },
  {
   "cell_type": "code",
   "execution_count": null,
   "id": "6e5c3978-791c-4ccf-b609-5c5f1ea9684d",
   "metadata": {},
   "outputs": [],
   "source": [
    "dt = DecisionTreeRegressor(max_depth=7, random_state=42)\n",
    "dt.fit(X_train, y_train)\n",
    "\n",
    "print(dt.score(X_train, y_train), dt.score(X_test, y_test))"
   ]
  },
  {
   "cell_type": "code",
   "execution_count": null,
   "id": "32342f7a-6461-4a62-921a-1318266eb66e",
   "metadata": {},
   "outputs": [],
   "source": [
    "# dt_clf = GridSearchCV(\n",
    "#     DecisionTreeRegressor(random_state=42),\n",
    "#     {\n",
    "#         \"max_depth\": range(1, 15),\n",
    "#         \"min_samples_split\": range(2, 11),\n",
    "#         \"min_samples_leaf\": range(1, 16),\n",
    "#     },\n",
    "#     n_jobs=-1,\n",
    "#     cv=5,\n",
    "#     verbose=4,\n",
    "# )\n",
    "\n",
    "# dt_clf.fit(X_train, y_train)\n",
    "# print(dt_clf.best_score_, dt_clf.best_estimator_)"
   ]
  },
  {
   "cell_type": "code",
   "execution_count": null,
   "id": "d1703b4b-73cd-4460-83fd-efcec7dae3f2",
   "metadata": {},
   "outputs": [],
   "source": [
    "dt = DecisionTreeRegressor(max_depth=12, min_samples_leaf=8, random_state=42)\n",
    "dt.fit(X_train, y_train)\n",
    "print(dt.score(X_train, y_train), dt.score(X_test, y_test))"
   ]
  },
  {
   "cell_type": "markdown",
   "id": "30d9f46a-ea7a-4bfe-a646-7103f33993d4",
   "metadata": {},
   "source": [
    "#### Test data\n",
    "Score at kaggle: 0.19643"
   ]
  },
  {
   "cell_type": "code",
   "execution_count": null,
   "id": "1ba0e8bc-426c-41ec-a28f-dc3e393128b3",
   "metadata": {},
   "outputs": [],
   "source": [
    "pd.DataFrame(\n",
    "    pd.Series(dt.predict(test_df), index=test_df.index),\n",
    "    index=test_df.index,\n",
    "    columns=[\"SalePrice\"]\n",
    ").to_csv(\"predictions_dt.csv\")"
   ]
  },
  {
   "cell_type": "markdown",
   "id": "d88afa2f-503e-41fc-9c29-4828c58c5396",
   "metadata": {},
   "source": [
    "### RandomForestRegressor\n",
    "#### Train data"
   ]
  },
  {
   "cell_type": "code",
   "execution_count": null,
   "id": "e8a8e0b1-aff2-4cc4-b862-05a5e1eb0243",
   "metadata": {},
   "outputs": [],
   "source": [
    "from sklearn.ensemble import RandomForestRegressor"
   ]
  },
  {
   "cell_type": "code",
   "execution_count": null,
   "id": "0eb8b4a9-14b1-45d0-a80a-ab0635454f1a",
   "metadata": {},
   "outputs": [],
   "source": [
    "rf = RandomForestRegressor(n_estimators=10, max_depth=9, random_state=42, n_jobs=-1)\n",
    "rf.fit(X_train, y_train)\n",
    "\n",
    "print(rf.score(X_train, y_train), rf.score(X_test, y_test))"
   ]
  },
  {
   "cell_type": "code",
   "execution_count": null,
   "id": "884e2a29-e7a0-4c20-b92d-660be0eadf41",
   "metadata": {},
   "outputs": [],
   "source": [
    "# rf_clf = GridSearchCV(\n",
    "#     RandomForestRegressor(\n",
    "#         n_estimators=42, max_depth=12, random_state=42, n_jobs=-1),\n",
    "#     {\n",
    "#         # \"criterion\": [\"squared_error\", \"absolute_error\", \"friedman_mse\", \"poisson\"],\n",
    "#         # \"n_estimators\": range(40, 91),\n",
    "#         # \"max_depth\": range(1, 16),\n",
    "#         \"min_samples_split\": range(2, 51),\n",
    "#         \"min_samples_leaf\": range(1, 31),\n",
    "#     },\n",
    "#     n_jobs=-1,\n",
    "#     cv=5,\n",
    "#     verbose=2,\n",
    "# )\n",
    "\n",
    "# rf_clf.fit(X_train, y_train)\n",
    "# print(rf_clf.best_score_, rf_clf.best_estimator_)"
   ]
  },
  {
   "cell_type": "code",
   "execution_count": null,
   "id": "59a56cc0-6cdf-4f65-8e35-c58da7757999",
   "metadata": {},
   "outputs": [],
   "source": [
    "rf = RandomForestRegressor(n_estimators=420, max_depth=12, random_state=42, n_jobs=-1)\n",
    "rf.fit(X_train, y_train)\n",
    "\n",
    "print(rf.score(X_train, y_train), rf.score(X_test, y_test))"
   ]
  },
  {
   "cell_type": "markdown",
   "id": "597c9279-4572-4821-b123-dca1481f1a03",
   "metadata": {},
   "source": [
    "#### Test data\n",
    "Score at kaggle: 0.14918\n"
   ]
  },
  {
   "cell_type": "code",
   "execution_count": null,
   "id": "00b904fb-927d-42bc-b3b6-6ea6dc787950",
   "metadata": {},
   "outputs": [],
   "source": [
    "pd.DataFrame(\n",
    "    pd.Series(rf.predict(test_df), index=test_df.index),\n",
    "    index=test_df.index,\n",
    "    columns=[\"SalePrice\"]\n",
    ").to_csv(\"predictions_rf.csv\")"
   ]
  },
  {
   "cell_type": "markdown",
   "id": "066513a2-c5ed-4d9d-bc90-9eee0418ec70",
   "metadata": {},
   "source": [
    "### SGDRegressor\n",
    "#### Train data"
   ]
  },
  {
   "cell_type": "code",
   "execution_count": null,
   "id": "6e28b8db-d6fe-4828-962b-2afe5c47fa8f",
   "metadata": {},
   "outputs": [],
   "source": [
    "from sklearn.linear_model import SGDRegressor\n",
    "from sklearn.pipeline import make_pipeline\n",
    "from sklearn.preprocessing import StandardScaler"
   ]
  },
  {
   "cell_type": "code",
   "execution_count": null,
   "id": "b2dfc892-62e6-4ff8-8690-c7654685c549",
   "metadata": {},
   "outputs": [],
   "source": [
    "sgd_reg = make_pipeline(StandardScaler(),\n",
    "                        SGDRegressor(max_iter=10000, alpha=0.0001, random_state=42))\n",
    "sgd_reg.fit(X_train, y_train)\n",
    "\n",
    "print(sgd_reg.score(X_train, y_train), sgd_reg.score(X_test, y_test))"
   ]
  },
  {
   "cell_type": "code",
   "execution_count": null,
   "id": "65a2d967-380e-4bcb-b56f-de9bed334ff8",
   "metadata": {},
   "outputs": [],
   "source": [
    "sgd_clf = make_pipeline(\n",
    "    StandardScaler(),\n",
    "    GridSearchCV(\n",
    "        SGDRegressor(random_state=42, max_iter=10000),\n",
    "        {\n",
    "            \"alpha\": [n / 100000 for n in range(1, 1001)],\n",
    "        },\n",
    "        n_jobs=-1,\n",
    "        cv=5,\n",
    "        verbose=2,\n",
    "    )\n",
    ")\n",
    "\n",
    "sgd_clf.fit(X_train, y_train)\n",
    "# print(sgd_clf.best_score_, sgd_clf.best_estimator_)"
   ]
  },
  {
   "cell_type": "code",
   "execution_count": null,
   "id": "1e7ed91c-6f41-4988-8e35-0cc8eba056d5",
   "metadata": {},
   "outputs": [],
   "source": [
    "print(sgd_clf.score(X_train, y_train), sgd_clf.score(X_test, y_test))"
   ]
  },
  {
   "cell_type": "markdown",
   "id": "f09df4f5-97ff-44d8-854d-c7fc4793f246",
   "metadata": {},
   "source": [
    "### XGBoost\n",
    "#### Train data"
   ]
  },
  {
   "cell_type": "code",
   "execution_count": null,
   "id": "21869616-6c64-477b-9cb9-2fbfcf63f09b",
   "metadata": {},
   "outputs": [],
   "source": [
    "from xgboost import XGBRegressor\n",
    "from sklearn.model_selection import RandomizedSearchCV"
   ]
  },
  {
   "cell_type": "code",
   "execution_count": null,
   "id": "117dba01-9067-4f6f-bc5c-d94386bb7eb8",
   "metadata": {},
   "outputs": [],
   "source": [
    "xgr = XGBRegressor(n_estimators=20, max_depth=5, n_jobs=-1, random_state=42)\n",
    "xgr.fit(X_train, y_train)\n",
    "\n",
    "print(xgr.score(X_train, y_train), xgr.score(X_test, y_test))"
   ]
  },
  {
   "cell_type": "code",
   "execution_count": null,
   "id": "db9fc237-25e2-4e31-bd24-2c66a53c0093",
   "metadata": {},
   "outputs": [],
   "source": [
    "# xgr_rand = RandomizedSearchCV(\n",
    "#     XGBRegressor(n_jobs=-1, random_state=42),\n",
    "#     {\n",
    "#         \"n_estimators\": range(10, 201),\n",
    "#         \"max_depth\": range(1, 31),\n",
    "#         \"learning_rate\": [n / 1000 for n in range(1, 1001)],\n",
    "#     },\n",
    "#     random_state=42,\n",
    "#     cv=5,\n",
    "#     n_jobs=-1,\n",
    "#     verbose=2,\n",
    "#     n_iter=100,\n",
    "# )\n",
    "\n",
    "# xgr_rand.fit(X_train, y_train)\n",
    "# print(xgr_rand.best_estimator_,\n",
    "#       xgr_rand.score(X_train, y_train),\n",
    "#       xgr_rand.score(X_test, y_test))"
   ]
  },
  {
   "cell_type": "code",
   "execution_count": null,
   "id": "c6031476-c154-4299-a52a-aa64b77ce5b3",
   "metadata": {},
   "outputs": [],
   "source": [
    "# xgr_clf = GridSearchCV(\n",
    "#     XGBRegressor(max_depth=4, learning_rate=0.01, random_state=42, n_jobs=-1),\n",
    "#     {\n",
    "#         \"n_estimators\": range(500, 801, 10)\n",
    "#         # \"max_depth\": range(2, 51),\n",
    "#         # \"learning_rate\": [n / 1000000 for n in range(1, 101)],\n",
    "#     },\n",
    "#     cv=10,\n",
    "#     n_jobs=-1,\n",
    "#     verbose=2,\n",
    "# )\n",
    "\n",
    "# xgr_clf.fit(X_train, y_train)\n",
    "# print(xgr_clf.best_estimator_,\n",
    "#       xgr_clf.score(X_train, y_train),\n",
    "#       xgr_clf.score(X_test, y_test))"
   ]
  },
  {
   "cell_type": "code",
   "execution_count": null,
   "id": "35e98f90-c980-4db5-9cbd-ecc19ba7a58e",
   "metadata": {},
   "outputs": [],
   "source": [
    "xgr = XGBRegressor(\n",
    "    n_estimators=800, learning_rate=0.01, max_depth=4, n_jobs=-1, random_state=42)\n",
    "xgr.fit(X_train, y_train)\n",
    "\n",
    "print(xgr.score(X_train, y_train), xgr.score(X_test, y_test))"
   ]
  },
  {
   "cell_type": "markdown",
   "id": "8a25ca76-b7ea-4871-84be-0b84d0bd3d68",
   "metadata": {},
   "source": [
    "#### Test data"
   ]
  },
  {
   "cell_type": "code",
   "execution_count": null,
   "id": "9337012a-4222-46ef-899b-6b56ee9577d0",
   "metadata": {},
   "outputs": [],
   "source": [
    "pd.DataFrame(\n",
    "    pd.Series(xgr.predict(test_df), index=test_df.index),\n",
    "    index=test_df.index,\n",
    "    columns=[\"SalePrice\"]\n",
    ").to_csv(\"predictions_xgr.csv\")"
   ]
  },
  {
   "cell_type": "markdown",
   "id": "68377bfb-0e5a-4309-a07b-6593d36841c4",
   "metadata": {},
   "source": [
    "### CatBoostRegressor\n",
    "#### Train data"
   ]
  },
  {
   "cell_type": "code",
   "execution_count": null,
   "id": "4cb770dd-5184-4369-acb3-52e314a1c044",
   "metadata": {},
   "outputs": [],
   "source": [
    "from catboost import CatBoostRegressor"
   ]
  },
  {
   "cell_type": "code",
   "execution_count": null,
   "id": "5ce63f2d-eabe-485b-97a9-5f01f4d1ee29",
   "metadata": {},
   "outputs": [],
   "source": [
    "cbr = CatBoostRegressor(iterations=900, depth=6, verbose=0)\n",
    "cbr.fit(X_train, y_train)\n",
    "\n",
    "print(cbr.score(X_train, y_train), cbr.score(X_test, y_test))"
   ]
  },
  {
   "cell_type": "code",
   "execution_count": null,
   "id": "234fc1c7-809d-412c-89be-b6d7ab3436c6",
   "metadata": {},
   "outputs": [],
   "source": [
    "# cbr_clf = GridSearchCV(\n",
    "#     CatBoostRegressor(depth=6, random_state=42, verbose=0),\n",
    "#     {\n",
    "#         \"iterations\": range(50, 1001, 50),\n",
    "#         # \"depth\": range(1, 16),\n",
    "#         # \"learning_rate\": [n / 100 for n in range(1, 101, 5)],\n",
    "#     },\n",
    "#     cv=5,\n",
    "#     n_jobs=-1,\n",
    "#     verbose=2\n",
    "# )\n",
    "# cbr_clf.fit(X_train, y_train)\n",
    "\n",
    "# print(cbr_clf.best_estimator_.get_all_params())\n",
    "# print(cbr_clf.score(X_train, y_train), cbr_clf.score(X_test, y_test))"
   ]
  },
  {
   "cell_type": "markdown",
   "id": "6e2f400c-8bbd-45ac-a690-6bead4995b6d",
   "metadata": {},
   "source": [
    "#### Test data"
   ]
  },
  {
   "cell_type": "code",
   "execution_count": null,
   "id": "37f253cb-7841-46d6-8a75-199fbc651526",
   "metadata": {},
   "outputs": [],
   "source": [
    "pd.DataFrame(\n",
    "    pd.Series(cbr.predict(test_df), index=test_df.index),\n",
    "    index=test_df.index,\n",
    "    columns=[\"SalePrice\"]\n",
    ").to_csv(\"predictions_cbr.csv\")"
   ]
  },
  {
   "cell_type": "markdown",
   "id": "00eac698-da43-4d6f-9a56-75a2ed6df2cb",
   "metadata": {},
   "source": [
    "### LGBMRegressor\n",
    "#### Train data"
   ]
  },
  {
   "cell_type": "code",
   "execution_count": null,
   "id": "7da9933a-489b-4bb2-9e18-b9fb121eafff",
   "metadata": {},
   "outputs": [],
   "source": [
    "from lightgbm import LGBMRegressor"
   ]
  },
  {
   "cell_type": "code",
   "execution_count": null,
   "id": "0a293ce1-12c5-4f8a-851f-0afd8784a118",
   "metadata": {
    "scrolled": true
   },
   "outputs": [],
   "source": [
    "lgb_clf = GridSearchCV(\n",
    "    LGBMRegressor(n_estimators=50, n_jobs=-1, random_state=42, verbose=-1),\n",
    "    {\n",
    "        \"max_depth\": range(1, 8),\n",
    "        \"boosting_type\": [\"gbdt\", \"dart\", \"rf\"],\n",
    "        \"learning_rate\": [n / 100 for n in range(1, 101, 10)],\n",
    "    },\n",
    "    cv=5,\n",
    "    n_jobs=-1,\n",
    "    verbose=2,\n",
    ")\n",
    "\n",
    "lgb_clf.fit(X_train, y_train)\n",
    "\n",
    "print(lgb_clf.best_estimator_.get_params())\n",
    "print(lgb_clf.score(X_train, y_train), lgb_clf.score(X_test, y_test))"
   ]
  },
  {
   "cell_type": "code",
   "execution_count": null,
   "id": "c473063d-1ae9-46d6-964f-6ae9548165de",
   "metadata": {},
   "outputs": [],
   "source": [
    "lgb = LGBMRegressor(n_estimators=340,\n",
    "                    max_depth=3,\n",
    "                    boosting_type=\"gbdt\",\n",
    "                    learning_rate=0.1,\n",
    "                    n_jobs=-1,\n",
    "                    random_state=42,\n",
    "                    verbose=-1)\n",
    "\n",
    "lgb.fit(X_train, y_train)\n",
    "print(lgb.score(X_train, y_train), lgb.score(X_test, y_test))"
   ]
  },
  {
   "cell_type": "markdown",
   "id": "afddead8-30fa-4eda-af44-cd6056c0a627",
   "metadata": {},
   "source": [
    "#### Test data"
   ]
  },
  {
   "cell_type": "code",
   "execution_count": null,
   "id": "3d8878d0-b626-40c4-b1cd-40e03c3a30c8",
   "metadata": {},
   "outputs": [],
   "source": [
    "pd.DataFrame(\n",
    "    pd.Series(lgb.predict(test_df), index=test_df.index),\n",
    "    index=test_df.index,\n",
    "    columns=[\"SalePrice\"]\n",
    ").to_csv(\"predictions_lgb.csv\")"
   ]
  },
  {
   "cell_type": "markdown",
   "id": "c768bc81-47ea-4195-8e68-08b1eb8be6c2",
   "metadata": {},
   "source": [
    "### Combinations of different machine learning models\n",
    "#### Train data"
   ]
  },
  {
   "cell_type": "code",
   "execution_count": null,
   "id": "a63c702f-e6e3-4c84-8526-c0b90a0333e5",
   "metadata": {},
   "outputs": [],
   "source": [
    "from sklearn.model_selection import KFold, cross_val_score"
   ]
  },
  {
   "cell_type": "code",
   "execution_count": null,
   "id": "b12220dd-90ac-48e6-890a-6f74c1781834",
   "metadata": {},
   "outputs": [],
   "source": [
    "legend_models = {\n",
    "    # \"lr\": LinearRegression(n_jobs=-1),\n",
    "    \"catboost\": CatBoostRegressor(verbose=0),\n",
    "    \"xgb\": XGBRegressor(n_estimators=800, learning_rate=0.01, max_depth=4, n_jobs=-1, random_state=42),\n",
    "    \"lgbm\": LGBMRegressor(n_estimators=340, max_depth=3, boosting_type=\"gbdt\", learning_rate=0.1, n_jobs=-1, random_state=42, verbose=-1),\n",
    "    # \"dt\": DecisionTreeRegressor(max_depth=12, min_samples_leaf=8, random_state=42),\n",
    "    \"rf\": RandomForestRegressor(n_estimators=420, max_depth=12, random_state=42, n_jobs=-1),\n",
    "}\n",
    "\n",
    "for name, model in legend_models.items():\n",
    "    model.fit(X_train, y_train)\n",
    "    print(f\"{name!r} trained\")\n",
    "\n",
    "for name, model in legend_models.items():\n",
    "    print(f\"{name!r} train score: {model.score(X_train, y_train)}, test score: {model.score(X_test, y_test)}\")"
   ]
  },
  {
   "cell_type": "code",
   "execution_count": null,
   "id": "03d0482c-d673-46e5-bc09-485709e8143f",
   "metadata": {},
   "outputs": [],
   "source": [
    "_X_train, _X_test  = pd.DataFrame(), pd.DataFrame()\n",
    "for X_df, _X_df in [(X_train, _X_train), (X_test, _X_test)]:\n",
    "    for name, model in legend_models.items():\n",
    "        _X_df[name] = model.predict(X_df)\n",
    "\n",
    "    _X_df[\"Id\"] = X_df.index.to_list()\n",
    "    _X_df.set_index(\"Id\", inplace=True)\n",
    "\n",
    "    _X_df[\"mean\"] = _X_df.mean(axis=1)\n",
    "    _X_df[\"median\"] = _X_df.median(axis=1)"
   ]
  },
  {
   "cell_type": "code",
   "execution_count": null,
   "id": "a027622f-ad68-41be-b148-132daadf941f",
   "metadata": {},
   "outputs": [],
   "source": [
    "# leg_rf_clf = GridSearchCV(\n",
    "#     RandomForestRegressor(n_estimators=42, max_depth=11, random_state=42, n_jobs=-1),\n",
    "#     {\n",
    "#         # \"max_depth\": range(1, 15),\n",
    "#         # \"min_samples_split\": range(2, 51, 3),\n",
    "#         # \"min_samples_leaf\": range(1, 31, 3),\n",
    "#         \"n_estimators\": range(50, 801, 50),\n",
    "#     },\n",
    "#     cv=5,\n",
    "#     n_jobs=-1,\n",
    "#     verbose=2,\n",
    "# )\n",
    "\n",
    "# leg_rf_clf.fit(_X_train, y_train)\n",
    "# print(leg_rf_clf.best_score_, leg_rf_clf.best_estimator_)"
   ]
  },
  {
   "cell_type": "code",
   "execution_count": null,
   "id": "751a4012-363d-4ca0-8ed9-a88a98ec76f6",
   "metadata": {},
   "outputs": [],
   "source": [
    "leg_rf = RandomForestRegressor(n_estimators=800, max_depth=11, random_state=42, verbose=0)\n",
    "leg_rf.fit(_X_train, y_train)\n",
    "\n",
    "print(leg_rf.score(_X_train, y_train), leg_rf.score(_X_test, y_test))"
   ]
  },
  {
   "cell_type": "markdown",
   "id": "bbf35bb8-136e-406d-8d60-5e83e1a0c011",
   "metadata": {},
   "source": [
    "#### Test data"
   ]
  },
  {
   "cell_type": "code",
   "execution_count": null,
   "id": "95951397-ba34-4a81-893a-7ba42c038e4f",
   "metadata": {},
   "outputs": [],
   "source": [
    "legend_preds = pd.DataFrame()\n",
    "\n",
    "for name, model in legend_models.items():\n",
    "    legend_preds[name] = model.predict(test_df)\n",
    "    # legend_preds.update({name: model.predict(test_df)})\n",
    "\n",
    "legend_preds[\"Id\"] = test_df.index.to_list()\n",
    "legend_preds.set_index(\"Id\", inplace=True)\n",
    "\n",
    "legend_preds[\"mean\"] = legend_preds.mean(axis=1)\n",
    "legend_preds[\"median\"] = legend_preds.median(axis=1)"
   ]
  },
  {
   "cell_type": "code",
   "execution_count": null,
   "id": "64a99510-70b5-4066-8a25-5a943db75828",
   "metadata": {},
   "outputs": [],
   "source": [
    "pd.DataFrame(\n",
    "    # legend_preds.mean(),\n",
    "    pd.Series(leg_rf.predict(legend_preds), index=test_df.index),\n",
    "    index=test_df.index,\n",
    "    columns=[\"SalePrice\"]\n",
    ").to_csv(\"predictions_legend_rf.csv\")"
   ]
  },
  {
   "cell_type": "code",
   "execution_count": null,
   "id": "b4318984-c96d-4af5-b19c-bb36e27950e7",
   "metadata": {},
   "outputs": [],
   "source": []
  },
  {
   "cell_type": "code",
   "execution_count": null,
   "id": "53dcf1c9-ba32-4a14-b40e-032b3758d3e5",
   "metadata": {},
   "outputs": [],
   "source": []
  },
  {
   "cell_type": "code",
   "execution_count": null,
   "id": "facb577a-edfb-45df-8c78-88530b993b47",
   "metadata": {},
   "outputs": [],
   "source": []
  },
  {
   "cell_type": "code",
   "execution_count": null,
   "id": "c98be776-ea52-4fa9-8423-4c4de2d99805",
   "metadata": {},
   "outputs": [],
   "source": []
  }
 ],
 "metadata": {
  "kernelspec": {
   "display_name": "Python 3 (ipykernel)",
   "language": "python",
   "name": "python3"
  },
  "language_info": {
   "codemirror_mode": {
    "name": "ipython",
    "version": 3
   },
   "file_extension": ".py",
   "mimetype": "text/x-python",
   "name": "python",
   "nbconvert_exporter": "python",
   "pygments_lexer": "ipython3",
   "version": "3.11.4"
  }
 },
 "nbformat": 4,
 "nbformat_minor": 5
}
